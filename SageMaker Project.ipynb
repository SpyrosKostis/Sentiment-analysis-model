{
 "cells": [
  {
   "cell_type": "markdown",
   "metadata": {},
   "source": [
    "# Creating a Sentiment Analysis Web App\n",
    "## Using PyTorch and SageMaker\n",
    "\n",
    "_Deep Learning Nanodegree Program | Deployment_\n",
    "\n",
    "---\n",
    "\n",
    "Now that we have a basic understanding of how SageMaker works we will try to use it to construct a complete project from end to end. Our goal will be to have a simple web page which a user can use to enter a movie review. The web page will then send the review off to our deployed model which will predict the sentiment of the entered review.\n",
    "\n",
    "## Instructions\n",
    "\n",
    "Some template code has already been provided for you, and you will need to implement additional functionality to successfully complete this notebook. You will not need to modify the included code beyond what is requested. Sections that begin with '**TODO**' in the header indicate that you need to complete or implement some portion within them. Instructions will be provided for each section and the specifics of the implementation are marked in the code block with a `# TODO: ...` comment. Please be sure to read the instructions carefully!\n",
    "\n",
    "In addition to implementing code, there will be questions for you to answer which relate to the task and your implementation. Each section where you will answer a question is preceded by a '**Question:**' header. Carefully read each question and provide your answer below the '**Answer:**' header by editing the Markdown cell.\n",
    "\n",
    "> **Note**: Code and Markdown cells can be executed using the **Shift+Enter** keyboard shortcut. In addition, a cell can be edited by typically clicking it (double-click for Markdown cells) or by pressing **Enter** while it is highlighted.\n",
    "\n",
    "## General Outline\n",
    "\n",
    "Recall the general outline for SageMaker projects using a notebook instance.\n",
    "\n",
    "1. Download or otherwise retrieve the data.\n",
    "2. Process / Prepare the data.\n",
    "3. Upload the processed data to S3.\n",
    "4. Train a chosen model.\n",
    "5. Test the trained model (typically using a batch transform job).\n",
    "6. Deploy the trained model.\n",
    "7. Use the deployed model.\n",
    "\n",
    "For this project, you will be following the steps in the general outline with some modifications. \n",
    "\n",
    "First, you will not be testing the model in its own step. You will still be testing the model, however, you will do it by deploying your model and then using the deployed model by sending the test data to it. One of the reasons for doing this is so that you can make sure that your deployed model is working correctly before moving forward.\n",
    "\n",
    "In addition, you will deploy and use your trained model a second time. In the second iteration you will customize the way that your trained model is deployed by including some of your own code. In addition, your newly deployed model will be used in the sentiment analysis web app."
   ]
  },
  {
   "cell_type": "markdown",
   "metadata": {},
   "source": [
    "## Step 1: Downloading the data\n",
    "\n",
    "As in the XGBoost in SageMaker notebook, we will be using the [IMDb dataset](http://ai.stanford.edu/~amaas/data/sentiment/)\n",
    "\n",
    "> Maas, Andrew L., et al. [Learning Word Vectors for Sentiment Analysis](http://ai.stanford.edu/~amaas/data/sentiment/). In _Proceedings of the 49th Annual Meeting of the Association for Computational Linguistics: Human Language Technologies_. Association for Computational Linguistics, 2011."
   ]
  },
  {
   "cell_type": "code",
   "execution_count": 1,
   "metadata": {
    "scrolled": true
   },
   "outputs": [
    {
     "name": "stdout",
     "output_type": "stream",
     "text": [
      "mkdir: cannot create directory ‘../data’: File exists\n",
      "--2020-05-24 07:24:42--  http://ai.stanford.edu/~amaas/data/sentiment/aclImdb_v1.tar.gz\n",
      "Resolving ai.stanford.edu (ai.stanford.edu)... 171.64.68.10\n",
      "Connecting to ai.stanford.edu (ai.stanford.edu)|171.64.68.10|:80... connected.\n",
      "HTTP request sent, awaiting response... 200 OK\n",
      "Length: 84125825 (80M) [application/x-gzip]\n",
      "Saving to: ‘../data/aclImdb_v1.tar.gz’\n",
      "\n",
      "../data/aclImdb_v1. 100%[===================>]  80.23M  10.1MB/s    in 11s     \n",
      "\n",
      "2020-05-24 07:24:54 (7.43 MB/s) - ‘../data/aclImdb_v1.tar.gz’ saved [84125825/84125825]\n",
      "\n"
     ]
    }
   ],
   "source": [
    "%mkdir ../data\n",
    "!wget -O ../data/aclImdb_v1.tar.gz http://ai.stanford.edu/~amaas/data/sentiment/aclImdb_v1.tar.gz\n",
    "!tar -zxf ../data/aclImdb_v1.tar.gz -C ../data"
   ]
  },
  {
   "cell_type": "markdown",
   "metadata": {},
   "source": [
    "## Step 2: Preparing and Processing the data\n",
    "\n",
    "Also, as in the XGBoost notebook, we will be doing some initial data processing. The first few steps are the same as in the XGBoost example. To begin with, we will read in each of the reviews and combine them into a single input structure. Then, we will split the dataset into a training set and a testing set."
   ]
  },
  {
   "cell_type": "code",
   "execution_count": 2,
   "metadata": {},
   "outputs": [],
   "source": [
    "import os\n",
    "import glob\n",
    "\n",
    "def read_imdb_data(data_dir='../data/aclImdb'):\n",
    "    data = {}\n",
    "    labels = {}\n",
    "    \n",
    "    for data_type in ['train', 'test']:\n",
    "        data[data_type] = {}\n",
    "        labels[data_type] = {}\n",
    "        \n",
    "        for sentiment in ['pos', 'neg']:\n",
    "            data[data_type][sentiment] = []\n",
    "            labels[data_type][sentiment] = []\n",
    "            \n",
    "            path = os.path.join(data_dir, data_type, sentiment, '*.txt')\n",
    "            files = glob.glob(path)\n",
    "            \n",
    "            for f in files:\n",
    "                with open(f) as review:\n",
    "                    data[data_type][sentiment].append(review.read())\n",
    "                    # Here we represent a positive review by '1' and a negative review by '0'\n",
    "                    labels[data_type][sentiment].append(1 if sentiment == 'pos' else 0)\n",
    "                    \n",
    "            assert len(data[data_type][sentiment]) == len(labels[data_type][sentiment]), \\\n",
    "                    \"{}/{} data size does not match labels size\".format(data_type, sentiment)\n",
    "                \n",
    "    return data, labels"
   ]
  },
  {
   "cell_type": "code",
   "execution_count": 3,
   "metadata": {},
   "outputs": [
    {
     "name": "stdout",
     "output_type": "stream",
     "text": [
      "IMDB reviews: train = 12500 pos / 12500 neg, test = 12500 pos / 12500 neg\n"
     ]
    }
   ],
   "source": [
    "data, labels = read_imdb_data()\n",
    "print(\"IMDB reviews: train = {} pos / {} neg, test = {} pos / {} neg\".format(\n",
    "            len(data['train']['pos']), len(data['train']['neg']),\n",
    "            len(data['test']['pos']), len(data['test']['neg'])))"
   ]
  },
  {
   "cell_type": "markdown",
   "metadata": {},
   "source": [
    "Now that we've read the raw training and testing data from the downloaded dataset, we will combine the positive and negative reviews and shuffle the resulting records."
   ]
  },
  {
   "cell_type": "code",
   "execution_count": 4,
   "metadata": {},
   "outputs": [],
   "source": [
    "from sklearn.utils import shuffle\n",
    "\n",
    "def prepare_imdb_data(data, labels):\n",
    "    \"\"\"Prepare training and test sets from IMDb movie reviews.\"\"\"\n",
    "    \n",
    "    #Combine positive and negative reviews and labels\n",
    "    data_train = data['train']['pos'] + data['train']['neg']\n",
    "    data_test = data['test']['pos'] + data['test']['neg']\n",
    "    labels_train = labels['train']['pos'] + labels['train']['neg']\n",
    "    labels_test = labels['test']['pos'] + labels['test']['neg']\n",
    "    \n",
    "    #Shuffle reviews and corresponding labels within training and test sets\n",
    "    data_train, labels_train = shuffle(data_train, labels_train)\n",
    "    data_test, labels_test = shuffle(data_test, labels_test)\n",
    "    \n",
    "    # Return a unified training data, test data, training labels, test labets\n",
    "    return data_train, data_test, labels_train, labels_test"
   ]
  },
  {
   "cell_type": "code",
   "execution_count": 5,
   "metadata": {},
   "outputs": [
    {
     "name": "stdout",
     "output_type": "stream",
     "text": [
      "IMDb reviews (combined): train = 25000, test = 25000\n"
     ]
    }
   ],
   "source": [
    "train_X, test_X, train_y, test_y = prepare_imdb_data(data, labels)\n",
    "print(\"IMDb reviews (combined): train = {}, test = {}\".format(len(train_X), len(test_X)))"
   ]
  },
  {
   "cell_type": "markdown",
   "metadata": {},
   "source": [
    "Now that we have our training and testing sets unified and prepared, we should do a quick check and see an example of the data our model will be trained on. This is generally a good idea as it allows you to see how each of the further processing steps affects the reviews and it also ensures that the data has been loaded correctly."
   ]
  },
  {
   "cell_type": "code",
   "execution_count": 6,
   "metadata": {},
   "outputs": [
    {
     "name": "stdout",
     "output_type": "stream",
     "text": [
      "The basic plot in this movie isn't bad. A lady makes it big and comes back to her alma mater to be adored. But, despite good acting by Robert Young and Eve Arden, the movie is a mess. The blame for this I place on either Joan Crawford or the director or both, as her performance is just awful. Instead of being a real person, she does a wonderful impersonation of a deer caught in the headlights. In other words, she stares off into space and has a \"golly I am SOOOO stunned\" expression. After just a few minutes it really became annoying for me. Now this is certainly not the only Crawford film I dislike for her performance, as she had done more than her share of overacting--in films such as JOHNNY GUITAR or many of her later films, such as BERSERK! My advice is to try a different Crawford film--there certainly were better.\n",
      "0\n"
     ]
    }
   ],
   "source": [
    "print(train_X[100])\n",
    "print(train_y[100])"
   ]
  },
  {
   "cell_type": "markdown",
   "metadata": {},
   "source": [
    "The first step in processing the reviews is to make sure that any html tags that appear should be removed. In addition we wish to tokenize our input, that way words such as *entertained* and *entertaining* are considered the same with regard to sentiment analysis."
   ]
  },
  {
   "cell_type": "code",
   "execution_count": 7,
   "metadata": {},
   "outputs": [],
   "source": [
    "import nltk\n",
    "from nltk.corpus import stopwords\n",
    "from nltk.stem.porter import *\n",
    "\n",
    "import re\n",
    "from bs4 import BeautifulSoup\n",
    "\n",
    "def review_to_words(review):\n",
    "    nltk.download(\"stopwords\", quiet=True)\n",
    "    stemmer = PorterStemmer()\n",
    "    \n",
    "    text = BeautifulSoup(review, \"html.parser\").get_text() # Remove HTML tags\n",
    "    text = re.sub(r\"[^a-zA-Z0-9]\", \" \", text.lower()) # Convert to lower case\n",
    "    words = text.split() # Split string into words\n",
    "    words = [w for w in words if w not in stopwords.words(\"english\")] # Remove stopwords\n",
    "    words = [PorterStemmer().stem(w) for w in words] # stem\n",
    "    return words"
   ]
  },
  {
   "cell_type": "markdown",
   "metadata": {},
   "source": [
    "The `review_to_words` method defined above uses `BeautifulSoup` to remove any html tags that appear and uses the `nltk` package to tokenize the reviews. As a check to ensure we know how everything is working, try applying `review_to_words` to one of the reviews in the training set."
   ]
  },
  {
   "cell_type": "code",
   "execution_count": 8,
   "metadata": {},
   "outputs": [
    {
     "name": "stdout",
     "output_type": "stream",
     "text": [
      "['great', 'movi']\n"
     ]
    }
   ],
   "source": [
    "# TODO: Apply review_to_words to a review (train_X[100] or any other review)\n",
    "apllying_text=review_to_words(\"not a great Movie!!!!.It isn't\")\n",
    "print(apllying_text)"
   ]
  },
  {
   "cell_type": "markdown",
   "metadata": {},
   "source": [
    "**Question:** Above we mentioned that `review_to_words` method removes html formatting and allows us to tokenize the words found in a review, for example, converting *entertained* and *entertaining* into *entertain* so that they are treated as though they are the same word. What else, if anything, does this method do to the input?"
   ]
  },
  {
   "cell_type": "markdown",
   "metadata": {},
   "source": [
    "**Answer:** 1) It convert all capital letters to lower case\n",
    "2) It removes all the stopwords from the text"
   ]
  },
  {
   "cell_type": "markdown",
   "metadata": {},
   "source": [
    "The method below applies the `review_to_words` method to each of the reviews in the training and testing datasets. In addition it caches the results. This is because performing this processing step can take a long time. This way if you are unable to complete the notebook in the current session, you can come back without needing to process the data a second time."
   ]
  },
  {
   "cell_type": "code",
   "execution_count": 9,
   "metadata": {},
   "outputs": [],
   "source": [
    "import pickle\n",
    "\n",
    "cache_dir = os.path.join(\"../cache\", \"sentiment_analysis\")  # where to store cache files\n",
    "os.makedirs(cache_dir, exist_ok=True)  # ensure cache directory exists\n",
    "\n",
    "def preprocess_data(data_train, data_test, labels_train, labels_test,\n",
    "                    cache_dir=cache_dir, cache_file=\"preprocessed_data.pkl\"):\n",
    "    \"\"\"Convert each review to words; read from cache if available.\"\"\"\n",
    "\n",
    "    # If cache_file is not None, try to read from it first\n",
    "    #cache_data = None\n",
    "    if cache_file is not None:\n",
    "        try:\n",
    "            with open(os.path.join(cache_dir, cache_file), \"rb\") as f:\n",
    "                cache_data = pickle.load(f)\n",
    "            print(\"Read preprocessed data from cache file:\", cache_file)\n",
    "        except:\n",
    "            pass  # unable to read from cache, but that's okay\n",
    "    \n",
    "    # If cache is missing, then do the heavy lifting\n",
    "    if cache_data is None:\n",
    "        # Preprocess training and test data to obtain words for each review\n",
    "        #words_train = list(map(review_to_words, data_train))\n",
    "        #words_test = list(map(review_to_words, data_test))\n",
    "        words_train = [review_to_words(review) for review in data_train]\n",
    "        words_test = [review_to_words(review) for review in data_test]\n",
    "        \n",
    "        # Write to cache file for future runs\n",
    "        if cache_file is not None:\n",
    "            cache_data = dict(words_train=words_train, words_test=words_test,\n",
    "                              labels_train=labels_train, labels_test=labels_test)\n",
    "            with open(os.path.join(cache_dir, cache_file), \"wb\") as f:\n",
    "                pickle.dump(cache_data, f)\n",
    "            print(\"Wrote preprocessed data to cache file:\", cache_file)\n",
    "    else:\n",
    "        # Unpack data loaded from cache file\n",
    "        words_train, words_test, labels_train, labels_test = (cache_data['words_train'],\n",
    "                cache_data['words_test'], cache_data['labels_train'], cache_data['labels_test'])\n",
    "    \n",
    "    return words_train, words_test, labels_train, labels_test"
   ]
  },
  {
   "cell_type": "code",
   "execution_count": 10,
   "metadata": {},
   "outputs": [
    {
     "name": "stdout",
     "output_type": "stream",
     "text": [
      "Read preprocessed data from cache file: preprocessed_data.pkl\n"
     ]
    }
   ],
   "source": [
    "# Preprocess data\n",
    "train_X, test_X, train_y, test_y = preprocess_data(train_X, test_X, train_y, test_y)"
   ]
  },
  {
   "cell_type": "markdown",
   "metadata": {},
   "source": [
    "## Transform the data\n",
    "\n",
    "In the XGBoost notebook we transformed the data from its word representation to a bag-of-words feature representation. For the model we are going to construct in this notebook we will construct a feature representation which is very similar. To start, we will represent each word as an integer. Of course, some of the words that appear in the reviews occur very infrequently and so likely don't contain much information for the purposes of sentiment analysis. The way we will deal with this problem is that we will fix the size of our working vocabulary and we will only include the words that appear most frequently. We will then combine all of the infrequent words into a single category and, in our case, we will label it as `1`.\n",
    "\n",
    "Since we will be using a recurrent neural network, it will be convenient if the length of each review is the same. To do this, we will fix a size for our reviews and then pad short reviews with the category 'no word' (which we will label `0`) and truncate long reviews."
   ]
  },
  {
   "cell_type": "markdown",
   "metadata": {},
   "source": [
    "### (TODO) Create a word dictionary\n",
    "\n",
    "To begin with, we need to construct a way to map words that appear in the reviews to integers. Here we fix the size of our vocabulary (including the 'no word' and 'infrequent' categories) to be `5000` but you may wish to change this to see how it affects the model.\n",
    "\n",
    "> **TODO:** Complete the implementation for the `build_dict()` method below. Note that even though the vocab_size is set to `5000`, we only want to construct a mapping for the most frequently appearing `4998` words. This is because we want to reserve the special labels `0` for 'no word' and `1` for 'infrequent word'."
   ]
  },
  {
   "cell_type": "code",
   "execution_count": 11,
   "metadata": {},
   "outputs": [
    {
     "name": "stderr",
     "output_type": "stream",
     "text": [
      "IOPub data rate exceeded.\n",
      "The notebook server will temporarily stop sending output\n",
      "to the client in order to avoid crashing it.\n",
      "To change this limit, set the config variable\n",
      "`--NotebookApp.iopub_data_rate_limit`.\n",
      "\n",
      "Current values:\n",
      "NotebookApp.iopub_data_rate_limit=1000000.0 (bytes/sec)\n",
      "NotebookApp.rate_limit_window=3.0 (secs)\n",
      "\n"
     ]
    }
   ],
   "source": [
    "print(train_X)"
   ]
  },
  {
   "cell_type": "code",
   "execution_count": 12,
   "metadata": {},
   "outputs": [],
   "source": [
    "import numpy as np\n",
    "\n",
    "def build_dict(data, vocab_size = 5000):\n",
    "    \"\"\"Construct and return a dictionary mapping each of the most frequently appearing words to a unique integer.\"\"\"\n",
    "    \n",
    "    # TODO: Determine how often each word appears in `data`. Note that `data` is a list of sentences and that a\n",
    "    #       sentence is a list of words.\n",
    "    \n",
    "    word_count = {} # A dict storing the words that appear in the reviews along with how often they occur\n",
    "    for sentence in data:\n",
    "        for word in sentence:\n",
    "            if word in word_count:\n",
    "                word_count[word]+=1\n",
    "            else:\n",
    "                word_count[word]=1\n",
    "    # TODO: Sort the words found in `data` so that sorted_words[0] is the most frequently appearing word and\n",
    "    #       sorted_words[-1] is the least frequently appearing word.\n",
    "    \n",
    "    sorted_words = None\n",
    "    sorted_words=sorted(word_count,key=word_count.get, reverse=True)\n",
    "    \n",
    "    word_dict = {} # This is what we are building, a dictionary that translates words into integers\n",
    "    for idx, word in enumerate(sorted_words[:vocab_size - 2]): # The -2 is so that we save room for the 'no word'\n",
    "        word_dict[word] = idx + 2                              # 'infrequent' labels\n",
    "        \n",
    "    return word_dict"
   ]
  },
  {
   "cell_type": "code",
   "execution_count": 13,
   "metadata": {},
   "outputs": [],
   "source": [
    "word_dict = build_dict(train_X)\n"
   ]
  },
  {
   "cell_type": "code",
   "execution_count": 14,
   "metadata": {},
   "outputs": [
    {
     "name": "stdout",
     "output_type": "stream",
     "text": [
      "{'movi': 2, 'film': 3, 'one': 4, 'like': 5, 'time': 6, 'good': 7, 'make': 8, 'charact': 9, 'get': 10, 'see': 11, 'watch': 12, 'stori': 13, 'even': 14, 'would': 15, 'realli': 16, 'well': 17, 'scene': 18, 'look': 19, 'show': 20, 'much': 21, 'end': 22, 'peopl': 23, 'bad': 24, 'go': 25, 'great': 26, 'also': 27, 'first': 28, 'love': 29, 'think': 30, 'way': 31, 'act': 32, 'play': 33, 'made': 34, 'thing': 35, 'could': 36, 'know': 37, 'say': 38, 'seem': 39, 'work': 40, 'plot': 41, 'two': 42, 'actor': 43, 'year': 44, 'come': 45, 'mani': 46, 'seen': 47, 'take': 48, 'want': 49, 'life': 50, 'never': 51, 'littl': 52, 'best': 53, 'tri': 54, 'man': 55, 'ever': 56, 'give': 57, 'better': 58, 'still': 59, 'perform': 60, 'find': 61, 'feel': 62, 'part': 63, 'back': 64, 'use': 65, 'someth': 66, 'director': 67, 'actual': 68, 'interest': 69, 'lot': 70, 'real': 71, 'old': 72, 'cast': 73, 'though': 74, 'live': 75, 'star': 76, 'enjoy': 77, 'guy': 78, 'anoth': 79, 'new': 80, 'role': 81, 'noth': 82, '10': 83, 'funni': 84, 'music': 85, 'point': 86, 'start': 87, 'set': 88, 'girl': 89, 'origin': 90, 'day': 91, 'world': 92, 'everi': 93, 'believ': 94, 'turn': 95, 'quit': 96, 'direct': 97, 'us': 98, 'thought': 99, 'fact': 100, 'minut': 101, 'horror': 102, 'kill': 103, 'action': 104, 'comedi': 105, 'pretti': 106, 'young': 107, 'wonder': 108, 'happen': 109, 'around': 110, 'got': 111, 'effect': 112, 'right': 113, 'long': 114, 'howev': 115, 'big': 116, 'line': 117, 'famili': 118, 'enough': 119, 'seri': 120, 'may': 121, 'need': 122, 'fan': 123, 'bit': 124, 'script': 125, 'beauti': 126, 'person': 127, 'becom': 128, 'without': 129, 'must': 130, 'alway': 131, 'friend': 132, 'tell': 133, 'reason': 134, 'saw': 135, 'last': 136, 'final': 137, 'kid': 138, 'almost': 139, 'put': 140, 'least': 141, 'sure': 142, 'done': 143, 'whole': 144, 'place': 145, 'complet': 146, 'kind': 147, 'differ': 148, 'expect': 149, 'shot': 150, 'far': 151, 'mean': 152, 'anyth': 153, 'book': 154, 'laugh': 155, 'might': 156, 'name': 157, 'sinc': 158, 'begin': 159, '2': 160, 'probabl': 161, 'woman': 162, 'help': 163, 'entertain': 164, 'let': 165, 'screen': 166, 'call': 167, 'tv': 168, 'moment': 169, 'away': 170, 'read': 171, 'yet': 172, 'rather': 173, 'worst': 174, 'run': 175, 'fun': 176, 'lead': 177, 'hard': 178, 'audienc': 179, 'idea': 180, 'anyon': 181, 'episod': 182, 'american': 183, 'found': 184, 'appear': 185, 'bore': 186, 'especi': 187, 'although': 188, 'hope': 189, 'cours': 190, 'keep': 191, 'anim': 192, 'job': 193, 'goe': 194, 'move': 195, 'sens': 196, 'dvd': 197, 'version': 198, 'war': 199, 'money': 200, 'someon': 201, 'mind': 202, 'mayb': 203, 'problem': 204, 'true': 205, 'hous': 206, 'everyth': 207, 'nice': 208, 'second': 209, 'rate': 210, 'three': 211, 'night': 212, 'follow': 213, 'face': 214, 'recommend': 215, 'main': 216, 'product': 217, 'worth': 218, 'leav': 219, 'human': 220, 'special': 221, 'excel': 222, 'togeth': 223, 'wast': 224, 'everyon': 225, 'sound': 226, 'john': 227, 'hand': 228, '1': 229, 'father': 230, 'later': 231, 'eye': 232, 'said': 233, 'view': 234, 'instead': 235, 'review': 236, 'boy': 237, 'high': 238, 'hour': 239, 'miss': 240, 'talk': 241, 'classic': 242, 'wife': 243, 'understand': 244, 'left': 245, 'care': 246, 'black': 247, 'death': 248, 'open': 249, 'murder': 250, 'write': 251, 'half': 252, 'head': 253, 'rememb': 254, 'chang': 255, 'viewer': 256, 'fight': 257, 'gener': 258, 'surpris': 259, 'includ': 260, 'short': 261, 'die': 262, 'fall': 263, 'less': 264, 'els': 265, 'entir': 266, 'piec': 267, 'involv': 268, 'pictur': 269, 'simpli': 270, 'home': 271, 'top': 272, 'power': 273, 'total': 274, 'usual': 275, 'budget': 276, 'attempt': 277, 'suppos': 278, 'releas': 279, 'hollywood': 280, 'terribl': 281, 'song': 282, 'men': 283, 'possibl': 284, 'featur': 285, 'portray': 286, 'disappoint': 287, 'poor': 288, '3': 289, 'coupl': 290, 'stupid': 291, 'camera': 292, 'dead': 293, 'wrong': 294, 'low': 295, 'produc': 296, 'either': 297, 'video': 298, 'aw': 299, 'definit': 300, 'except': 301, 'rest': 302, 'given': 303, 'absolut': 304, 'women': 305, 'lack': 306, 'word': 307, 'writer': 308, 'titl': 309, 'talent': 310, 'decid': 311, 'full': 312, 'perfect': 313, 'along': 314, 'style': 315, 'close': 316, 'truli': 317, 'school': 318, 'save': 319, 'emot': 320, 'sex': 321, 'age': 322, 'next': 323, 'bring': 324, 'mr': 325, 'case': 326, 'killer': 327, 'heart': 328, 'comment': 329, 'sort': 330, 'creat': 331, 'perhap': 332, 'came': 333, 'brother': 334, 'sever': 335, 'joke': 336, 'art': 337, 'dialogu': 338, 'game': 339, 'small': 340, 'base': 341, 'flick': 342, 'written': 343, 'sequenc': 344, 'meet': 345, 'earli': 346, 'often': 347, 'other': 348, 'mother': 349, 'develop': 350, 'humor': 351, 'actress': 352, 'consid': 353, 'dark': 354, 'guess': 355, 'amaz': 356, 'unfortun': 357, 'light': 358, 'lost': 359, 'exampl': 360, 'cinema': 361, 'drama': 362, 'ye': 363, 'white': 364, 'experi': 365, 'imagin': 366, 'mention': 367, 'stop': 368, 'natur': 369, 'forc': 370, 'manag': 371, 'felt': 372, 'cut': 373, 'present': 374, 'children': 375, 'fail': 376, 'son': 377, 'qualiti': 378, 'support': 379, 'car': 380, 'ask': 381, 'hit': 382, 'side': 383, 'voic': 384, 'extrem': 385, 'impress': 386, 'evil': 387, 'wors': 388, 'stand': 389, 'went': 390, 'certainli': 391, 'basic': 392, 'oh': 393, 'overal': 394, 'favorit': 395, 'horribl': 396, 'mysteri': 397, 'number': 398, 'type': 399, 'danc': 400, 'wait': 401, 'hero': 402, 'alreadi': 403, '5': 404, 'learn': 405, 'matter': 406, '4': 407, 'michael': 408, 'genr': 409, 'fine': 410, 'despit': 411, 'throughout': 412, 'walk': 413, 'success': 414, 'histori': 415, 'question': 416, 'zombi': 417, 'town': 418, 'realiz': 419, 'relationship': 420, 'past': 421, 'child': 422, 'daughter': 423, 'late': 424, 'b': 425, 'wish': 426, 'hate': 427, 'credit': 428, 'event': 429, 'theme': 430, 'touch': 431, 'citi': 432, 'today': 433, 'sometim': 434, 'behind': 435, 'god': 436, 'twist': 437, 'sit': 438, 'annoy': 439, 'deal': 440, 'stay': 441, 'abl': 442, 'rent': 443, 'pleas': 444, 'edit': 445, 'blood': 446, 'deserv': 447, 'anyway': 448, 'comic': 449, 'appar': 450, 'soon': 451, 'gave': 452, 'etc': 453, 'level': 454, 'slow': 455, 'chanc': 456, 'score': 457, 'bodi': 458, 'brilliant': 459, 'incred': 460, 'figur': 461, 'situat': 462, 'major': 463, 'self': 464, 'stuff': 465, 'decent': 466, 'element': 467, 'dream': 468, 'return': 469, 'obvious': 470, 'continu': 471, 'order': 472, 'pace': 473, 'ridicul': 474, 'happi': 475, 'highli': 476, 'add': 477, 'group': 478, 'thank': 479, 'ladi': 480, 'novel': 481, 'pain': 482, 'speak': 483, 'career': 484, 'shoot': 485, 'strang': 486, 'heard': 487, 'sad': 488, 'husband': 489, 'polic': 490, 'import': 491, 'break': 492, 'took': 493, 'cannot': 494, 'strong': 495, 'robert': 496, 'predict': 497, 'violenc': 498, 'hilari': 499, 'recent': 500, 'countri': 501, 'known': 502, 'particularli': 503, 'pick': 504, 'documentari': 505, 'season': 506, 'critic': 507, 'jame': 508, 'compar': 509, 'obviou': 510, 'alon': 511, 'told': 512, 'state': 513, 'rock': 514, 'visual': 515, 'theater': 516, 'offer': 517, 'exist': 518, 'opinion': 519, 'gore': 520, 'hold': 521, 'crap': 522, 'result': 523, 'realiti': 524, 'hear': 525, 'room': 526, 'clich': 527, 'effort': 528, 'thriller': 529, 'caus': 530, 'explain': 531, 'sequel': 532, 'serious': 533, 'king': 534, 'local': 535, 'ago': 536, 'hell': 537, 'none': 538, 'note': 539, 'allow': 540, 'sister': 541, 'david': 542, 'simpl': 543, 'femal': 544, 'deliv': 545, 'ok': 546, 'convinc': 547, 'class': 548, 'check': 549, 'suspens': 550, 'win': 551, 'oscar': 552, 'buy': 553, 'huge': 554, 'valu': 555, 'sexual': 556, 'cool': 557, 'scari': 558, 'excit': 559, 'similar': 560, 'exactli': 561, 'apart': 562, 'provid': 563, 'shown': 564, 'avoid': 565, 'seriou': 566, 'english': 567, 'taken': 568, 'whose': 569, 'cinematographi': 570, 'shock': 571, 'polit': 572, 'spoiler': 573, 'offic': 574, 'across': 575, 'middl': 576, 'street': 577, 'pass': 578, 'messag': 579, 'silli': 580, 'somewhat': 581, 'charm': 582, 'modern': 583, 'filmmak': 584, 'confus': 585, 'form': 586, 'tale': 587, 'singl': 588, 'jack': 589, 'mostli': 590, 'william': 591, 'attent': 592, 'carri': 593, 'sing': 594, 'five': 595, 'subject': 596, 'prove': 597, 'richard': 598, 'stage': 599, 'team': 600, 'cop': 601, 'unlik': 602, 'georg': 603, 'monster': 604, 'televis': 605, 'earth': 606, 'cover': 607, 'villain': 608, 'pay': 609, 'marri': 610, 'toward': 611, 'build': 612, 'parent': 613, 'pull': 614, 'due': 615, 'respect': 616, 'fill': 617, 'dialog': 618, 'four': 619, 'remind': 620, 'futur': 621, 'weak': 622, 'typic': 623, '7': 624, 'cheap': 625, 'intellig': 626, 'british': 627, 'atmospher': 628, 'clearli': 629, '80': 630, 'dog': 631, 'non': 632, 'paul': 633, 'knew': 634, 'artist': 635, '8': 636, 'fast': 637, 'crime': 638, 'easili': 639, 'escap': 640, 'doubt': 641, 'adult': 642, 'detail': 643, 'date': 644, 'romant': 645, 'member': 646, 'fire': 647, 'drive': 648, 'gun': 649, 'straight': 650, 'fit': 651, 'beyond': 652, 'attack': 653, 'imag': 654, 'upon': 655, 'posit': 656, 'whether': 657, 'peter': 658, 'fantast': 659, 'captur': 660, 'appreci': 661, 'aspect': 662, 'ten': 663, 'plan': 664, 'discov': 665, 'remain': 666, 'near': 667, 'period': 668, 'realist': 669, 'air': 670, 'mark': 671, 'red': 672, 'dull': 673, 'adapt': 674, 'within': 675, 'spend': 676, 'lose': 677, 'materi': 678, 'color': 679, 'chase': 680, 'mari': 681, 'storylin': 682, 'forget': 683, 'bunch': 684, 'clear': 685, 'lee': 686, 'victim': 687, 'nearli': 688, 'box': 689, 'york': 690, 'match': 691, 'inspir': 692, 'finish': 693, 'mess': 694, 'standard': 695, 'easi': 696, 'truth': 697, 'suffer': 698, 'busi': 699, 'bill': 700, 'space': 701, 'dramat': 702, 'western': 703, 'e': 704, 'list': 705, 'battl': 706, 'notic': 707, 'de': 708, 'french': 709, 'ad': 710, '9': 711, 'tom': 712, 'larg': 713, 'among': 714, 'eventu': 715, 'train': 716, 'accept': 717, 'agre': 718, 'spirit': 719, 'soundtrack': 720, 'third': 721, 'teenag': 722, 'soldier': 723, 'adventur': 724, 'drug': 725, 'sorri': 726, 'suggest': 727, 'famou': 728, 'cri': 729, 'normal': 730, 'babi': 731, 'troubl': 732, 'ultim': 733, 'contain': 734, 'certain': 735, 'cultur': 736, 'romanc': 737, 'rare': 738, 'lame': 739, 'somehow': 740, 'mix': 741, 'disney': 742, 'gone': 743, 'cartoon': 744, 'student': 745, 'reveal': 746, 'fear': 747, 'suck': 748, 'kept': 749, 'attract': 750, 'appeal': 751, 'premis': 752, 'greatest': 753, 'design': 754, 'secret': 755, 'shame': 756, 'throw': 757, 'scare': 758, 'copi': 759, 'wit': 760, 'america': 761, 'admit': 762, 'relat': 763, 'brought': 764, 'particular': 765, 'screenplay': 766, 'whatev': 767, 'pure': 768, '70': 769, 'harri': 770, 'averag': 771, 'master': 772, 'describ': 773, 'male': 774, 'treat': 775, '20': 776, 'issu': 777, 'fantasi': 778, 'warn': 779, 'inde': 780, 'background': 781, 'forward': 782, 'free': 783, 'project': 784, 'japanes': 785, 'memor': 786, 'poorli': 787, 'award': 788, 'locat': 789, 'potenti': 790, 'amus': 791, 'struggl': 792, 'magic': 793, 'weird': 794, 'societi': 795, 'okay': 796, 'accent': 797, 'doctor': 798, 'imdb': 799, 'water': 800, 'hot': 801, 'alien': 802, 'dr': 803, '30': 804, 'express': 805, 'odd': 806, 'crazi': 807, 'choic': 808, 'fiction': 809, 'studio': 810, 'control': 811, 'becam': 812, 'masterpiec': 813, 'difficult': 814, 'fli': 815, 'joe': 816, 'scream': 817, 'costum': 818, 'lover': 819, 'refer': 820, 'uniqu': 821, 'remak': 822, 'vampir': 823, 'girlfriend': 824, 'prison': 825, 'execut': 826, 'wear': 827, 'jump': 828, 'unless': 829, 'wood': 830, 'creepi': 831, 'cheesi': 832, 'superb': 833, 'otherwis': 834, 'parti': 835, 'ghost': 836, 'roll': 837, 'mad': 838, 'public': 839, 'depict': 840, 'week': 841, 'jane': 842, 'badli': 843, 'earlier': 844, 'moral': 845, 'fi': 846, 'dumb': 847, 'flaw': 848, 'grow': 849, 'deep': 850, 'sci': 851, 'cat': 852, 'maker': 853, 'older': 854, 'connect': 855, 'footag': 856, 'bother': 857, 'plenti': 858, 'outsid': 859, 'stick': 860, 'gay': 861, 'catch': 862, 'co': 863, 'plu': 864, 'popular': 865, 'equal': 866, 'social': 867, 'disturb': 868, 'quickli': 869, 'perfectli': 870, 'dress': 871, '90': 872, 'era': 873, 'mistak': 874, 'lie': 875, 'ride': 876, 'previou': 877, 'combin': 878, 'concept': 879, 'band': 880, 'surviv': 881, 'rich': 882, 'answer': 883, 'front': 884, 'sweet': 885, 'christma': 886, 'insid': 887, 'bare': 888, 'eat': 889, 'concern': 890, 'listen': 891, 'beat': 892, 'ben': 893, 'c': 894, 'serv': 895, 'term': 896, 'la': 897, 'german': 898, 'meant': 899, 'hardli': 900, 'stereotyp': 901, 'innoc': 902, 'law': 903, 'desper': 904, 'promis': 905, 'memori': 906, 'cute': 907, 'intent': 908, 'variou': 909, 'steal': 910, 'inform': 911, 'brain': 912, 'post': 913, 'tone': 914, 'island': 915, 'amount': 916, 'track': 917, 'compani': 918, 'nuditi': 919, 'store': 920, 'claim': 921, '50': 922, 'hair': 923, 'flat': 924, 'univers': 925, 'land': 926, 'kick': 927, 'fairli': 928, 'danger': 929, 'scott': 930, 'player': 931, 'step': 932, 'plain': 933, 'crew': 934, 'toni': 935, 'share': 936, 'tast': 937, 'centuri': 938, 'achiev': 939, 'engag': 940, 'cold': 941, 'travel': 942, 'rip': 943, 'record': 944, 'suit': 945, 'sadli': 946, 'manner': 947, 'tension': 948, 'spot': 949, 'wrote': 950, 'intens': 951, 'fascin': 952, 'familiar': 953, 'remark': 954, 'burn': 955, 'depth': 956, 'destroy': 957, 'histor': 958, 'sleep': 959, 'purpos': 960, 'languag': 961, 'ruin': 962, 'ignor': 963, 'delight': 964, 'unbeliev': 965, 'italian': 966, 'abil': 967, 'collect': 968, 'soul': 969, 'detect': 970, 'clever': 971, 'violent': 972, 'rape': 973, 'reach': 974, 'door': 975, 'scienc': 976, 'liter': 977, 'trash': 978, 'reveng': 979, 'caught': 980, 'commun': 981, 'creatur': 982, 'trip': 983, 'approach': 984, 'fashion': 985, 'intrigu': 986, 'paint': 987, 'introduc': 988, 'skill': 989, 'channel': 990, 'complex': 991, 'camp': 992, 'christian': 993, 'extra': 994, 'hole': 995, 'immedi': 996, 'limit': 997, 'mental': 998, 'ann': 999, 'million': 1000, 'slightli': 1001, 'mere': 1002, 'comput': 1003, '6': 1004, 'conclus': 1005, 'slasher': 1006, 'suddenli': 1007, 'imposs': 1008, 'crimin': 1009, 'teen': 1010, 'neither': 1011, 'physic': 1012, 'nation': 1013, 'spent': 1014, 'respons': 1015, 'planet': 1016, 'fake': 1017, 'receiv': 1018, 'sick': 1019, 'blue': 1020, 'bizarr': 1021, 'embarrass': 1022, 'indian': 1023, 'ring': 1024, '15': 1025, 'pop': 1026, 'drop': 1027, 'drag': 1028, 'haunt': 1029, 'pointless': 1030, 'suspect': 1031, 'edg': 1032, 'search': 1033, 'handl': 1034, 'common': 1035, 'biggest': 1036, 'hurt': 1037, 'faith': 1038, 'arriv': 1039, 'technic': 1040, 'angel': 1041, 'genuin': 1042, 'dad': 1043, 'solid': 1044, 'f': 1045, 'awesom': 1046, 'colleg': 1047, 'focu': 1048, 'former': 1049, 'van': 1050, 'count': 1051, 'tear': 1052, 'heavi': 1053, 'rais': 1054, 'wall': 1055, 'younger': 1056, 'laughabl': 1057, 'visit': 1058, 'sign': 1059, 'fair': 1060, 'excus': 1061, 'cult': 1062, 'key': 1063, 'motion': 1064, 'tough': 1065, 'desir': 1066, 'super': 1067, 'addit': 1068, 'stun': 1069, 'exploit': 1070, 'cloth': 1071, 'tortur': 1072, 'smith': 1073, 'davi': 1074, 'race': 1075, 'cross': 1076, 'author': 1077, 'jim': 1078, 'consist': 1079, 'minor': 1080, 'focus': 1081, 'compel': 1082, 'commit': 1083, 'chemistri': 1084, 'pathet': 1085, 'park': 1086, 'frank': 1087, 'obsess': 1088, 'tradit': 1089, 'grade': 1090, 'asid': 1091, '60': 1092, 'brutal': 1093, 'steve': 1094, 'somewher': 1095, 'u': 1096, 'grant': 1097, 'explor': 1098, 'rule': 1099, 'depress': 1100, 'opportun': 1101, 'besid': 1102, 'honest': 1103, 'dub': 1104, 'anti': 1105, 'trailer': 1106, 'intend': 1107, 'bar': 1108, 'west': 1109, 'regard': 1110, 'longer': 1111, 'scientist': 1112, 'decad': 1113, 'judg': 1114, 'silent': 1115, 'armi': 1116, 'creativ': 1117, 'wild': 1118, 'stewart': 1119, 'g': 1120, 'south': 1121, 'draw': 1122, 'road': 1123, 'govern': 1124, 'ex': 1125, 'boss': 1126, 'practic': 1127, 'surprisingli': 1128, 'club': 1129, 'gang': 1130, 'festiv': 1131, 'motiv': 1132, 'redeem': 1133, 'london': 1134, 'page': 1135, 'green': 1136, 'aliv': 1137, 'idiot': 1138, 'display': 1139, 'militari': 1140, 'machin': 1141, 'thrill': 1142, 'repeat': 1143, 'yeah': 1144, '100': 1145, 'folk': 1146, 'nobodi': 1147, '40': 1148, 'journey': 1149, 'garbag': 1150, 'smile': 1151, 'ground': 1152, 'tire': 1153, 'bought': 1154, 'mood': 1155, 'cost': 1156, 'stone': 1157, 'sam': 1158, 'mouth': 1159, 'noir': 1160, 'terrif': 1161, 'agent': 1162, 'requir': 1163, 'utterli': 1164, 'honestli': 1165, 'area': 1166, 'sexi': 1167, 'geniu': 1168, 'report': 1169, 'glad': 1170, 'investig': 1171, 'humour': 1172, 'enter': 1173, 'serial': 1174, 'occasion': 1175, 'passion': 1176, 'narr': 1177, 'marriag': 1178, 'climax': 1179, 'studi': 1180, 'industri': 1181, 'center': 1182, 'demon': 1183, 'ship': 1184, 'nowher': 1185, 'charli': 1186, 'loos': 1187, 'bear': 1188, 'hors': 1189, 'hang': 1190, 'wow': 1191, 'graphic': 1192, 'giant': 1193, 'admir': 1194, 'send': 1195, 'loud': 1196, 'damn': 1197, 'nake': 1198, 'profession': 1199, 'subtl': 1200, 'rel': 1201, 'blow': 1202, 'bottom': 1203, 'insult': 1204, 'batman': 1205, 'doubl': 1206, 'boyfriend': 1207, 'r': 1208, 'kelli': 1209, 'initi': 1210, 'frame': 1211, 'gem': 1212, 'opera': 1213, 'affect': 1214, 'cinemat': 1215, 'drawn': 1216, 'church': 1217, 'challeng': 1218, 'seek': 1219, 'l': 1220, 'evid': 1221, 'nightmar': 1222, 'j': 1223, 'fulli': 1224, 'conflict': 1225, 'arm': 1226, 'essenti': 1227, 'christoph': 1228, 'wind': 1229, 'henri': 1230, 'grace': 1231, 'witch': 1232, 'narrat': 1233, 'assum': 1234, 'push': 1235, 'hunt': 1236, 'wise': 1237, 'chri': 1238, 'repres': 1239, 'nomin': 1240, 'month': 1241, 'sceneri': 1242, 'avail': 1243, 'affair': 1244, 'hide': 1245, 'justic': 1246, 'bond': 1247, 'smart': 1248, 'thu': 1249, 'interview': 1250, 'outstand': 1251, 'flashback': 1252, 'constantli': 1253, 'presenc': 1254, 'satisfi': 1255, 'bed': 1256, 'central': 1257, 'sell': 1258, 'content': 1259, 'iron': 1260, 'gag': 1261, 'everybodi': 1262, 'slowli': 1263, 'hotel': 1264, 'hire': 1265, 'system': 1266, 'individu': 1267, 'hey': 1268, 'charl': 1269, 'thrown': 1270, 'adam': 1271, 'jone': 1272, 'allen': 1273, 'mediocr': 1274, 'lesson': 1275, 'ray': 1276, 'billi': 1277, 'photographi': 1278, 'cameo': 1279, 'fellow': 1280, 'pari': 1281, 'strike': 1282, 'absurd': 1283, 'brief': 1284, 'rise': 1285, 'independ': 1286, 'neg': 1287, 'impact': 1288, 'phone': 1289, 'born': 1290, 'model': 1291, 'ill': 1292, 'spoil': 1293, 'fresh': 1294, 'angl': 1295, 'abus': 1296, 'likabl': 1297, 'discuss': 1298, 'hill': 1299, 'sight': 1300, 'ahead': 1301, 'photograph': 1302, 'sent': 1303, 'shine': 1304, 'occur': 1305, 'logic': 1306, 'blame': 1307, 'mainli': 1308, 'bruce': 1309, 'forev': 1310, 'commerci': 1311, 'skip': 1312, 'held': 1313, 'surround': 1314, 'segment': 1315, 'teacher': 1316, 'blond': 1317, 'zero': 1318, 'summer': 1319, 'resembl': 1320, 'satir': 1321, 'trap': 1322, 'fool': 1323, 'queen': 1324, 'six': 1325, 'ball': 1326, 'tragedi': 1327, 'sub': 1328, 'twice': 1329, 'pack': 1330, 'reaction': 1331, 'bomb': 1332, 'hospit': 1333, 'protagonist': 1334, 'will': 1335, 'sport': 1336, 'mile': 1337, 'mom': 1338, 'vote': 1339, 'drink': 1340, 'trust': 1341, 'jerri': 1342, 'encount': 1343, 'plane': 1344, 'current': 1345, 'station': 1346, 'al': 1347, 'program': 1348, 'celebr': 1349, 'martin': 1350, 'choos': 1351, 'join': 1352, 'lord': 1353, 'tragic': 1354, 'favourit': 1355, 'field': 1356, 'round': 1357, 'robot': 1358, 'vision': 1359, 'jean': 1360, 'tie': 1361, 'arthur': 1362, 'roger': 1363, 'fortun': 1364, 'random': 1365, 'psycholog': 1366, 'dread': 1367, 'intern': 1368, 'prefer': 1369, 'nonsens': 1370, 'epic': 1371, 'improv': 1372, 'formula': 1373, 'highlight': 1374, 'legend': 1375, 'pleasur': 1376, 'dollar': 1377, 'tape': 1378, '11': 1379, 'gorgeou': 1380, 'object': 1381, 'thin': 1382, 'wide': 1383, 'fox': 1384, 'porn': 1385, 'influenc': 1386, 'ugli': 1387, 'buddi': 1388, 'prepar': 1389, 'nasti': 1390, 'ii': 1391, 'supposedli': 1392, 'warm': 1393, 'reflect': 1394, 'progress': 1395, 'worthi': 1396, 'youth': 1397, 'latter': 1398, 'unusu': 1399, 'length': 1400, 'crash': 1401, 'shop': 1402, 'superior': 1403, 'seven': 1404, 'childhood': 1405, 'theatr': 1406, 'remot': 1407, 'funniest': 1408, 'pilot': 1409, 'disgust': 1410, 'paid': 1411, 'convers': 1412, 'castl': 1413, 'fell': 1414, 'trick': 1415, 'establish': 1416, 'disast': 1417, 'rob': 1418, 'gangster': 1419, 'suicid': 1420, 'mine': 1421, 'disappear': 1422, 'heaven': 1423, 'ident': 1424, 'heroin': 1425, 'mask': 1426, 'singer': 1427, 'forgotten': 1428, 'tend': 1429, 'decis': 1430, 'brian': 1431, 'partner': 1432, 'recogn': 1433, 'desert': 1434, 'alan': 1435, 'p': 1436, 'ms': 1437, 'sky': 1438, 'thoroughli': 1439, 'stuck': 1440, 'replac': 1441, 'accur': 1442, 'market': 1443, 'uncl': 1444, 'danni': 1445, 'andi': 1446, 'seemingli': 1447, 'clue': 1448, 'eddi': 1449, 'commentari': 1450, 'devil': 1451, 'jackson': 1452, 'that': 1453, 'refus': 1454, 'therefor': 1455, 'pair': 1456, 'accid': 1457, 'river': 1458, 'unit': 1459, 'ed': 1460, 'fault': 1461, 'fate': 1462, 'afraid': 1463, 'tune': 1464, 'stephen': 1465, 'hidden': 1466, 'russian': 1467, 'clean': 1468, 'readi': 1469, 'captain': 1470, 'test': 1471, 'irrit': 1472, 'quick': 1473, 'convey': 1474, 'instanc': 1475, 'european': 1476, 'insan': 1477, 'daniel': 1478, 'frustrat': 1479, 'wed': 1480, '1950': 1481, 'rescu': 1482, 'food': 1483, 'chines': 1484, 'angri': 1485, 'dirti': 1486, 'lock': 1487, 'joy': 1488, 'steven': 1489, 'price': 1490, 'bland': 1491, 'cage': 1492, 'anymor': 1493, 'rang': 1494, 'wooden': 1495, 'jason': 1496, 'news': 1497, 'n': 1498, 'rush': 1499, 'martial': 1500, 'board': 1501, 'worri': 1502, 'led': 1503, '12': 1504, 'twenti': 1505, 'cgi': 1506, 'symbol': 1507, 'transform': 1508, 'hunter': 1509, 'sentiment': 1510, 'piti': 1511, 'onto': 1512, 'johnni': 1513, 'invent': 1514, 'x': 1515, 'explan': 1516, 'attitud': 1517, 'process': 1518, 'awar': 1519, 'owner': 1520, 'aim': 1521, 'necessari': 1522, 'floor': 1523, 'target': 1524, 'energi': 1525, 'favor': 1526, 'religi': 1527, 'opposit': 1528, 'insight': 1529, 'chick': 1530, 'window': 1531, 'blind': 1532, 'movement': 1533, 'deepli': 1534, 'research': 1535, 'possess': 1536, 'mountain': 1537, 'comparison': 1538, 'whatsoev': 1539, 'comed': 1540, 'grand': 1541, 'rain': 1542, 'mid': 1543, 'began': 1544, 'bank': 1545, 'shadow': 1546, 'parodi': 1547, 'princ': 1548, 'weapon': 1549, 'credibl': 1550, 'pre': 1551, 'taylor': 1552, 'friendship': 1553, 'flesh': 1554, 'teach': 1555, 'dougla': 1556, 'bloodi': 1557, 'hint': 1558, 'protect': 1559, 'terror': 1560, 'marvel': 1561, 'drunk': 1562, 'leader': 1563, 'anybodi': 1564, 'accord': 1565, 'watchabl': 1566, 'load': 1567, 'superman': 1568, 'freddi': 1569, 'brown': 1570, 'appropri': 1571, 'seat': 1572, 'jeff': 1573, 'tim': 1574, 'hitler': 1575, 'villag': 1576, 'knock': 1577, 'charg': 1578, 'unknown': 1579, 'keaton': 1580, 'unnecessari': 1581, 'empti': 1582, 'media': 1583, 'england': 1584, 'enemi': 1585, 'buck': 1586, 'wave': 1587, 'dare': 1588, 'craft': 1589, 'perspect': 1590, 'utter': 1591, 'strength': 1592, 'ford': 1593, 'nativ': 1594, 'kiss': 1595, 'contrast': 1596, 'correct': 1597, 'chill': 1598, 'anywher': 1599, 'knowledg': 1600, 'speed': 1601, 'soap': 1602, 'distract': 1603, 'magnific': 1604, 'nazi': 1605, 'ice': 1606, 'mission': 1607, '1980': 1608, 'fred': 1609, 'breath': 1610, 'crowd': 1611, 'jr': 1612, 'joan': 1613, 'moon': 1614, 'frighten': 1615, '000': 1616, 'kate': 1617, 'soft': 1618, 'hundr': 1619, 'nick': 1620, 'dan': 1621, 'dick': 1622, 'radio': 1623, 'somebodi': 1624, 'dozen': 1625, 'simon': 1626, 'academi': 1627, 'andrew': 1628, 'thousand': 1629, 'loss': 1630, 'shakespear': 1631, 'account': 1632, 'root': 1633, 'quot': 1634, 'vehicl': 1635, 'sum': 1636, 'leg': 1637, 'convent': 1638, '1970': 1639, 'behavior': 1640, 'gold': 1641, 'regular': 1642, 'compet': 1643, 'demand': 1644, 'pretenti': 1645, 'worker': 1646, 'japan': 1647, 'interpret': 1648, 'notabl': 1649, 'candi': 1650, 'explos': 1651, 'lynch': 1652, 'stretch': 1653, 'privat': 1654, 'debut': 1655, 'constant': 1656, 'tarzan': 1657, 'revolv': 1658, 'spi': 1659, 'prais': 1660, 'translat': 1661, 'sea': 1662, 'threaten': 1663, 'sat': 1664, 'franc': 1665, 'ass': 1666, 'quiet': 1667, 'failur': 1668, 'technolog': 1669, 'jesu': 1670, 'punch': 1671, 'kevin': 1672, 'higher': 1673, 'met': 1674, 'toy': 1675, 'aid': 1676, 'abandon': 1677, 'vh': 1678, 'interact': 1679, 'mike': 1680, 'bet': 1681, 'command': 1682, 'separ': 1683, 'confront': 1684, 'stunt': 1685, 'gotten': 1686, 'site': 1687, 'recal': 1688, 'servic': 1689, 'belong': 1690, 'techniqu': 1691, 'freak': 1692, 'cabl': 1693, 'foot': 1694, 'bug': 1695, 'jimmi': 1696, 'fu': 1697, 'capabl': 1698, 'african': 1699, 'bright': 1700, 'stock': 1701, 'succeed': 1702, 'boat': 1703, 'fat': 1704, 'clark': 1705, 'presid': 1706, 'spanish': 1707, 'structur': 1708, 'gene': 1709, 'paper': 1710, 'kidnap': 1711, 'whilst': 1712, 'factor': 1713, 'belief': 1714, 'bob': 1715, 'realism': 1716, 'educ': 1717, 'realis': 1718, 'tree': 1719, 'attend': 1720, 'witti': 1721, 'complic': 1722, 'finest': 1723, 'assist': 1724, 'broken': 1725, 'santa': 1726, 'v': 1727, 'depart': 1728, 'determin': 1729, 'observ': 1730, 'up': 1731, 'smoke': 1732, 'domin': 1733, 'fame': 1734, 'hat': 1735, 'rubbish': 1736, 'oper': 1737, 'lewi': 1738, 'routin': 1739, 'lone': 1740, 'hook': 1741, 'foreign': 1742, 'advanc': 1743, 'morgan': 1744, 'kinda': 1745, 'safe': 1746, 'rank': 1747, 'numer': 1748, 'civil': 1749, 'rose': 1750, 'werewolf': 1751, 'shallow': 1752, 'washington': 1753, 'shape': 1754, 'vs': 1755, 'morn': 1756, 'gari': 1757, 'accomplish': 1758, 'winner': 1759, 'kong': 1760, 'ordinari': 1761, 'peac': 1762, 'whenev': 1763, 'grab': 1764, 'virtual': 1765, 'luck': 1766, 'offens': 1767, 'h': 1768, 'unfunni': 1769, 'complain': 1770, 'contriv': 1771, 'bigger': 1772, 'welcom': 1773, 'patient': 1774, 'activ': 1775, 'con': 1776, 'dimension': 1777, 'pretend': 1778, 'trek': 1779, 'eric': 1780, 'code': 1781, 'flash': 1782, 'wake': 1783, 'dri': 1784, 'lesbian': 1785, 'cain': 1786, 'guard': 1787, 'albert': 1788, 'dancer': 1789, 'statu': 1790, 'manipul': 1791, 'corrupt': 1792, 'signific': 1793, 'sourc': 1794, 'gain': 1795, 'context': 1796, 'speech': 1797, 'awkward': 1798, 'anthoni': 1799, 'sean': 1800, 'psycho': 1801, '13': 1802, 'corni': 1803, 'clip': 1804, 'religion': 1805, 'priest': 1806, 'advic': 1807, 'curiou': 1808, 'reli': 1809, 'w': 1810, 'theatric': 1811, 'flow': 1812, 'addict': 1813, 'howard': 1814, 'jennif': 1815, 'skin': 1816, 'asian': 1817, 'secur': 1818, 'specif': 1819, 'luke': 1820, 'golden': 1821, 'promot': 1822, 'organ': 1823, 'core': 1824, 'comfort': 1825, 'cheat': 1826, 'cash': 1827, 'lucki': 1828, 'associ': 1829, 'lower': 1830, 'dislik': 1831, 'frequent': 1832, 'contribut': 1833, 'regret': 1834, 'spell': 1835, 'frankli': 1836, 'degre': 1837, 'devic': 1838, 'wing': 1839, 'balanc': 1840, 'sake': 1841, 'forgiv': 1842, 'lake': 1843, 'print': 1844, 'mass': 1845, 'betti': 1846, 'thoma': 1847, 'crack': 1848, 'unexpect': 1849, 'gordon': 1850, 'unfold': 1851, 'grown': 1852, 'categori': 1853, 'amateur': 1854, 'depend': 1855, 'construct': 1856, 'invit': 1857, 'intellectu': 1858, 'grew': 1859, 'matur': 1860, 'condit': 1861, 'walter': 1862, 'honor': 1863, 'anna': 1864, 'sudden': 1865, 'sole': 1866, 'veteran': 1867, 'spectacular': 1868, 'mirror': 1869, 'card': 1870, 'liner': 1871, 'freedom': 1872, 'robin': 1873, 'grip': 1874, 'meanwhil': 1875, 'demonstr': 1876, 'gift': 1877, 'overli': 1878, 'experienc': 1879, 'section': 1880, 'sheriff': 1881, 'circumst': 1882, 'crappi': 1883, 'colour': 1884, 'unabl': 1885, 'oliv': 1886, 'theori': 1887, 'drew': 1888, 'brilliantli': 1889, 'subtitl': 1890, 'matt': 1891, 'sheer': 1892, 'pile': 1893, 'cook': 1894, 'parker': 1895, 'path': 1896, 'laughter': 1897, 'altern': 1898, 'treatment': 1899, 'lawyer': 1900, 'relief': 1901, 'wander': 1902, 'hall': 1903, 'accident': 1904, 'sinatra': 1905, 'defin': 1906, 'dragon': 1907, 'captiv': 1908, 'hank': 1909, 'halloween': 1910, 'gratuit': 1911, 'moor': 1912, 'cowboy': 1913, 'kung': 1914, 'wayn': 1915, 'wound': 1916, 'broadway': 1917, 'barbara': 1918, 'jacki': 1919, 'k': 1920, 'unintent': 1921, 'canadian': 1922, 'winter': 1923, 'spoof': 1924, 'statement': 1925, 'surreal': 1926, 'compos': 1927, 'cheer': 1928, 'fare': 1929, 'treasur': 1930, 'fish': 1931, 'gonna': 1932, 'woodi': 1933, 'victor': 1934, 'unrealist': 1935, 'sensit': 1936, 'emerg': 1937, 'sympathet': 1938, 'ran': 1939, 'driven': 1940, 'neighbor': 1941, 'topic': 1942, 'menac': 1943, 'expos': 1944, 'glass': 1945, 'authent': 1946, 'overlook': 1947, 'ancient': 1948, 'handsom': 1949, 'chief': 1950, 'michel': 1951, 'gross': 1952, 'stranger': 1953, 'feet': 1954, 'nevertheless': 1955, 'pleasant': 1956, 'built': 1957, 'comedian': 1958, 'russel': 1959, 'contemporari': 1960, 'network': 1961, 'cinderella': 1962, 'miser': 1963, 'consider': 1964, 'gori': 1965, 'letter': 1966, 'blockbust': 1967, 'endless': 1968, 'earn': 1969, 'underr': 1970, 'solv': 1971, 'switch': 1972, 'brook': 1973, 'joseph': 1974, 'edward': 1975, 'virgin': 1976, 'convict': 1977, 'bullet': 1978, 'victoria': 1979, 'scenario': 1980, '0': 1981, 'chosen': 1982, 'cynic': 1983, 'scale': 1984, 'alex': 1985, 'sword': 1986, 'gut': 1987, 'outrag': 1988, 'curs': 1989, 'com': 1990, 'wrap': 1991, 'monkey': 1992, 'screenwrit': 1993, 'juli': 1994, 'uk': 1995, 'proper': 1996, 'substanc': 1997, 'driver': 1998, 'bird': 1999, 'par': 2000, 'court': 2001, 'indic': 2002, 'remov': 2003, 'loser': 2004, 'rental': 2005, 'advertis': 2006, 'naiv': 2007, 'grave': 2008, 'nanci': 2009, 'consequ': 2010, 'inevit': 2011, 'roy': 2012, 'slap': 2013, 'invis': 2014, 'bridg': 2015, 'le': 2016, 'fatal': 2017, 'germani': 2018, 'brave': 2019, 'provok': 2020, 'anger': 2021, 'loui': 2022, 'ador': 2023, 'footbal': 2024, 'alcohol': 2025, 'chan': 2026, 'anderson': 2027, 'stumbl': 2028, 'ryan': 2029, 'professor': 2030, 'willi': 2031, 'bat': 2032, 'australian': 2033, 'patrick': 2034, 'sharp': 2035, '1930': 2036, 'assassin': 2037, 'cell': 2038, 'ape': 2039, 'heck': 2040, 'lousi': 2041, 'eight': 2042, 'liber': 2043, 'saturday': 2044, 'strongli': 2045, 'trilog': 2046, 'deni': 2047, 'amateurish': 2048, 'refresh': 2049, 'sin': 2050, 'san': 2051, 'resid': 2052, 'justifi': 2053, 'vagu': 2054, 'creator': 2055, 'reput': 2056, 'defeat': 2057, 'terrifi': 2058, 'indi': 2059, 'mini': 2060, 'sympathi': 2061, 'expert': 2062, 'prevent': 2063, 'tediou': 2064, 'tabl': 2065, 'endur': 2066, 'task': 2067, 'employ': 2068, 'basebal': 2069, 'trial': 2070, 'imit': 2071, 'offend': 2072, 'rival': 2073, 'che': 2074, 'dig': 2075, 'pitch': 2076, 'complaint': 2077, 'beach': 2078, 'max': 2079, 'fairi': 2080, 'europ': 2081, 'weekend': 2082, 'format': 2083, 'risk': 2084, 'purchas': 2085, 'murphi': 2086, 'nois': 2087, 'tini': 2088, 'reminisc': 2089, 'titan': 2090, 'glimps': 2091, 'powel': 2092, 'hype': 2093, 'harsh': 2094, 'bite': 2095, 'fals': 2096, 'strip': 2097, 'north': 2098, 'prime': 2099, '14': 2100, 'asleep': 2101, 'till': 2102, 'texa': 2103, 'africa': 2104, 'destruct': 2105, 'descript': 2106, 'revel': 2107, 'arrest': 2108, 'semi': 2109, 'sitcom': 2110, 'spin': 2111, 'inner': 2112, 'surfac': 2113, 'uninterest': 2114, 'excess': 2115, 'argu': 2116, 'massiv': 2117, 'makeup': 2118, 'maintain': 2119, 'hitchcock': 2120, 'controversi': 2121, 'dinosaur': 2122, 'twin': 2123, 'expens': 2124, 'reject': 2125, 'melodrama': 2126, 'insist': 2127, 'ludicr': 2128, 'ideal': 2129, 'stare': 2130, 'kim': 2131, 'erot': 2132, 'atroci': 2133, 'host': 2134, 'nail': 2135, 'ga': 2136, 'columbo': 2137, 'forest': 2138, 'supernatur': 2139, 'press': 2140, 'subplot': 2141, 'ala': 2142, 'presum': 2143, 'dude': 2144, 'cant': 2145, 'notch': 2146, 'identifi': 2147, 'method': 2148, 'plagu': 2149, 'closer': 2150, 'crude': 2151, 'guest': 2152, 'forgett': 2153, 'character': 2154, 'ear': 2155, 'beast': 2156, 'landscap': 2157, 'border': 2158, 'princess': 2159, 'lion': 2160, 'foster': 2161, 'urban': 2162, 'aunt': 2163, 'damag': 2164, 'jungl': 2165, 'previous': 2166, 'bound': 2167, 'accus': 2168, 'storytel': 2169, 'pacino': 2170, 'birth': 2171, 'doll': 2172, 'guid': 2173, 'thirti': 2174, 'propaganda': 2175, 'chose': 2176, 'nude': 2177, 'emma': 2178, 'jess': 2179, 'warrior': 2180, 'whoever': 2181, '25': 2182, 'mate': 2183, 'mainstream': 2184, 'pet': 2185, 'exact': 2186, 'poster': 2187, 'cooper': 2188, 'size': 2189, 'friday': 2190, 'upset': 2191, 'deadli': 2192, 'merit': 2193, 'gritti': 2194, 'latest': 2195, 'settl': 2196, 'corps': 2197, 'buff': 2198, 'blend': 2199, '1990': 2200, 'warner': 2201, 'popul': 2202, 'sun': 2203, 'rough': 2204, 'contest': 2205, 'ton': 2206, 'citizen': 2207, 'contact': 2208, 'wilson': 2209, 'overcom': 2210, 'metal': 2211, 'alic': 2212, 'pitt': 2213, 'rat': 2214, 'mgm': 2215, 'environ': 2216, 'widow': 2217, 'bu': 2218, 'select': 2219, 'particip': 2220, 'lift': 2221, 'link': 2222, 'revolut': 2223, 'guilti': 2224, 'ted': 2225, 'matrix': 2226, 'prostitut': 2227, 'exagger': 2228, 'moron': 2229, 'corner': 2230, 'afternoon': 2231, 'corpor': 2232, 'johnson': 2233, '1960': 2234, 'accompani': 2235, 'holm': 2236, 'friendli': 2237, 'sincer': 2238, 'doom': 2239, 'hood': 2240, 'clair': 2241, 'multipl': 2242, 'instal': 2243, 'leagu': 2244, 'sunday': 2245, 'blah': 2246, 'aka': 2247, 'lugosi': 2248, 'junk': 2249, 'grim': 2250, 'advis': 2251, 'irish': 2252, 'string': 2253, 'defend': 2254, 'campi': 2255, 'examin': 2256, 'hip': 2257, 'confid': 2258, 'icon': 2259, 'shut': 2260, 'rachel': 2261, 'pro': 2262, 'tight': 2263, 'shake': 2264, 'varieti': 2265, 'goal': 2266, 'directli': 2267, 'denni': 2268, 'attach': 2269, 'jaw': 2270, 'mexican': 2271, 'medic': 2272, 'sullivan': 2273, 'legendari': 2274, 'truck': 2275, 'prior': 2276, 'terrorist': 2277, 'vietnam': 2278, 'breast': 2279, 'sarah': 2280, 'courag': 2281, 'dean': 2282, 'sentenc': 2283, 'duke': 2284, 'bourn': 2285, 'donald': 2286, 'split': 2287, 'yell': 2288, 'un': 2289, 'behav': 2290, 'entri': 2291, 'proceed': 2292, 'hong': 2293, 'nose': 2294, 'jerk': 2295, 'unconvinc': 2296, 'forth': 2297, 'concentr': 2298, 'gather': 2299, 'confess': 2300, 'crush': 2301, 'swim': 2302, 'buri': 2303, 'stolen': 2304, 'lifetim': 2305, 'everywher': 2306, 'borrow': 2307, 'turkey': 2308, 'deliveri': 2309, 'spite': 2310, 'julia': 2311, 'lip': 2312, 'pan': 2313, 'california': 2314, 'downright': 2315, 'offici': 2316, 'china': 2317, 'hoffman': 2318, 'quest': 2319, 'reward': 2320, 'proud': 2321, 'freeman': 2322, 'flight': 2323, 'sink': 2324, 'fade': 2325, 'notori': 2326, 'sir': 2327, 'fabul': 2328, 'jon': 2329, 'inept': 2330, 'betray': 2331, 'jail': 2332, 'worthwhil': 2333, 'encourag': 2334, 'lazi': 2335, 'survivor': 2336, 'storm': 2337, 'susan': 2338, 'branagh': 2339, 'shower': 2340, 'lisa': 2341, 'bell': 2342, 'relev': 2343, 'retard': 2344, 'bag': 2345, 'cousin': 2346, 'imageri': 2347, 'teeth': 2348, 'summari': 2349, 'toler': 2350, 'quirki': 2351, 'shark': 2352, 'hugh': 2353, 'bride': 2354, 'tremend': 2355, 'alright': 2356, 'mexico': 2357, 'trade': 2358, 'facial': 2359, 'stab': 2360, 'finger': 2361, 'bitter': 2362, 'von': 2363, 'pose': 2364, 'blown': 2365, 'hyster': 2366, 'ha': 2367, 'afterward': 2368, 'cruel': 2369, 'christ': 2370, 'scheme': 2371, 'ned': 2372, 'address': 2373, 'ron': 2374, 'bone': 2375, 'larri': 2376, 'screw': 2377, 'pursu': 2378, 'distinct': 2379, 'thumb': 2380, 'tour': 2381, 'traci': 2382, 'feed': 2383, 'swear': 2384, 'snake': 2385, 'beg': 2386, 'obscur': 2387, 'mechan': 2388, 'chair': 2389, 'raw': 2390, 'stomach': 2391, 'photo': 2392, 'occas': 2393, 'gruesom': 2394, 'resist': 2395, 'argument': 2396, 'chain': 2397, 'necessarili': 2398, 'southern': 2399, 'render': 2400, 'holiday': 2401, 'sidney': 2402, 'hardi': 2403, 'cabin': 2404, 'heavili': 2405, 'satan': 2406, 'understood': 2407, 'india': 2408, 'indulg': 2409, 'racist': 2410, 'philip': 2411, 'midnight': 2412, 'obnoxi': 2413, 'stalk': 2414, 'belov': 2415, 'forgot': 2416, 'fourth': 2417, 'outfit': 2418, 'pregnant': 2419, 'lay': 2420, 'tongu': 2421, 'integr': 2422, 'restor': 2423, 'garden': 2424, 'inhabit': 2425, '17': 2426, 'magazin': 2427, 'carol': 2428, 'slapstick': 2429, 'deeper': 2430, 'ticket': 2431, 'brad': 2432, 'devot': 2433, 'shoe': 2434, 'lincoln': 2435, 'incid': 2436, 'maria': 2437, 'benefit': 2438, 'disbelief': 2439, 'divorc': 2440, 'guarante': 2441, 'sandler': 2442, 'anticip': 2443, 'underground': 2444, 'elizabeth': 2445, 'lili': 2446, 'creation': 2447, 'slave': 2448, 'explod': 2449, 'princip': 2450, 'bbc': 2451, 'greater': 2452, 'amazingli': 2453, 'capit': 2454, 'cring': 2455, 'mildli': 2456, 'halfway': 2457, 'funnier': 2458, 'introduct': 2459, 'extraordinari': 2460, 'lesli': 2461, 'overwhelm': 2462, 'extent': 2463, 'text': 2464, 'advantag': 2465, 'wreck': 2466, 'punish': 2467, 'tap': 2468, 'transfer': 2469, 'enhanc': 2470, 'deliber': 2471, 'dynam': 2472, 'horrif': 2473, 'lo': 2474, 'preview': 2475, 'east': 2476, 'jessica': 2477, 'lane': 2478, 'error': 2479, 'plant': 2480, 'miller': 2481, 'vacat': 2482, 'miscast': 2483, 'basi': 2484, 'ensu': 2485, 'homosexu': 2486, 'appli': 2487, 'sophist': 2488, 'vincent': 2489, '2000': 2490, 'via': 2491, 'sleazi': 2492, 'bollywood': 2493, 'reed': 2494, 'mansion': 2495, 'elev': 2496, 'measur': 2497, 'spoken': 2498, 'extend': 2499, 'uncomfort': 2500, 'steel': 2501, 'blair': 2502, 'stanley': 2503, 'mous': 2504, 'cathol': 2505, 'conceiv': 2506, 'overact': 2507, 'melt': 2508, 'savag': 2509, 'daili': 2510, 'assign': 2511, 'hippi': 2512, 'beer': 2513, 'goofi': 2514, 'alter': 2515, 'breathtak': 2516, 'dentist': 2517, 'fix': 2518, 'subsequ': 2519, 'carpent': 2520, 'inspector': 2521, 'everyday': 2522, 'burt': 2523, 'nowaday': 2524, 'sacrific': 2525, 'oppos': 2526, 'succe': 2527, 'properli': 2528, 'neck': 2529, 'massacr': 2530, 'block': 2531, 'laura': 2532, 'circl': 2533, 'concert': 2534, 'lesser': 2535, 'pool': 2536, 'fay': 2537, 'portrait': 2538, 'access': 2539, 'mob': 2540, 'seagal': 2541, 'fallen': 2542, 'christi': 2543, 'grey': 2544, 'react': 2545, 'sinist': 2546, 'usa': 2547, 'relax': 2548, 'chees': 2549, 'competit': 2550, 'isol': 2551, 'jake': 2552, 'jewish': 2553, 'ironi': 2554, 'stink': 2555, '2006': 2556, 'appal': 2557, 'suitabl': 2558, 'nine': 2559, 'creep': 2560, 'nonetheless': 2561, 'lyric': 2562, 'spiritu': 2563, 'immens': 2564, 'chop': 2565, 'needless': 2566, 'spring': 2567, 'sold': 2568, 'nut': 2569, 'reduc': 2570, 'retir': 2571, 'adopt': 2572, 'showcas': 2573, 'shirt': 2574, 'franchis': 2575, 'rage': 2576, 'user': 2577, 'navi': 2578, 'luci': 2579, 'per': 2580, 'bulli': 2581, 'uninspir': 2582, 'zone': 2583, 'nurs': 2584, 'stanwyck': 2585, 'asham': 2586, 'bath': 2587, 'digit': 2588, 'jay': 2589, 'laid': 2590, 'amongst': 2591, 'illustr': 2592, 'oddli': 2593, '2001': 2594, 'sutherland': 2595, 'upper': 2596, '1940': 2597, 'broadcast': 2598, 'throat': 2599, 'fulfil': 2600, 'baker': 2601, 'aspir': 2602, 'brando': 2603, 'disguis': 2604, 'stylish': 2605, '18': 2606, 'thief': 2607, 'pound': 2608, 'nobl': 2609, 'em': 2610, 'wwii': 2611, 'wanna': 2612, 'neighborhood': 2613, 'pride': 2614, 'impli': 2615, 'endear': 2616, 'cinematograph': 2617, 'dawn': 2618, 'distribut': 2619, 'prop': 2620, 'dinner': 2621, 'diseas': 2622, 'shoulder': 2623, 'albeit': 2624, 'tens': 2625, '16': 2626, 'coher': 2627, 'shift': 2628, 'rochest': 2629, 'bett': 2630, 'bo': 2631, 'surf': 2632, 'poignant': 2633, 'shout': 2634, 'snow': 2635, 'silenc': 2636, 'function': 2637, 'forti': 2638, 'knife': 2639, 'matthau': 2640, 'contract': 2641, 'rebel': 2642, 'wash': 2643, 'duti': 2644, 'reunion': 2645, 'henc': 2646, 'chuck': 2647, 'heat': 2648, 'instinct': 2649, 'mindless': 2650, 'height': 2651, 'proof': 2652, 'elvira': 2653, 'horrend': 2654, 'cannib': 2655, 'derek': 2656, 'internet': 2657, 'cancel': 2658, 'eeri': 2659, 'silver': 2660, 'widmark': 2661, 'greatli': 2662, 'neat': 2663, 'repetit': 2664, 'spielberg': 2665, 'innov': 2666, 'alik': 2667, 'glori': 2668, 'absorb': 2669, 'musician': 2670, 'elvi': 2671, 'etern': 2672, 'mill': 2673, 'incoher': 2674, 'premier': 2675, 'torn': 2676, 'pie': 2677, 'crisi': 2678, 'redempt': 2679, 'trite': 2680, 'nelson': 2681, 'homag': 2682, 'announc': 2683, 'burton': 2684, 'infam': 2685, 'racism': 2686, 'britain': 2687, 'itali': 2688, 'wealthi': 2689, 'precis': 2690, 'lovabl': 2691, 'horrifi': 2692, 'fbi': 2693, 'diamond': 2694, 'bang': 2695, 'blank': 2696, 'parallel': 2697, 'pat': 2698, 'ensembl': 2699, 'happili': 2700, 'dedic': 2701, 'hammer': 2702, 'chaplin': 2703, 'resolut': 2704, 'flop': 2705, 'wilder': 2706, 'helen': 2707, 'streisand': 2708, 'mar': 2709, 'broke': 2710, 'plastic': 2711, 'oil': 2712, 'triumph': 2713, 'factori': 2714, 'disagre': 2715, 'conclud': 2716, 'carter': 2717, 'cube': 2718, 'st': 2719, 'weight': 2720, 'march': 2721, 'fighter': 2722, 'climb': 2723, 'chuckl': 2724, 'row': 2725, 'vega': 2726, 'rocket': 2727, 'own': 2728, 'bush': 2729, 'mst3k': 2730, 'dump': 2731, 'meaning': 2732, 'lust': 2733, 'unforgett': 2734, 'luca': 2735, 'thug': 2736, 'boot': 2737, 'spare': 2738, 'kurt': 2739, 'enorm': 2740, 'wherea': 2741, 'dane': 2742, 'sensibl': 2743, 'fifti': 2744, 'karloff': 2745, 'brand': 2746, 'dear': 2747, 'caricatur': 2748, 'stress': 2749, 'threat': 2750, 'butt': 2751, 'adequ': 2752, 'arnold': 2753, 'bobbi': 2754, 'difficulti': 2755, 'engin': 2756, 'rap': 2757, 'polish': 2758, 'swing': 2759, 'hamlet': 2760, 'homeless': 2761, 'arrog': 2762, 'barri': 2763, 'ralph': 2764, 'secretari': 2765, 'fest': 2766, 'ego': 2767, 'flynn': 2768, 'elabor': 2769, 'journalist': 2770, 'arrang': 2771, 'tool': 2772, 'puppet': 2773, 'unbear': 2774, 'simpson': 2775, 'spike': 2776, 'float': 2777, 'grate': 2778, 'fanci': 2779, 'resort': 2780, 'conspiraci': 2781, 'induc': 2782, 'pig': 2783, 'cruis': 2784, 'exercis': 2785, 'muppet': 2786, 'guilt': 2787, 'tribut': 2788, 'choreograph': 2789, 'phillip': 2790, 'basement': 2791, 'boll': 2792, 'document': 2793, 'puzzl': 2794, 'tower': 2795, 'toilet': 2796, '24': 2797, 'item': 2798, 'medium': 2799, 'scarecrow': 2800, 'fianc': 2801, 'file': 2802, 'slip': 2803, 'babe': 2804, 'korean': 2805, 'layer': 2806, 'ham': 2807, 'ward': 2808, 'editor': 2809, 'stan': 2810, 'minim': 2811, 'glover': 2812, 'librari': 2813, 'territori': 2814, 'slaughter': 2815, 'portion': 2816, 'orient': 2817, 'superfici': 2818, 'larger': 2819, 'persona': 2820, 'catherin': 2821, 'assur': 2822, 'transit': 2823, 'denzel': 2824, 'inexplic': 2825, 'philosoph': 2826, 'doc': 2827, 'spark': 2828, 'curti': 2829, 'walken': 2830, 'ban': 2831, 'owe': 2832, 'boredom': 2833, 'pg': 2834, 'sneak': 2835, 'shi': 2836, 'jet': 2837, 'dorothi': 2838, 'jeremi': 2839, 'wolf': 2840, 'financi': 2841, 'backdrop': 2842, 'hudson': 2843, 'multi': 2844, 'ambigu': 2845, 'profound': 2846, 'cusack': 2847, 'metaphor': 2848, 'whale': 2849, 'eleph': 2850, 'hack': 2851, 'union': 2852, 'rave': 2853, 'elsewher': 2854, 'gadget': 2855, '2005': 2856, 'notion': 2857, 'birthday': 2858, 'stiff': 2859, 'ultra': 2860, 'viru': 2861, 'implaus': 2862, 'disc': 2863, 'urg': 2864, 'hawk': 2865, 'distanc': 2866, 'eastwood': 2867, 'deriv': 2868, 'squar': 2869, 'reader': 2870, 'afford': 2871, 'poison': 2872, 'superhero': 2873, 'lloyd': 2874, 'bibl': 2875, 'newspap': 2876, 'slight': 2877, 'canada': 2878, 'eva': 2879, '1st': 2880, 'pad': 2881, 'charisma': 2882, 'essenc': 2883, 'skit': 2884, 'cure': 2885, 'health': 2886, 'sadist': 2887, 'button': 2888, 'drown': 2889, 'huh': 2890, 'montag': 2891, 'heston': 2892, 'restaur': 2893, 'spread': 2894, 'dealt': 2895, 'lab': 2896, 'gradual': 2897, 'godfath': 2898, 'estat': 2899, 'maniac': 2900, 'companion': 2901, 'invest': 2902, 'peak': 2903, 'scoobi': 2904, 'fetch': 2905, 'muslim': 2906, 'alli': 2907, 'countless': 2908, 'miik': 2909, 'gothic': 2910, 'tea': 2911, 'subtleti': 2912, 'servant': 2913, 'cup': 2914, 'kane': 2915, 'ritter': 2916, 'iii': 2917, 'heroic': 2918, 'elect': 2919, 'electr': 2920, 'salli': 2921, 'charismat': 2922, 'briefli': 2923, 'bud': 2924, 'nuanc': 2925, 'admittedli': 2926, 'neil': 2927, 'ingredi': 2928, 'toss': 2929, 'wannab': 2930, 'reel': 2931, 'tender': 2932, 'grandmoth': 2933, 'cole': 2934, 'resourc': 2935, 'pit': 2936, 'reev': 2937, 'poverti': 2938, 'shall': 2939, 'mild': 2940, 'carrey': 2941, 'label': 2942, 'mafia': 2943, 'stood': 2944, 'kubrick': 2945, 'punk': 2946, 'gate': 2947, 'stronger': 2948, 'pauli': 2949, 'dawson': 2950, 'useless': 2951, 'fond': 2952, 'ian': 2953, 'cox': 2954, 'assault': 2955, 'outcom': 2956, 'tag': 2957, 'smooth': 2958, 'updat': 2959, 'terri': 2960, 'burst': 2961, 'astair': 2962, 'easier': 2963, 'bakshi': 2964, 'smash': 2965, 'cardboard': 2966, 'samurai': 2967, 'exchang': 2968, 'coincid': 2969, 'vulner': 2970, '2002': 2971, 'vari': 2972, 'fist': 2973, 'increasingli': 2974, 'rex': 2975, 'qualifi': 2976, 'divers': 2977, 'resolv': 2978, 'melodramat': 2979, 'sketch': 2980, 'suspend': 2981, 'scratch': 2982, 'insert': 2983, 'luckili': 2984, 'conveni': 2985, 'be': 2986, 'reynold': 2987, 'templ': 2988, 'brillianc': 2989, 'blast': 2990, 'tame': 2991, 'jami': 2992, 'ambiti': 2993, 'strictli': 2994, 'walker': 2995, 'hamilton': 2996, 'soprano': 2997, 'matthew': 2998, 'fisher': 2999, 'meat': 3000, 'coach': 3001, 'gotta': 3002, 'pin': 3003, 'nuclear': 3004, 'seventi': 3005, 'farm': 3006, 'spooki': 3007, 'monk': 3008, 'kudo': 3009, 'butcher': 3010, 'worthless': 3011, 'empir': 3012, 'discoveri': 3013, 'brosnan': 3014, 'timeless': 3015, 'recreat': 3016, 'cave': 3017, 'struck': 3018, 'ninja': 3019, 'closet': 3020, 'eccentr': 3021, 'revers': 3022, 'instantli': 3023, 'grasp': 3024, 'clock': 3025, 'convolut': 3026, 'joey': 3027, 'mitchel': 3028, 'sidekick': 3029, 'wipe': 3030, 'cliff': 3031, 'evok': 3032, 'selfish': 3033, 'inconsist': 3034, 'bleak': 3035, 'fifteen': 3036, 'seller': 3037, 'importantli': 3038, 'eighti': 3039, 'sloppi': 3040, 'gray': 3041, 'miracl': 3042, 'communist': 3043, 'pal': 3044, 'declar': 3045, 'clown': 3046, 'norman': 3047, 'partli': 3048, 'lifestyl': 3049, 'cheek': 3050, 'chew': 3051, 'farc': 3052, 'ho': 3053, 'aforement': 3054, '45': 3055, 'superbl': 3056, 'enthusiast': 3057, 'websit': 3058, 'destin': 3059, 'debat': 3060, 'flawless': 3061, 'seed': 3062, 'australia': 3063, 'piano': 3064, 'psychiatrist': 3065, 'stoog': 3066, 'incompet': 3067, 'wrestl': 3068, 'splatter': 3069, 'directori': 3070, 'abc': 3071, 'dash': 3072, 'regardless': 3073, 'dire': 3074, 'drivel': 3075, 'emili': 3076, 'soviet': 3077, 'anni': 3078, 'wick': 3079, 'pressur': 3080, 'bash': 3081, 'slice': 3082, 'kitchen': 3083, 'akshay': 3084, 'jar': 3085, 'beaten': 3086, 'increas': 3087, 'mann': 3088, 'duo': 3089, 'curios': 3090, 'distant': 3091, 'boil': 3092, 'flower': 3093, 'cameron': 3094, 'suppli': 3095, 'lou': 3096, 'prize': 3097, 'glow': 3098, 'chapter': 3099, 'cagney': 3100, 'artifici': 3101, 'seduc': 3102, 'helicopt': 3103, 'judi': 3104, 'recov': 3105, 'pleasantli': 3106, 'doo': 3107, 'blob': 3108, 'dave': 3109, 'ken': 3110, 'cia': 3111, 'eleg': 3112, 'web': 3113, 'francisco': 3114, 'goldberg': 3115, 'psychot': 3116, 'drunken': 3117, 'combat': 3118, 'ranger': 3119, 'turner': 3120, 'craig': 3121, 'splendid': 3122, 'perri': 3123, 'glenn': 3124, 'hop': 3125, 'favour': 3126, 'craven': 3127, 'panic': 3128, 'ellen': 3129, 'laurel': 3130, 'flip': 3131, 'philosophi': 3132, 'fx': 3133, 'alexand': 3134, '20th': 3135, 'falk': 3136, 'hatr': 3137, 'rid': 3138, 'plausibl': 3139, 'shortli': 3140, 'wizard': 3141, 'gentl': 3142, 'ruth': 3143, 'min': 3144, 'slightest': 3145, 'greek': 3146, 'graduat': 3147, 'modesti': 3148, 'gandhi': 3149, 'we': 3150, 'jealou': 3151, 'preciou': 3152, 'fund': 3153, 'harm': 3154, 'felix': 3155, 'legal': 3156, 'dracula': 3157, 'tall': 3158, 'futurist': 3159, 'knight': 3160, 'holi': 3161, 'unpleas': 3162, 'ocean': 3163, 'lend': 3164, 'manhattan': 3165, 'ami': 3166, 'forbidden': 3167, 'childish': 3168, 'scientif': 3169, 'overdon': 3170, 'bless': 3171, 'reviv': 3172, 'explicit': 3173, 'mock': 3174, 'digniti': 3175, 'nod': 3176, 'giallo': 3177, 'tank': 3178, 'thread': 3179, 'pirat': 3180, 'eve': 3181, '2004': 3182, 'nerv': 3183, 'verhoeven': 3184, '99': 3185, 'yesterday': 3186, 'margaret': 3187, 'unwatch': 3188, 'broad': 3189, 'thick': 3190, 'awe': 3191, 'torment': 3192, 'awaken': 3193, 'repeatedli': 3194, 'fever': 3195, 'mel': 3196, 'elderli': 3197, 'uniform': 3198, 'acclaim': 3199, 'publish': 3200, 'automat': 3201, 'ambit': 3202, 'ah': 3203, 'absenc': 3204, 'romero': 3205, 'stiller': 3206, 'kay': 3207, 'politician': 3208, 'custom': 3209, 'launch': 3210, 'rivet': 3211, 'lean': 3212, 'eas': 3213, 'bin': 3214, 'griffith': 3215, 'timothi': 3216, 'roman': 3217, 'royal': 3218, 'homicid': 3219, 'pulp': 3220, 'pierc': 3221, 'phrase': 3222, 'stinker': 3223, 'purpl': 3224, 'warren': 3225, 'gabriel': 3226, 'termin': 3227, 'darker': 3228, 'bathroom': 3229, 'foul': 3230, 'antic': 3231, 'wallac': 3232, 'crook': 3233, 'sunshin': 3234, 'transport': 3235, 'tomato': 3236, 'viciou': 3237, 'horrid': 3238, 'juvenil': 3239, 'kenneth': 3240, 'q': 3241, 'prom': 3242, 'ought': 3243, 'album': 3244, 'evolv': 3245, 'sixti': 3246, 'pray': 3247, 'marin': 3248, 'awak': 3249, 'brazil': 3250, 'li': 3251, 'saint': 3252, 'eyr': 3253, 'revolutionari': 3254, 'contrari': 3255, 'choreographi': 3256, 'hollow': 3257, '2003': 3258, 'coloni': 3259, 'karen': 3260, 'packag': 3261, 'donna': 3262, 'rambo': 3263, 'overr': 3264, 'ireland': 3265, 'conserv': 3266, 'twelv': 3267, 'defi': 3268, 'kapoor': 3269, 'blade': 3270, 'stole': 3271, 'candid': 3272, 'dose': 3273, 'mummi': 3274, 'beatti': 3275, 'boast': 3276, 'option': 3277, 'nerd': 3278, 'mildr': 3279, 'ramon': 3280, 'protest': 3281, 'flame': 3282, 'detract': 3283, 'confirm': 3284, 'astonish': 3285, 'natali': 3286, 'funer': 3287, 'trio': 3288, 'kirk': 3289, 'fulci': 3290, 'global': 3291, 'collabor': 3292, 'jazz': 3293, 'altman': 3294, 'bull': 3295, 'audio': 3296, 'spit': 3297, 'whip': 3298, 'mystic': 3299, 'leap': 3300, 'nicholson': 3301, 'delici': 3302, 'destini': 3303, 'yellow': 3304, 'tommi': 3305, 'enterpris': 3306, 'bottl': 3307, 'racial': 3308, 'shade': 3309, 'blake': 3310, 'swedish': 3311, 'staff': 3312, 'vivid': 3313, 'merci': 3314, 'fonda': 3315, 'popcorn': 3316, 'adolesc': 3317, 'meaningless': 3318, 'harder': 3319, 'todd': 3320, 'pseudo': 3321, 'enchant': 3322, 'bedroom': 3323, 'altogeth': 3324, 'reunit': 3325, 'neo': 3326, 'visibl': 3327, 'inherit': 3328, 'threw': 3329, 'roommat': 3330, 'crocodil': 3331, 'moodi': 3332, 'ruthless': 3333, 'voight': 3334, 'fanat': 3335, 'suspici': 3336, 'atlanti': 3337, 'reserv': 3338, 'tip': 3339, 'uneven': 3340, 'await': 3341, 'edi': 3342, 'befriend': 3343, 'decor': 3344, 'synopsi': 3345, 'bust': 3346, 'lawrenc': 3347, 'respond': 3348, 'wire': 3349, 'lemmon': 3350, 'exhibit': 3351, 'kennedi': 3352, 'leonard': 3353, 'madonna': 3354, 'jew': 3355, 'clumsi': 3356, 'bold': 3357, 'carl': 3358, 'clint': 3359, 'garner': 3360, '2007': 3361, 'palma': 3362, 'rural': 3363, 'holli': 3364, 'centr': 3365, 'bradi': 3366, 'abysm': 3367, 'ventur': 3368, 'unsettl': 3369, 'bargain': 3370, 'chao': 3371, 'voyag': 3372, 'incident': 3373, 'audit': 3374, 'dimens': 3375, 'characterist': 3376, 'versu': 3377, 'tiger': 3378, 'cuba': 3379, 'lit': 3380, 'echo': 3381, 'hart': 3382, 'imperson': 3383, 'daddi': 3384, 'troop': 3385, 'immigr': 3386, '2nd': 3387, 'neglect': 3388, 'acknowledg': 3389, 'poetic': 3390, 'trail': 3391, 'timon': 3392, 'cari': 3393, 'elimin': 3394, 'mall': 3395, 'nearbi': 3396, 'wealth': 3397, 'ant': 3398, 'cd': 3399, 'humili': 3400, 'marshal': 3401, 'homer': 3402, 'mistaken': 3403, 'celluloid': 3404, 'collaps': 3405, 'repuls': 3406, 'pun': 3407, 'saga': 3408, 'prejudic': 3409, 'paus': 3410, 'solo': 3411, 'mickey': 3412, 'jeffrey': 3413, 'domest': 3414, 'infect': 3415, 'apolog': 3416, 'harvey': 3417, 'milk': 3418, 'chest': 3419, 'interrupt': 3420, 'ginger': 3421, 'inappropri': 3422, 'sore': 3423, 'olivi': 3424, 'gear': 3425, 'hbo': 3426, 'pant': 3427, 'equip': 3428, 'undoubtedli': 3429, '1996': 3430, 'inan': 3431, 'tribe': 3432, 'coat': 3433, 'promin': 3434, 'leon': 3435, 'cake': 3436, 'assembl': 3437, 'coffe': 3438, 'polanski': 3439, 'institut': 3440, 'pen': 3441, 'trace': 3442, 'exot': 3443, 'furthermor': 3444, 'florida': 3445, 'devast': 3446, 'vulgar': 3447, 'brooklyn': 3448, 'embrac': 3449, 'maggi': 3450, 'pot': 3451, 'primari': 3452, 'jenni': 3453, 'solut': 3454, 'consum': 3455, 'aveng': 3456, 'retain': 3457, 'airplan': 3458, 'humbl': 3459, 'colleagu': 3460, 'instant': 3461, 'highest': 3462, 'colonel': 3463, 'wive': 3464, 'gender': 3465, 'godzilla': 3466, 'outer': 3467, 'rick': 3468, 'descend': 3469, 'linda': 3470, 'dutch': 3471, 'cope': 3472, 'seduct': 3473, '1999': 3474, 'bowl': 3475, 'dian': 3476, 'smaller': 3477, 'ya': 3478, 'principl': 3479, 'illog': 3480, '3rd': 3481, 'strain': 3482, 'sale': 3483, 'poke': 3484, 'disabl': 3485, 'cue': 3486, 'yard': 3487, 'rabbit': 3488, 'scope': 3489, 'hal': 3490, 'gloriou': 3491, 'blatant': 3492, 'dive': 3493, 'lol': 3494, 'beneath': 3495, 'glamor': 3496, 'inferior': 3497, 'vast': 3498, 'predecessor': 3499, 'devoid': 3500, 'dud': 3501, 'primarili': 3502, 'secondli': 3503, 'mixtur': 3504, 'bubbl': 3505, 'gundam': 3506, 'myer': 3507, 'casual': 3508, 'arab': 3509, 'garbo': 3510, 'trademark': 3511, 'et': 3512, 'simplist': 3513, 'countrysid': 3514, 'invas': 3515, 'alfr': 3516, 'pearl': 3517, 'breed': 3518, 'shelf': 3519, 'alert': 3520, 'z': 3521, 'disjoint': 3522, 'aggress': 3523, 'talki': 3524, 'hideou': 3525, 'senseless': 3526, 'shirley': 3527, 'museum': 3528, 'grinch': 3529, 'streep': 3530, 'april': 3531, 'domino': 3532, 'hardcor': 3533, 'acid': 3534, 'robinson': 3535, 'mayor': 3536, 'loyal': 3537, 'stack': 3538, 'stir': 3539, 'defens': 3540, 'applaud': 3541, 'experiment': 3542, 'unhappi': 3543, 'boom': 3544, 'mail': 3545, 'stellar': 3546, 'vanish': 3547, 'sh': 3548, 'hopeless': 3549, 'oz': 3550, 'obtain': 3551, 'maci': 3552, 'robberi': 3553, 'illeg': 3554, 'rendit': 3555, 'khan': 3556, 'disgrac': 3557, 'uwe': 3558, 'slide': 3559, 'tenant': 3560, 'hartley': 3561, 'berlin': 3562, 'psychic': 3563, 'recruit': 3564, 'spider': 3565, 'dicken': 3566, 'craze': 3567, 'dismiss': 3568, 'declin': 3569, 'counter': 3570, 'wont': 3571, 'blew': 3572, 'rifl': 3573, 'diana': 3574, 'amanda': 3575, 'topless': 3576, 'soccer': 3577, 'tempt': 3578, 'emphasi': 3579, 'span': 3580, 'grandfath': 3581, 'fri': 3582, 'scroog': 3583, 'incomprehens': 3584, 'ethnic': 3585, 'intim': 3586, 'resurrect': 3587, 'shed': 3588, 'goer': 3589, 'ration': 3590, 'niro': 3591, 'parad': 3592, 'porno': 3593, 'wet': 3594, 'riot': 3595, 'revolt': 3596, 'trashi': 3597, 'faster': 3598, 'sibl': 3599, 'woo': 3600, 'shaw': 3601, 'lumet': 3602, 'sympath': 3603, 'bitch': 3604, 'justin': 3605, 'rider': 3606, 'gap': 3607, 'feminist': 3608, 'honesti': 3609, 'hopper': 3610, 'mario': 3611, 'unreal': 3612, 'eager': 3613, 'nephew': 3614, 'patriot': 3615, 'wheel': 3616, 'enlighten': 3617, 'weakest': 3618, 'ensur': 3619, 'hesit': 3620, 'lena': 3621, 'andr': 3622, 'jonathan': 3623, 'slick': 3624, 'dealer': 3625, 'worm': 3626, 'region': 3627, '00': 3628, 'farmer': 3629, 'immort': 3630, 'steam': 3631, 'partial': 3632, 'wendi': 3633, 'biographi': 3634, 'commend': 3635, 'choru': 3636, 'ballet': 3637, 'kingdom': 3638, 'skull': 3639, 'prequel': 3640, 'similarli': 3641, 'composit': 3642, 'safeti': 3643, 'leo': 3644, 'hung': 3645, 'confin': 3646, 'psychopath': 3647, 'sandra': 3648, 'repress': 3649, 'nostalg': 3650, 'blunt': 3651, 'sappi': 3652, 'vice': 3653, 'charlott': 3654, 'franco': 3655, 'util': 3656, 'victori': 3657, 'morri': 3658, 'wore': 3659, 'mutant': 3660, 'snap': 3661, 'properti': 3662, 'owen': 3663, 'macarthur': 3664, 'latin': 3665, 'kyle': 3666, 'bergman': 3667, 'deed': 3668, 'compens': 3669, 'pattern': 3670, 'despair': 3671, 'whoopi': 3672, 'heartbreak': 3673, 'farrel': 3674, 'valuabl': 3675, 'cg': 3676, 'tad': 3677, 'drum': 3678, 'miseri': 3679, 'rope': 3680, 'bumbl': 3681, 'bow': 3682, 'nervou': 3683, 'recycl': 3684, 'strand': 3685, 'exit': 3686, 'repli': 3687, 'compass': 3688, 'emperor': 3689, 'rambl': 3690, 'tail': 3691, 'thru': 3692, 'speci': 3693, 'rocki': 3694, 'drain': 3695, 'dust': 3696, 'snl': 3697, '1972': 3698, 'hyde': 3699, 'bonu': 3700, 'dalton': 3701, 'acquir': 3702, 'montana': 3703, 'campbel': 3704, 'del': 3705, 'bleed': 3706, 'gal': 3707, 'rotten': 3708, 'carradin': 3709, 'gimmick': 3710, '35': 3711, 'percept': 3712, 'oppress': 3713, 'downhil': 3714, 'airport': 3715, 'radic': 3716, 'orson': 3717, 'chess': 3718, 'romp': 3719, 'pour': 3720, 'tonight': 3721, 'roth': 3722, 'contempl': 3723, 'wacki': 3724, 'da': 3725, 'rapist': 3726, 'mistress': 3727, 'olli': 3728, 'martian': 3729, 'slug': 3730, 'heal': 3731, 'pervert': 3732, 'arguabl': 3733, 'belt': 3734, 'dazzl': 3735, 'tackl': 3736, 'attorney': 3737, 'mislead': 3738, 'preach': 3739, 'unpredict': 3740, 'shelley': 3741, 'pursuit': 3742, 'banal': 3743, 'tooth': 3744, 'champion': 3745, 'stilt': 3746, 'paltrow': 3747, 'taught': 3748, 'arc': 3749, '1983': 3750, 'pervers': 3751, 'slash': 3752, 'edgar': 3753, 'melodi': 3754, 'programm': 3755, 'orang': 3756, 'vocal': 3757, 'employe': 3758, 'mesmer': 3759, 'poem': 3760, 'conneri': 3761, 'vengeanc': 3762, 'cleverli': 3763, 'rubi': 3764, 'uplift': 3765, 'plight': 3766, 'bela': 3767, 'sensat': 3768, 'closest': 3769, 'duval': 3770, 'chicken': 3771, 'raymond': 3772, 'tiresom': 3773, 'dixon': 3774, 'virginia': 3775, 'franki': 3776, 'gambl': 3777, 'passeng': 3778, 'graham': 3779, 'maid': 3780, 'marti': 3781, 'paranoia': 3782, 'giggl': 3783, 'clone': 3784, 'quarter': 3785, 'habit': 3786, 'monologu': 3787, 'outing': 3788, 'convincingli': 3789, 'crystal': 3790, 'profan': 3791, 'mute': 3792, 'abraham': 3793, '1968': 3794, 'numb': 3795, 'lundgren': 3796, 'iran': 3797, 'engross': 3798, 'whine': 3799, 'bay': 3800, 'calm': 3801, 'suffic': 3802, 'extens': 3803, 'inject': 3804, 'climact': 3805, 'tube': 3806, 'yawn': 3807, 'secretli': 3808, 'gerard': 3809, 'pokemon': 3810, 'scottish': 3811, 'sirk': 3812, 'swallow': 3813, 'amitabh': 3814, 'volum': 3815, 'fed': 3816, 'plod': 3817, 'expand': 3818, 'earl': 3819, 'nichola': 3820, 'profess': 3821, 'poetri': 3822, 'taxi': 3823, 'surpass': 3824, 'bend': 3825, 'trend': 3826, 'im': 3827, 'grotesqu': 3828, 'linger': 3829, 'frankenstein': 3830, 'junior': 3831, 'underst': 3832, 'richardson': 3833, 'meander': 3834, 'backward': 3835, 'dispos': 3836, 'franci': 3837, 'austen': 3838, 'ethan': 3839, 'chicago': 3840, 'lowest': 3841, 'abort': 3842, 'septemb': 3843, 'spock': 3844, 'descent': 3845, 'myth': 3846, 'econom': 3847, 'literatur': 3848, 'dysfunct': 3849, 'greedi': 3850, 'sue': 3851, 'stallon': 3852, 'tourist': 3853, 'cannon': 3854, 'muddl': 3855, 'waitress': 3856, 'catchi': 3857, 'eugen': 3858, 'der': 3859, 'household': 3860, 'nostalgia': 3861, 'compliment': 3862, 'rant': 3863, 'instrument': 3864, 'hum': 3865, 'rubber': 3866, 'lure': 3867, 'mundan': 3868, 'simplic': 3869, 'spoke': 3870, 'randi': 3871, 'sissi': 3872, 'occupi': 3873, 'stale': 3874, 'flee': 3875, 'eaten': 3876, 'alongsid': 3877, 'cent': 3878, 'mortal': 3879, 'equival': 3880, 'carel': 3881, 'molli': 3882, 'coast': 3883, 'recognis': 3884, 'recognit': 3885, 'damon': 3886, 'lang': 3887, 'june': 3888, 'dement': 3889, 'bacal': 3890, 'phoni': 3891, 'crucial': 3892, 'insur': 3893, 'irrelev': 3894, 'phantom': 3895, 'dictat': 3896, 'furi': 3897, 'firstli': 3898, 'duck': 3899, 'hello': 3900, 'mankind': 3901, 'deaf': 3902, 'map': 3903, 'omen': 3904, 'louis': 3905, 'onlin': 3906, 'drake': 3907, 'ashley': 3908, 'lengthi': 3909, 'rude': 3910, 'distinguish': 3911, 'newli': 3912, 'labor': 3913, 'blackmail': 3914, 'twilight': 3915, 'reign': 3916, 'bike': 3917, 'antwon': 3918, 'likewis': 3919, 'loyalti': 3920, 'grayson': 3921, 'dreari': 3922, '1973': 3923, 'damm': 3924, 'freez': 3925, 'bump': 3926, 'buffalo': 3927, 'heel': 3928, 'rooney': 3929, 'wisdom': 3930, 'biko': 3931, 'cyborg': 3932, 'daisi': 3933, 'nineti': 3934, 'ridden': 3935, 'interior': 3936, 'prey': 3937, 'keith': 3938, 'inher': 3939, 'proce': 3940, 'vein': 3941, 'baddi': 3942, 'basketbal': 3943, 'pink': 3944, 'attribut': 3945, 'boxer': 3946, 'barrymor': 3947, 'chronicl': 3948, 'emphas': 3949, 'analysi': 3950, 'provoc': 3951, 'worn': 3952, 'unorigin': 3953, 'sailor': 3954, 'butler': 3955, 'exposur': 3956, 'approv': 3957, 'startl': 3958, 'incorpor': 3959, 'tunnel': 3960, 'undeni': 3961, 'barrel': 3962, 'stalker': 3963, 'unrel': 3964, 'predat': 3965, 'condemn': 3966, 'hypnot': 3967, 'improvis': 3968, 'othello': 3969, 'simmon': 3970, 'millionair': 3971, 'belushi': 3972, 'fleet': 3973, 'substitut': 3974, 'elm': 3975, 'meyer': 3976, 'drift': 3977, 'walsh': 3978, 'robbin': 3979, 'meg': 3980, 'bunni': 3981, 'indiffer': 3982, 'er': 3983, 'mighti': 3984, 'carla': 3985, 'underli': 3986, 'julian': 3987, 'nicol': 3988, 'degrad': 3989, 'mormon': 3990, 'rukh': 3991, 'vital': 3992, 'alarm': 3993, 'exquisit': 3994, 'hay': 3995, 'shove': 3996, 'watson': 3997, 'warmth': 3998, 'firm': 3999, 'nyc': 4000, 'palac': 4001, 'novak': 4002, 'mtv': 4003, 'greed': 4004, 'lampoon': 4005, 'enthusiasm': 4006, 'dolph': 4007, 'priceless': 4008, 'agenda': 4009, 'marion': 4010, 'edgi': 4011, 'reid': 4012, 'errol': 4013, 'roof': 4014, '3d': 4015, 'alison': 4016, 'unawar': 4017, 'disord': 4018, 'session': 4019, 'crown': 4020, 'preserv': 4021, 'showdown': 4022, 'unleash': 4023, 'what': 4024, '13th': 4025, 'petti': 4026, 'zizek': 4027, 'nun': 4028, 'angela': 4029, 'peck': 4030, 'randomli': 4031, 'ponder': 4032, 'testament': 4033, 'profit': 4034, 'minimum': 4035, 'cassidi': 4036, 'peril': 4037, 'coup': 4038, 'simultan': 4039, '1933': 4040, 'spain': 4041, 'sergeant': 4042, 'eastern': 4043, 'iraq': 4044, 'valentin': 4045, 'distort': 4046, 'thompson': 4047, 'drip': 4048, 'pamela': 4049, 'beatl': 4050, 'glanc': 4051, 'israel': 4052, 'championship': 4053, 'gestur': 4054, 'campaign': 4055, 'orlean': 4056, 'represent': 4057, 'regist': 4058, 'realm': 4059, 'crow': 4060, 'shootout': 4061, 'crawl': 4062, 'jan': 4063, 'exposit': 4064, 'reson': 4065, 'travesti': 4066, 'quinn': 4067, 'cooki': 4068, 'bro': 4069, 'rout': 4070, 'cream': 4071, '1984': 4072, 'mon': 4073, 'unimagin': 4074, 'calib': 4075, 'gentleman': 4076, 'scotland': 4077, 'contradict': 4078, 'restrain': 4079, 'perpetu': 4080, 'stake': 4081, 'sabrina': 4082, 'brenda': 4083, 'wig': 4084, 'han': 4085, 'valley': 4086, 'stroke': 4087, 'kurosawa': 4088, 'empathi': 4089, 'miyazaki': 4090, 'climat': 4091, 'din': 4092, 'buster': 4093, 'fido': 4094, 'painter': 4095, 'traumat': 4096, '1997': 4097, 'perceiv': 4098, '1987': 4099, 'unsatisfi': 4100, 'tacki': 4101, 'stargat': 4102, 'derang': 4103, 'shoddi': 4104, 'distress': 4105, 'ross': 4106, 'greg': 4107, 'delic': 4108, 'pretens': 4109, 'unseen': 4110, 'josh': 4111, 'sammi': 4112, 'darren': 4113, 'compromis': 4114, 'baldwin': 4115, 'femm': 4116, 'passabl': 4117, 'geek': 4118, 'monoton': 4119, 'mclaglen': 4120, 'ustinov': 4121, 'businessman': 4122, 'abomin': 4123, 'cloud': 4124, 'pole': 4125, 'meryl': 4126, 'shaki': 4127, 'censor': 4128, 'absent': 4129, 'dana': 4130, 'demis': 4131, 'warrant': 4132, 'spacey': 4133, 'sucker': 4134, 'crawford': 4135, 'soderbergh': 4136, 'wax': 4137, 'fuller': 4138, 'verbal': 4139, 'exclus': 4140, 'accuraci': 4141, 'reluct': 4142, 'fenc': 4143, 'valid': 4144, 'deniro': 4145, 'norm': 4146, 'clash': 4147, 'deceas': 4148, 'dee': 4149, 'tarantino': 4150, 'primit': 4151, 'fog': 4152, 'nathan': 4153, 'correctli': 4154, 'furiou': 4155, 'sid': 4156, 'click': 4157, 'uncov': 4158, 'austin': 4159, 'expedit': 4160, 'tech': 4161, 'jewel': 4162, 'seal': 4163, 'anchor': 4164, 'antonioni': 4165, '1993': 4166, 'judgment': 4167, 'unravel': 4168, 'polici': 4169, 'kumar': 4170, 'wholli': 4171, 'pocket': 4172, 'behold': 4173, 'enforc': 4174, 'trait': 4175, '2008': 4176, 'slam': 4177, 'bake': 4178, 'seldom': 4179, 'sustain': 4180, 'ritual': 4181, 'roller': 4182, 'clerk': 4183, 'darn': 4184, 'dreck': 4185, '3000': 4186, 'fought': 4187, 'vanc': 4188, 'fabric': 4189, 'mode': 4190, 'malon': 4191, 'logan': 4192, 'joel': 4193, 'unfair': 4194, 'wang': 4195, 'conduct': 4196, 'wretch': 4197, 'hallucin': 4198, 'tax': 4199, 'fart': 4200, 'patienc': 4201, 'sand': 4202, 'murray': 4203, 'shanghai': 4204, '1971': 4205, 'nicola': 4206, 'debt': 4207, 'alec': 4208, 'crippl': 4209, 'temper': 4210, 'sheet': 4211, '1995': 4212, 'sunni': 4213, 'phil': 4214, 'isabel': 4215, 'pete': 4216, 'conscious': 4217, 'critiqu': 4218, 'canyon': 4219, 'tactic': 4220, 'shell': 4221, 'squad': 4222, 'penni': 4223, 'bias': 4224, 'divid': 4225, 'stuart': 4226, 'technicolor': 4227, 'despis': 4228, 'outlin': 4229, 'soup': 4230, 'runner': 4231, 'scriptwrit': 4232, 'fundament': 4233, 'grief': 4234, 'stark': 4235, 'clau': 4236, 'sweep': 4237, 'helpless': 4238, 'preston': 4239, 'schedul': 4240, 'preposter': 4241, 'exhaust': 4242, 'rita': 4243, 'guitar': 4244, 'bridget': 4245, 'robber': 4246, 'legaci': 4247, 'lacklust': 4248, 'delv': 4249, 'invad': 4250, 'restrict': 4251, 'propos': 4252, 'passag': 4253, 'agenc': 4254, 'cigarett': 4255, 'gregori': 4256, 'kansa': 4257, 'bloom': 4258, 'consciou': 4259, 'liberti': 4260, 'connor': 4261, 'implic': 4262, 'sugar': 4263, 'jodi': 4264, 'sniper': 4265, 'russia': 4266, 'alley': 4267, 'newman': 4268, 'drove': 4269, 'flair': 4270, 'rear': 4271, 'jacket': 4272, 'downey': 4273, 'inabl': 4274, 'culmin': 4275, 'alicia': 4276, 'boyl': 4277, 'unexpectedli': 4278, 'sentinel': 4279, 'palanc': 4280, 'rehash': 4281, 'vomit': 4282, 'marc': 4283, 'horn': 4284, '1936': 4285, 'rampag': 4286, 'lush': 4287, 'asylum': 4288, 'aesthet': 4289, 'tendenc': 4290, 'tripe': 4291, 'ladder': 4292, '22': 4293, 'rod': 4294, 'sharon': 4295, 'rehears': 4296, 'behaviour': 4297, 'awhil': 4298, 'pale': 4299, 'feat': 4300, 'improb': 4301, 'chainsaw': 4302, 'cap': 4303, 'wrench': 4304, 'bacon': 4305, 'delet': 4306, 'karl': 4307, 'arrow': 4308, 'vet': 4309, 'foxx': 4310, 'mccoy': 4311, 'yeti': 4312, 'kolchak': 4313, 'paradis': 4314, '1978': 4315, 'rhythm': 4316, 'wildli': 4317, 'visitor': 4318, 'conscienc': 4319, '1988': 4320, 'el': 4321, 'sung': 4322, 'underneath': 4323, 'paramount': 4324, '19th': 4325, 'stream': 4326, 'newcom': 4327, 'financ': 4328, 'elit': 4329, 'thunderbird': 4330, 'hackney': 4331, 'shortcom': 4332, 'wagner': 4333, 'amazon': 4334, 'weav': 4335, 'coaster': 4336, 'prank': 4337, 'minu': 4338, 'suffici': 4339, 'hungri': 4340, 'rumor': 4341, 'filler': 4342, 'fright': 4343, 'lurk': 4344, 'basing': 4345, 'aristocrat': 4346, 'tomorrow': 4347, 'tasteless': 4348, 'globe': 4349, '1920': 4350, 'hulk': 4351, 'loneli': 4352, 'suspicion': 4353, 'spice': 4354, 'scoop': 4355, 'quietli': 4356, 'counterpart': 4357, 'recogniz': 4358, 'grudg': 4359, 'brit': 4360, 'rub': 4361, 'entranc': 4362, 'literari': 4363, 'chamberlain': 4364, '1989': 4365, 'iv': 4366, 'penn': 4367, 'leigh': 4368, 'abrupt': 4369, 'choppi': 4370, 'beverli': 4371, 'paxton': 4372, 'smell': 4373, 'dirt': 4374, 'teas': 4375, 'minist': 4376, 'worship': 4377, 'bread': 4378, 'heist': 4379, 'standout': 4380, '1939': 4381, 'hopkin': 4382, 'secondari': 4383, 'lectur': 4384, 'straightforward': 4385, 'en': 4386, 'couch': 4387, 'naughti': 4388, 'ingeni': 4389, 'ram': 4390, 'impos': 4391, 'immers': 4392, 'posey': 4393, 'atroc': 4394, 'inmat': 4395, 'tierney': 4396, 'cancer': 4397, 'springer': 4398, '75': 4399, 'curli': 4400, 'wwe': 4401, 'chavez': 4402, 'quaid': 4403, 'bernard': 4404, 'missil': 4405, 'entitl': 4406, 'net': 4407, 'clan': 4408, '1986': 4409, 'moreov': 4410, 'policeman': 4411, 'heartfelt': 4412, 'enthral': 4413, 'convert': 4414, 'geni': 4415, 'morbid': 4416, 'laurenc': 4417, 'nemesi': 4418, 'injuri': 4419, 'yearn': 4420, 'ace': 4421, 'cattl': 4422, 'sassi': 4423, 'transcend': 4424, 'nolan': 4425, 'lindsay': 4426, 'watcher': 4427, 'ratso': 4428, 'skeptic': 4429, 'duel': 4430, 'variat': 4431, 'misguid': 4432, 'attenborough': 4433, 'sublim': 4434, 'esther': 4435, 'dont': 4436, 'graini': 4437, 'setup': 4438, 'facil': 4439, 'mytholog': 4440, 'obstacl': 4441, 'cruelti': 4442, 'uncut': 4443, 'characteris': 4444, 'grin': 4445, 'brood': 4446, 'hk': 4447, 'artsi': 4448, 'spiral': 4449, '1979': 4450, 'vader': 4451, 'tyler': 4452, 'out': 4453, 'diari': 4454, 'reliabl': 4455, 'buzz': 4456, 'kitti': 4457, 'bye': 4458, 'unexplain': 4459, 'poe': 4460, 'egg': 4461, 'rosemari': 4462, 'youngest': 4463, 'steadi': 4464, 'hopelessli': 4465, 'moder': 4466, 'bean': 4467, 'enabl': 4468, 'carlito': 4469, 'kidman': 4470, 'puppi': 4471, 'acquaint': 4472, 'athlet': 4473, 'bounc': 4474, 'fuel': 4475, 'heap': 4476, 'despic': 4477, 'exterior': 4478, '1969': 4479, 'preming': 4480, 'brendan': 4481, 'bewar': 4482, 'patricia': 4483, 'christin': 4484, 'disastr': 4485, 'hain': 4486, 'oblig': 4487, 'weather': 4488, 'niec': 4489, 'spontan': 4490, 'kline': 4491, 'decept': 4492, 'gina': 4493, 'baffl': 4494, 'sweat': 4495, 'martha': 4496, 'bronson': 4497, 'clueless': 4498, 'effici': 4499, 'gillian': 4500, 'underworld': 4501, 'hammi': 4502, 'narrow': 4503, 'taboo': 4504, 'candl': 4505, 'mayhem': 4506, '73': 4507, 'outlaw': 4508, 'renaiss': 4509, 'angst': 4510, 'tick': 4511, 'astound': 4512, 'loath': 4513, 'shatter': 4514, 'hepburn': 4515, 'preachi': 4516, 'uh': 4517, 'insipid': 4518, 'scar': 4519, 'goof': 4520, 'suprem': 4521, 'mermaid': 4522, 'sleepwalk': 4523, 'harmless': 4524, 'dilemma': 4525, 'fontain': 4526, 'enlist': 4527, 'housewif': 4528, 'injur': 4529, 'virtu': 4530, '19': 4531, 'circu': 4532, 'sooner': 4533, 'analyz': 4534, 'biker': 4535, 'trigger': 4536, 'lester': 4537, 'headach': 4538, 'loi': 4539, 'rome': 4540, 'viewpoint': 4541, 'dandi': 4542, 'ebert': 4543, 'stair': 4544, 'idol': 4545, 'hokey': 4546, 'salt': 4547, 'oldest': 4548, 'scorses': 4549, 'phenomenon': 4550, 'stimul': 4551, 'zoom': 4552, 'claustrophob': 4553, 'hooker': 4554, 'gere': 4555, 'amor': 4556, 'glorifi': 4557, 'intric': 4558, 'contempt': 4559, 'overlong': 4560, 'camcord': 4561, 'corbett': 4562, 'surgeri': 4563, 'macho': 4564, 'spade': 4565, 'dismal': 4566, 'immatur': 4567, 'tripl': 4568, 'hostag': 4569, 'slimi': 4570, 'fluff': 4571, 'filth': 4572, 'bent': 4573, 'dish': 4574, 'sox': 4575, 'boston': 4576, 'redund': 4577, 'steer': 4578, 'ariel': 4579, 'foolish': 4580, 'whore': 4581, 'guin': 4582, 'cassavet': 4583, 'shred': 4584, 'cohen': 4585, 'conquer': 4586, 'dwarf': 4587, '1976': 4588, 'astronaut': 4589, 'keen': 4590, 'faint': 4591, 'messi': 4592, '1981': 4593, 'widescreen': 4594, 'radiat': 4595, 'down': 4596, 'frantic': 4597, 'flag': 4598, 'margin': 4599, 'mutual': 4600, 'shield': 4601, 'antagonist': 4602, 'beard': 4603, 'cow': 4604, 'trivia': 4605, 'joker': 4606, 'preced': 4607, 'rhyme': 4608, 'obligatori': 4609, 'transplant': 4610, 'flirt': 4611, 'flashi': 4612, 'assert': 4613, 'proport': 4614, 'gasp': 4615, 'spree': 4616, 'muscl': 4617, 'strongest': 4618, 'fascist': 4619, 'perman': 4620, 'alvin': 4621, 'harold': 4622, 'nolt': 4623, 'naschi': 4624, 'mount': 4625, 'zane': 4626, 'cush': 4627, 'schlock': 4628, 'remad': 4629, 'corman': 4630, 'spinal': 4631, 'gabl': 4632, 'discern': 4633, 'hara': 4634, 'off': 4635, 'divin': 4636, 'boob': 4637, 'neurot': 4638, 'strive': 4639, 'vaniti': 4640, 'aborigin': 4641, 'departur': 4642, 'interestingli': 4643, 'bachelor': 4644, 'barn': 4645, 'wield': 4646, 'persuad': 4647, 'danish': 4648, 'repris': 4649, 'inflict': 4650, 'claud': 4651, 'resum': 4652, '95': 4653, 'sensual': 4654, 'scandal': 4655, '1945': 4656, 'www': 4657, 'ritchi': 4658, 'triangl': 4659, 'archiv': 4660, 'someday': 4661, 'info': 4662, 'bitten': 4663, 'brush': 4664, 'deer': 4665, 'raj': 4666, 'instruct': 4667, '28': 4668, 'mol': 4669, 'carey': 4670, 'mobil': 4671, 'flock': 4672, 'fishburn': 4673, 'pickford': 4674, 'dim': 4675, 'wendigo': 4676, 'frontier': 4677, 'parson': 4678, 'hilar': 4679, 'proclaim': 4680, 'miracul': 4681, 'colin': 4682, 'prophet': 4683, 'recit': 4684, 'hapless': 4685, 'casino': 4686, 'helm': 4687, 'undermin': 4688, 'axe': 4689, 'earnest': 4690, 'senior': 4691, 'pacif': 4692, 'cliffhang': 4693, 'clad': 4694, 'rot': 4695, 'banter': 4696, 'dame': 4697, 'submit': 4698, 'traffic': 4699, 'hug': 4700, 'melissa': 4701, 'cb': 4702, 'dylan': 4703, 'europa': 4704, 'heartwarm': 4705, 'mobster': 4706, 'cher': 4707, 'jade': 4708, 'harrison': 4709, 'timberlak': 4710, 'fragil': 4711, 'biblic': 4712, 'carlo': 4713, 'ish': 4714, 'vibrant': 4715, 'cycl': 4716, 'loretta': 4717, 'artwork': 4718, 'pixar': 4719, 'kathryn': 4720, 'bate': 4721, 'neill': 4722, 'anton': 4723, 'luka': 4724, 'wardrob': 4725, 'illus': 4726, 'winchest': 4727, 'blatantli': 4728, 'lucil': 4729, 'vanessa': 4730, 'northern': 4731, 'alexandr': 4732, 'electron': 4733, 'holocaust': 4734, 'choke': 4735, 'nope': 4736, 'estrang': 4737, 'bikini': 4738, 'toronto': 4739, 'pc': 4740, 'breakfast': 4741, 'marlon': 4742, 'trier': 4743, 'akin': 4744, 'lui': 4745, 'misfortun': 4746, 'cerebr': 4747, 'mason': 4748, 'http': 4749, 'aris': 4750, 'foil': 4751, 'orphan': 4752, 'vile': 4753, 'sicken': 4754, 'static': 4755, 'jordan': 4756, 'articl': 4757, 'uma': 4758, 'shepherd': 4759, 'legitim': 4760, 'seedi': 4761, 'redneck': 4762, 'razor': 4763, 'flavor': 4764, 'feast': 4765, 'token': 4766, 'venom': 4767, 'eli': 4768, 'rooki': 4769, 'bondag': 4770, 'jo': 4771, 'isra': 4772, 'milo': 4773, 'antholog': 4774, 'mathieu': 4775, 'gilbert': 4776, 'ceremoni': 4777, 'wrestler': 4778, 'oppon': 4779, 'smack': 4780, 'magician': 4781, 'boyer': 4782, 'deem': 4783, 'tack': 4784, 'peer': 4785, 'swept': 4786, 'frog': 4787, 'disregard': 4788, 'styliz': 4789, 'psych': 4790, 'linear': 4791, 'huston': 4792, 'highway': 4793, 'abund': 4794, 'fifth': 4795, 'nightclub': 4796, 'comprehend': 4797, 'howl': 4798, 'affleck': 4799, 'charlton': 4800, 'retriev': 4801, 'turd': 4802, 'dudley': 4803, 'leather': 4804, 'shorter': 4805, 'outdat': 4806, 'ideolog': 4807, 'audrey': 4808, 'glare': 4809, 'cartoonish': 4810, 'clinic': 4811, 'knightley': 4812, 'gunga': 4813, 'feminin': 4814, 'cuban': 4815, 'summar': 4816, 'compris': 4817, 'bastard': 4818, 'toe': 4819, 'breakdown': 4820, 'lavish': 4821, 'btw': 4822, '4th': 4823, 'chip': 4824, 'evolut': 4825, 'einstein': 4826, 'cemeteri': 4827, 'client': 4828, 'conrad': 4829, 'uniformli': 4830, 'braveheart': 4831, 'lifeless': 4832, 'energet': 4833, 'lighter': 4834, 'potter': 4835, 'collector': 4836, '1991': 4837, 'sleaz': 4838, '1994': 4839, 'greet': 4840, 'durat': 4841, 'corn': 4842, 'whack': 4843, 'newer': 4844, 'monument': 4845, 'salman': 4846, 'snatch': 4847, 'phenomen': 4848, 'senat': 4849, 'bogu': 4850, 'spine': 4851, 'tara': 4852, 'plate': 4853, 'boo': 4854, 'spawn': 4855, 'deliver': 4856, 'moe': 4857, 'goldsworthi': 4858, 'mitch': 4859, 'jare': 4860, 'neatli': 4861, 'eleven': 4862, 'sorrow': 4863, 'trauma': 4864, 'ie': 4865, 'bori': 4866, 'judd': 4867, 'fluid': 4868, '1977': 4869, 'spectacl': 4870, 'clara': 4871, 'evelyn': 4872, 'occup': 4873, 'healthi': 4874, 'armstrong': 4875, 'pronounc': 4876, 'creek': 4877, 'jule': 4878, 'constitut': 4879, '1974': 4880, 'kent': 4881, 'nina': 4882, 'liu': 4883, 'inaccuraci': 4884, 'replay': 4885, 'outright': 4886, 'undead': 4887, 'embark': 4888, 'signal': 4889, 'randolph': 4890, 'jam': 4891, 'lex': 4892, 'historian': 4893, 'belli': 4894, 'ol': 4895, 'luxuri': 4896, 'appl': 4897, 'gilliam': 4898, 'mcqueen': 4899, 'wtf': 4900, 'capot': 4901, 'kazan': 4902, 'jedi': 4903, 'firmli': 4904, 'alleg': 4905, 'bulk': 4906, 'cecil': 4907, 'undertak': 4908, 'congratul': 4909, 'conan': 4910, 'pioneer': 4911, 'sidewalk': 4912, 'inclus': 4913, 'fruit': 4914, 'abound': 4915, 'unattract': 4916, 'relentless': 4917, 'carmen': 4918, 'porter': 4919, 'blur': 4920, 'cape': 4921, 'sacrif': 4922, 'propheci': 4923, 'antonio': 4924, 'inaccur': 4925, 'truman': 4926, 'palm': 4927, 'tokyo': 4928, 'decapit': 4929, 'id': 4930, 'miniseri': 4931, 'paula': 4932, 'curtain': 4933, 'bait': 4934, 'basket': 4935, 'roar': 4936, 'forgiven': 4937, 'lauren': 4938, 'lanc': 4939, 'comb': 4940, 'ash': 4941, 'meal': 4942, 'knee': 4943, 'genet': 4944, 'spray': 4945, 'subtli': 4946, 'walt': 4947, 'groan': 4948, 'mum': 4949, 'miami': 4950, 'galaxi': 4951, 'rosario': 4952, 'pepper': 4953, 'poker': 4954, 'aussi': 4955, 'kiddi': 4956, '1985': 4957, 'goldblum': 4958, 'unsuspect': 4959, 'vain': 4960, 'vignett': 4961, 'comprehens': 4962, 'bsg': 4963, 'motorcycl': 4964, 'masterson': 4965, 'profil': 4966, 'epitom': 4967, 'bravo': 4968, 'dubiou': 4969, 'incorrect': 4970, 'weari': 4971, 'asset': 4972, 'sparkl': 4973, 'evan': 4974, 'optimist': 4975, 'assort': 4976, 'modest': 4977, 'casper': 4978, 'drone': 4979, 'growth': 4980, 'hackman': 4981, 'handicap': 4982, 'ghetto': 4983, 'weaker': 4984, 'sophi': 4985, '21st': 4986, 'omin': 4987, 'orchestr': 4988, 'scariest': 4989, 'frontal': 4990, 'ingrid': 4991, 'jill': 4992, 'substanti': 4993, 'reincarn': 4994, 'vastli': 4995, 'macabr': 4996, 'mice': 4997, 'monti': 4998, 'detach': 4999}\n"
     ]
    }
   ],
   "source": [
    "print(word_dict)"
   ]
  },
  {
   "cell_type": "markdown",
   "metadata": {},
   "source": [
    "**Question:** What are the five most frequently appearing (tokenized) words in the training set? Does it makes sense that these words appear frequently in the training set?"
   ]
  },
  {
   "cell_type": "markdown",
   "metadata": {},
   "source": [
    "**Answer:**"
   ]
  },
  {
   "cell_type": "code",
   "execution_count": 15,
   "metadata": {},
   "outputs": [
    {
     "name": "stdout",
     "output_type": "stream",
     "text": [
      "['movi', 'film', 'one', 'like', 'time']\n"
     ]
    }
   ],
   "source": [
    "# TODO: Use this space to determine the five most frequently appearing words in the training set.\n",
    "print(list(word_dict)[:5])"
   ]
  },
  {
   "cell_type": "markdown",
   "metadata": {},
   "source": [
    "### Save `word_dict`\n",
    "\n",
    "Later on when we construct an endpoint which processes a submitted review we will need to make use of the `word_dict` which we have created. As such, we will save it to a file now for future use."
   ]
  },
  {
   "cell_type": "code",
   "execution_count": 16,
   "metadata": {},
   "outputs": [],
   "source": [
    "data_dir = '../data/pytorch' # The folder we will use for storing data\n",
    "if not os.path.exists(data_dir): # Make sure that the folder exists\n",
    "    os.makedirs(data_dir)"
   ]
  },
  {
   "cell_type": "code",
   "execution_count": 17,
   "metadata": {},
   "outputs": [],
   "source": [
    "with open(os.path.join(data_dir, 'word_dict.pkl'), \"wb\") as f:\n",
    "    pickle.dump(word_dict, f)"
   ]
  },
  {
   "cell_type": "markdown",
   "metadata": {},
   "source": [
    "### Transform the reviews\n",
    "\n",
    "Now that we have our word dictionary which allows us to transform the words appearing in the reviews into integers, it is time to make use of it and convert our reviews to their integer sequence representation, making sure to pad or truncate to a fixed length, which in our case is `500`."
   ]
  },
  {
   "cell_type": "code",
   "execution_count": 18,
   "metadata": {},
   "outputs": [],
   "source": [
    "def convert_and_pad(word_dict, sentence, pad=500):\n",
    "    NOWORD = 0 # We will use 0 to represent the 'no word' category\n",
    "    INFREQ = 1 # and we use 1 to represent the infrequent words, i.e., words not appearing in word_dict\n",
    "    \n",
    "    working_sentence = [NOWORD] * pad\n",
    "    \n",
    "    for word_index, word in enumerate(sentence[:pad]):\n",
    "        if word in word_dict:\n",
    "            working_sentence[word_index] = word_dict[word]\n",
    "        else:\n",
    "            working_sentence[word_index] = INFREQ\n",
    "            \n",
    "    return working_sentence, min(len(sentence), pad)\n",
    "\n",
    "def convert_and_pad_data(word_dict, data, pad=500):\n",
    "    result = []\n",
    "    lengths = []\n",
    "    \n",
    "    for sentence in data:\n",
    "        converted, leng = convert_and_pad(word_dict, sentence, pad)\n",
    "        result.append(converted)\n",
    "        lengths.append(leng)\n",
    "        \n",
    "    return np.array(result), np.array(lengths)"
   ]
  },
  {
   "cell_type": "code",
   "execution_count": 19,
   "metadata": {},
   "outputs": [],
   "source": [
    "train_X, train_X_len = convert_and_pad_data(word_dict, train_X)\n",
    "test_X, test_X_len = convert_and_pad_data(word_dict, test_X)"
   ]
  },
  {
   "cell_type": "markdown",
   "metadata": {},
   "source": [
    "As a quick check to make sure that things are working as intended, check to see what one of the reviews in the training set looks like after having been processeed. Does this look reasonable? What is the length of a review in the training set?"
   ]
  },
  {
   "cell_type": "code",
   "execution_count": 20,
   "metadata": {},
   "outputs": [
    {
     "data": {
      "text/plain": [
       "array([   2,  848,  324,  358,  204,   45,   75,  501,    1,    8,    1,\n",
       "         23, 1124,    8,   49,  405,   75,  792,  790, 1563,    1, 2051,\n",
       "          1,    1,    8,    4,  108, 1124,    1,  145,   49,  172,  963,\n",
       "        381,  163,    0,    0,    0,    0,    0,    0,    0,    0,    0,\n",
       "          0,    0,    0,    0,    0,    0,    0,    0,    0,    0,    0,\n",
       "          0,    0,    0,    0,    0,    0,    0,    0,    0,    0,    0,\n",
       "          0,    0,    0,    0,    0,    0,    0,    0,    0,    0,    0,\n",
       "          0,    0,    0,    0,    0,    0,    0,    0,    0,    0,    0,\n",
       "          0,    0,    0,    0,    0,    0,    0,    0,    0,    0,    0,\n",
       "          0,    0,    0,    0,    0,    0,    0,    0,    0,    0,    0,\n",
       "          0,    0,    0,    0,    0,    0,    0,    0,    0,    0,    0,\n",
       "          0,    0,    0,    0,    0,    0,    0,    0,    0,    0,    0,\n",
       "          0,    0,    0,    0,    0,    0,    0,    0,    0,    0,    0,\n",
       "          0,    0,    0,    0,    0,    0,    0,    0,    0,    0,    0,\n",
       "          0,    0,    0,    0,    0,    0,    0,    0,    0,    0,    0,\n",
       "          0,    0,    0,    0,    0,    0,    0,    0,    0,    0,    0,\n",
       "          0,    0,    0,    0,    0,    0,    0,    0,    0,    0,    0,\n",
       "          0,    0,    0,    0,    0,    0,    0,    0,    0,    0,    0,\n",
       "          0,    0,    0,    0,    0,    0,    0,    0,    0,    0,    0,\n",
       "          0,    0,    0,    0,    0,    0,    0,    0,    0,    0,    0,\n",
       "          0,    0,    0,    0,    0,    0,    0,    0,    0,    0,    0,\n",
       "          0,    0,    0,    0,    0,    0,    0,    0,    0,    0,    0,\n",
       "          0,    0,    0,    0,    0,    0,    0,    0,    0,    0,    0,\n",
       "          0,    0,    0,    0,    0,    0,    0,    0,    0,    0,    0,\n",
       "          0,    0,    0,    0,    0,    0,    0,    0,    0,    0,    0,\n",
       "          0,    0,    0,    0,    0,    0,    0,    0,    0,    0,    0,\n",
       "          0,    0,    0,    0,    0,    0,    0,    0,    0,    0,    0,\n",
       "          0,    0,    0,    0,    0,    0,    0,    0,    0,    0,    0,\n",
       "          0,    0,    0,    0,    0,    0,    0,    0,    0,    0,    0,\n",
       "          0,    0,    0,    0,    0,    0,    0,    0,    0,    0,    0,\n",
       "          0,    0,    0,    0,    0,    0,    0,    0,    0,    0,    0,\n",
       "          0,    0,    0,    0,    0,    0,    0,    0,    0,    0,    0,\n",
       "          0,    0,    0,    0,    0,    0,    0,    0,    0,    0,    0,\n",
       "          0,    0,    0,    0,    0,    0,    0,    0,    0,    0,    0,\n",
       "          0,    0,    0,    0,    0,    0,    0,    0,    0,    0,    0,\n",
       "          0,    0,    0,    0,    0,    0,    0,    0,    0,    0,    0,\n",
       "          0,    0,    0,    0,    0,    0,    0,    0,    0,    0,    0,\n",
       "          0,    0,    0,    0,    0,    0,    0,    0,    0,    0,    0,\n",
       "          0,    0,    0,    0,    0,    0,    0,    0,    0,    0,    0,\n",
       "          0,    0,    0,    0,    0,    0,    0,    0,    0,    0,    0,\n",
       "          0,    0,    0,    0,    0,    0,    0,    0,    0,    0,    0,\n",
       "          0,    0,    0,    0,    0,    0,    0,    0,    0,    0,    0,\n",
       "          0,    0,    0,    0,    0,    0,    0,    0,    0,    0,    0,\n",
       "          0,    0,    0,    0,    0,    0,    0,    0,    0,    0,    0,\n",
       "          0,    0,    0,    0,    0,    0,    0,    0,    0,    0,    0,\n",
       "          0,    0,    0,    0,    0])"
      ]
     },
     "execution_count": 20,
     "metadata": {},
     "output_type": "execute_result"
    }
   ],
   "source": [
    "test_X[0]"
   ]
  },
  {
   "cell_type": "markdown",
   "metadata": {},
   "source": [
    "**Question:** In the cells above we use the `preprocess_data` and `convert_and_pad_data` methods to process both the training and testing set. Why or why not might this be a problem?"
   ]
  },
  {
   "cell_type": "markdown",
   "metadata": {},
   "source": [
    "**Answer:** We need to use this two methods at both the training and testing set, in order to be sure that there are not to long reviews (>500) at our sets. This will be very \"memory needy\""
   ]
  },
  {
   "cell_type": "markdown",
   "metadata": {},
   "source": [
    "## Step 3: Upload the data to S3\n",
    "\n",
    "As in the XGBoost notebook, we will need to upload the training dataset to S3 in order for our training code to access it. For now we will save it locally and we will upload to S3 later on.\n",
    "\n",
    "### Save the processed training dataset locally\n",
    "\n",
    "It is important to note the format of the data that we are saving as we will need to know it when we write the training code. In our case, each row of the dataset has the form `label`, `length`, `review[500]` where `review[500]` is a sequence of `500` integers representing the words in the review."
   ]
  },
  {
   "cell_type": "code",
   "execution_count": 21,
   "metadata": {},
   "outputs": [],
   "source": [
    "import pandas as pd\n",
    "    \n",
    "pd.concat([pd.DataFrame(train_y), pd.DataFrame(train_X_len), pd.DataFrame(train_X)], axis=1) \\\n",
    "        .to_csv(os.path.join(data_dir, 'train.csv'), header=False, index=False)"
   ]
  },
  {
   "cell_type": "markdown",
   "metadata": {},
   "source": [
    "### Uploading the training data\n",
    "\n",
    "\n",
    "Next, we need to upload the training data to the SageMaker default S3 bucket so that we can provide access to it while training our model."
   ]
  },
  {
   "cell_type": "code",
   "execution_count": 22,
   "metadata": {},
   "outputs": [],
   "source": [
    "import sagemaker\n",
    "\n",
    "sagemaker_session = sagemaker.Session()\n",
    "\n",
    "bucket = sagemaker_session.default_bucket()\n",
    "prefix = 'sagemaker/sentiment_rnn'\n",
    "\n",
    "role = sagemaker.get_execution_role()"
   ]
  },
  {
   "cell_type": "code",
   "execution_count": 23,
   "metadata": {},
   "outputs": [],
   "source": [
    "input_data = sagemaker_session.upload_data(path=data_dir, bucket=bucket, key_prefix=prefix)"
   ]
  },
  {
   "cell_type": "markdown",
   "metadata": {},
   "source": [
    "**NOTE:** The cell above uploads the entire contents of our data directory. This includes the `word_dict.pkl` file. This is fortunate as we will need this later on when we create an endpoint that accepts an arbitrary review. For now, we will just take note of the fact that it resides in the data directory (and so also in the S3 training bucket) and that we will need to make sure it gets saved in the model directory."
   ]
  },
  {
   "cell_type": "markdown",
   "metadata": {},
   "source": [
    "## Step 4: Build and Train the PyTorch Model\n",
    "\n",
    "In the XGBoost notebook we discussed what a model is in the SageMaker framework. In particular, a model comprises three objects\n",
    "\n",
    " - Model Artifacts,\n",
    " - Training Code, and\n",
    " - Inference Code,\n",
    " \n",
    "each of which interact with one another. In the XGBoost example we used training and inference code that was provided by Amazon. Here we will still be using containers provided by Amazon with the added benefit of being able to include our own custom code.\n",
    "\n",
    "We will start by implementing our own neural network in PyTorch along with a training script. For the purposes of this project we have provided the necessary model object in the `model.py` file, inside of the `train` folder. You can see the provided implementation by running the cell below."
   ]
  },
  {
   "cell_type": "code",
   "execution_count": 24,
   "metadata": {},
   "outputs": [
    {
     "name": "stdout",
     "output_type": "stream",
     "text": [
      "\u001b[34mimport\u001b[39;49;00m \u001b[04m\u001b[36mtorch.nn\u001b[39;49;00m \u001b[34mas\u001b[39;49;00m \u001b[04m\u001b[36mnn\u001b[39;49;00m\r\n",
      "\r\n",
      "\u001b[34mclass\u001b[39;49;00m \u001b[04m\u001b[32mLSTMClassifier\u001b[39;49;00m(nn.Module):\r\n",
      "    \u001b[33m\"\"\"\u001b[39;49;00m\r\n",
      "\u001b[33m    This is the simple RNN model we will be using to perform Sentiment Analysis.\u001b[39;49;00m\r\n",
      "\u001b[33m    \"\"\"\u001b[39;49;00m\r\n",
      "\r\n",
      "    \u001b[34mdef\u001b[39;49;00m \u001b[32m__init__\u001b[39;49;00m(\u001b[36mself\u001b[39;49;00m, embedding_dim, hidden_dim, vocab_size):\r\n",
      "        \u001b[33m\"\"\"\u001b[39;49;00m\r\n",
      "\u001b[33m        Initialize the model by settingg up the various layers.\u001b[39;49;00m\r\n",
      "\u001b[33m        \"\"\"\u001b[39;49;00m\r\n",
      "        \u001b[36msuper\u001b[39;49;00m(LSTMClassifier, \u001b[36mself\u001b[39;49;00m).\u001b[32m__init__\u001b[39;49;00m()\r\n",
      "\r\n",
      "        \u001b[36mself\u001b[39;49;00m.embedding = nn.Embedding(vocab_size, embedding_dim, padding_idx=\u001b[34m0\u001b[39;49;00m)\r\n",
      "        \u001b[36mself\u001b[39;49;00m.lstm = nn.LSTM(embedding_dim, hidden_dim)\r\n",
      "        \u001b[36mself\u001b[39;49;00m.dense = nn.Linear(in_features=hidden_dim, out_features=\u001b[34m1\u001b[39;49;00m)\r\n",
      "        \u001b[36mself\u001b[39;49;00m.sig = nn.Sigmoid()\r\n",
      "        \r\n",
      "        \u001b[36mself\u001b[39;49;00m.word_dict = \u001b[36mNone\u001b[39;49;00m\r\n",
      "\r\n",
      "    \u001b[34mdef\u001b[39;49;00m \u001b[32mforward\u001b[39;49;00m(\u001b[36mself\u001b[39;49;00m, x):\r\n",
      "        \u001b[33m\"\"\"\u001b[39;49;00m\r\n",
      "\u001b[33m        Perform a forward pass of our model on some input.\u001b[39;49;00m\r\n",
      "\u001b[33m        \"\"\"\u001b[39;49;00m\r\n",
      "        x = x.t()\r\n",
      "        lengths = x[\u001b[34m0\u001b[39;49;00m,:]\r\n",
      "        reviews = x[\u001b[34m1\u001b[39;49;00m:,:]\r\n",
      "        embeds = \u001b[36mself\u001b[39;49;00m.embedding(reviews)\r\n",
      "        lstm_out, _ = \u001b[36mself\u001b[39;49;00m.lstm(embeds)\r\n",
      "        out = \u001b[36mself\u001b[39;49;00m.dense(lstm_out)\r\n",
      "        out = out[lengths - \u001b[34m1\u001b[39;49;00m, \u001b[36mrange\u001b[39;49;00m(\u001b[36mlen\u001b[39;49;00m(lengths))]\r\n",
      "        \u001b[34mreturn\u001b[39;49;00m \u001b[36mself\u001b[39;49;00m.sig(out.squeeze())\r\n"
     ]
    }
   ],
   "source": [
    "!pygmentize train/model.py"
   ]
  },
  {
   "cell_type": "markdown",
   "metadata": {},
   "source": [
    "The important takeaway from the implementation provided is that there are three parameters that we may wish to tweak to improve the performance of our model. These are the embedding dimension, the hidden dimension and the size of the vocabulary. We will likely want to make these parameters configurable in the training script so that if we wish to modify them we do not need to modify the script itself. We will see how to do this later on. To start we will write some of the training code in the notebook so that we can more easily diagnose any issues that arise.\n",
    "\n",
    "First we will load a small portion of the training data set to use as a sample. It would be very time consuming to try and train the model completely in the notebook as we do not have access to a gpu and the compute instance that we are using is not particularly powerful. However, we can work on a small bit of the data to get a feel for how our training script is behaving."
   ]
  },
  {
   "cell_type": "code",
   "execution_count": 25,
   "metadata": {},
   "outputs": [],
   "source": [
    "import pandas as pd\n",
    "import numpy as np\n",
    "import torch\n",
    "import torch.utils.data\n",
    "import sagemaker\n",
    "import nltk\n",
    "from nltk.corpus import stopwords\n",
    "from nltk.stem.porter import *\n",
    "\n",
    "import re\n",
    "from bs4 import BeautifulSoup\n",
    "import os\n",
    "\n",
    "data_dir = '../data/pytorch' # The folder we will use for storing data\n",
    "\n",
    "\n",
    "# Read in only the first 250 rows\n",
    "train_sample = pd.read_csv(os.path.join(data_dir, 'train.csv'), header=None, names=None, nrows=250)\n",
    "\n",
    "# Turn the input pandas dataframe into tensors\n",
    "train_sample_y = torch.from_numpy(train_sample[[0]].values).float().squeeze()\n",
    "train_sample_X = torch.from_numpy(train_sample.drop([0], axis=1).values).long()\n",
    "\n",
    "# Build the dataset\n",
    "train_sample_ds = torch.utils.data.TensorDataset(train_sample_X, train_sample_y)\n",
    "# Build the dataloader\n",
    "train_sample_dl = torch.utils.data.DataLoader(train_sample_ds, batch_size=50)"
   ]
  },
  {
   "cell_type": "markdown",
   "metadata": {},
   "source": [
    "### (TODO) Writing the training method\n",
    "\n",
    "Next we need to write the training code itself. This should be very similar to training methods that you have written before to train PyTorch models. We will leave any difficult aspects such as model saving / loading and parameter loading until a little later."
   ]
  },
  {
   "cell_type": "code",
   "execution_count": 26,
   "metadata": {},
   "outputs": [],
   "source": [
    "def train(model, train_loader, epochs, optimizer, loss_fn, device):\n",
    "    for epoch in range(1, epochs + 1):\n",
    "        model.train()\n",
    "        total_loss = 0\n",
    "        for batch in train_loader:         \n",
    "            batch_X, batch_y = batch\n",
    "            \n",
    "            batch_X = batch_X.to(device)\n",
    "            batch_y = batch_y.to(device)\n",
    "            \n",
    "            # TODO: Complete this train method to train the model provided.\n",
    "            optimizer.zero_grad()\n",
    "            out = model.forward(batch_X)\n",
    "            loss = loss_fn(out, batch_y)\n",
    "            loss.backward()\n",
    "            optimizer.step()\n",
    "            total_loss += loss.data.item()\n",
    "        print(\"Epoch: {}, BCELoss: {}\".format(epoch, total_loss / len(train_loader)))"
   ]
  },
  {
   "cell_type": "markdown",
   "metadata": {},
   "source": [
    "Supposing we have the training method above, we will test that it is working by writing a bit of code in the notebook that executes our training method on the small sample training set that we loaded earlier. The reason for doing this in the notebook is so that we have an opportunity to fix any errors that arise early when they are easier to diagnose."
   ]
  },
  {
   "cell_type": "code",
   "execution_count": 27,
   "metadata": {},
   "outputs": [
    {
     "name": "stdout",
     "output_type": "stream",
     "text": [
      "Epoch: 1, BCELoss: 0.6938227534294128\n",
      "Epoch: 2, BCELoss: 0.6831270813941955\n",
      "Epoch: 3, BCELoss: 0.6737309217453002\n",
      "Epoch: 4, BCELoss: 0.6632820725440979\n",
      "Epoch: 5, BCELoss: 0.6506091117858886\n"
     ]
    }
   ],
   "source": [
    "import torch.optim as optim\n",
    "from train.model import LSTMClassifier\n",
    "\n",
    "device = torch.device(\"cuda\" if torch.cuda.is_available() else \"cpu\")\n",
    "model = LSTMClassifier(32, 100, 5000).to(device)\n",
    "optimizer = optim.Adam(model.parameters())\n",
    "loss_fn = torch.nn.BCELoss()\n",
    "\n",
    "train(model, train_sample_dl, 5, optimizer, loss_fn, device)"
   ]
  },
  {
   "cell_type": "markdown",
   "metadata": {},
   "source": [
    "In order to construct a PyTorch model using SageMaker we must provide SageMaker with a training script. We may optionally include a directory which will be copied to the container and from which our training code will be run. When the training container is executed it will check the uploaded directory (if there is one) for a `requirements.txt` file and install any required Python libraries, after which the training script will be run."
   ]
  },
  {
   "cell_type": "markdown",
   "metadata": {},
   "source": [
    "### (TODO) Training the model\n",
    "\n",
    "When a PyTorch model is constructed in SageMaker, an entry point must be specified. This is the Python file which will be executed when the model is trained. Inside of the `train` directory is a file called `train.py` which has been provided and which contains most of the necessary code to train our model. The only thing that is missing is the implementation of the `train()` method which you wrote earlier in this notebook.\n",
    "\n",
    "**TODO**: Copy the `train()` method written above and paste it into the `train/train.py` file where required.\n",
    "\n",
    "The way that SageMaker passes hyperparameters to the training script is by way of arguments. These arguments can then be parsed and used in the training script. To see how this is done take a look at the provided `train/train.py` file."
   ]
  },
  {
   "cell_type": "code",
   "execution_count": 28,
   "metadata": {},
   "outputs": [],
   "source": [
    "from sagemaker.pytorch import PyTorch\n",
    "\n",
    "estimator = PyTorch(entry_point=\"train.py\",\n",
    "                    source_dir=\"train\",\n",
    "                    role=role,\n",
    "                    framework_version='0.4.0',\n",
    "                    train_instance_count=1,\n",
    "                    train_instance_type='ml.m4.xlarge',\n",
    "                    hyperparameters={\n",
    "                        'epochs': 10,\n",
    "                        'hidden_dim': 200,\n",
    "                    })"
   ]
  },
  {
   "cell_type": "code",
   "execution_count": 29,
   "metadata": {},
   "outputs": [
    {
     "name": "stdout",
     "output_type": "stream",
     "text": [
      "2020-05-24 07:26:27 Starting - Starting the training job...\n",
      "2020-05-24 07:26:29 Starting - Launching requested ML instances......\n",
      "2020-05-24 07:27:30 Starting - Preparing the instances for training...\n",
      "2020-05-24 07:28:13 Downloading - Downloading input data...\n",
      "2020-05-24 07:28:41 Training - Downloading the training image..\u001b[34mbash: cannot set terminal process group (-1): Inappropriate ioctl for device\u001b[0m\n",
      "\u001b[34mbash: no job control in this shell\u001b[0m\n",
      "\u001b[34m2020-05-24 07:29:00,465 sagemaker-containers INFO     Imported framework sagemaker_pytorch_container.training\u001b[0m\n",
      "\u001b[34m2020-05-24 07:29:00,468 sagemaker-containers INFO     No GPUs detected (normal if no gpus installed)\u001b[0m\n",
      "\u001b[34m2020-05-24 07:29:00,495 sagemaker_pytorch_container.training INFO     Block until all host DNS lookups succeed.\u001b[0m\n",
      "\u001b[34m2020-05-24 07:29:01,911 sagemaker_pytorch_container.training INFO     Invoking user training script.\u001b[0m\n",
      "\u001b[34m2020-05-24 07:29:02,138 sagemaker-containers INFO     Module train does not provide a setup.py. \u001b[0m\n",
      "\u001b[34mGenerating setup.py\u001b[0m\n",
      "\u001b[34m2020-05-24 07:29:02,138 sagemaker-containers INFO     Generating setup.cfg\u001b[0m\n",
      "\u001b[34m2020-05-24 07:29:02,138 sagemaker-containers INFO     Generating MANIFEST.in\u001b[0m\n",
      "\u001b[34m2020-05-24 07:29:02,139 sagemaker-containers INFO     Installing module with the following command:\u001b[0m\n",
      "\u001b[34m/usr/bin/python -m pip install -U . -r requirements.txt\u001b[0m\n",
      "\u001b[34mProcessing /opt/ml/code\u001b[0m\n",
      "\u001b[34mCollecting pandas (from -r requirements.txt (line 1))\n",
      "  Downloading https://files.pythonhosted.org/packages/74/24/0cdbf8907e1e3bc5a8da03345c23cbed7044330bb8f73bb12e711a640a00/pandas-0.24.2-cp35-cp35m-manylinux1_x86_64.whl (10.0MB)\u001b[0m\n",
      "\u001b[34mCollecting numpy (from -r requirements.txt (line 2))\u001b[0m\n",
      "\u001b[34m  Downloading https://files.pythonhosted.org/packages/38/92/fa5295d9755c7876cb8490eab866e1780154033fa45978d9cf74ffbd4c68/numpy-1.18.4-cp35-cp35m-manylinux1_x86_64.whl (20.0MB)\u001b[0m\n",
      "\u001b[34mCollecting nltk (from -r requirements.txt (line 3))\u001b[0m\n",
      "\u001b[34m  Downloading https://files.pythonhosted.org/packages/92/75/ce35194d8e3022203cca0d2f896dbb88689f9b3fce8e9f9cff942913519d/nltk-3.5.zip (1.4MB)\u001b[0m\n",
      "\u001b[34mCollecting beautifulsoup4 (from -r requirements.txt (line 4))\n",
      "  Downloading https://files.pythonhosted.org/packages/66/25/ff030e2437265616a1e9b25ccc864e0371a0bc3adb7c5a404fd661c6f4f6/beautifulsoup4-4.9.1-py3-none-any.whl (115kB)\u001b[0m\n",
      "\u001b[34mCollecting html5lib (from -r requirements.txt (line 5))\n",
      "  Downloading https://files.pythonhosted.org/packages/a5/62/bbd2be0e7943ec8504b517e62bab011b4946e1258842bc159e5dfde15b96/html5lib-1.0.1-py2.py3-none-any.whl (117kB)\u001b[0m\n",
      "\u001b[34mRequirement already satisfied, skipping upgrade: python-dateutil>=2.5.0 in /usr/local/lib/python3.5/dist-packages (from pandas->-r requirements.txt (line 1)) (2.7.5)\u001b[0m\n",
      "\u001b[34mCollecting pytz>=2011k (from pandas->-r requirements.txt (line 1))\n",
      "  Downloading https://files.pythonhosted.org/packages/4f/a4/879454d49688e2fad93e59d7d4efda580b783c745fd2ec2a3adf87b0808d/pytz-2020.1-py2.py3-none-any.whl (510kB)\u001b[0m\n",
      "\u001b[34mRequirement already satisfied, skipping upgrade: click in /usr/local/lib/python3.5/dist-packages (from nltk->-r requirements.txt (line 3)) (7.0)\u001b[0m\n",
      "\u001b[34mCollecting joblib (from nltk->-r requirements.txt (line 3))\n",
      "  Downloading https://files.pythonhosted.org/packages/28/5c/cf6a2b65a321c4a209efcdf64c2689efae2cb62661f8f6f4bb28547cf1bf/joblib-0.14.1-py2.py3-none-any.whl (294kB)\u001b[0m\n",
      "\u001b[34mCollecting regex (from nltk->-r requirements.txt (line 3))\u001b[0m\n",
      "\u001b[34m  Downloading https://files.pythonhosted.org/packages/14/8d/d44863d358e9dba3bdfb06099bbbeddbac8fb360773ba73250a849af4b01/regex-2020.5.14.tar.gz (696kB)\u001b[0m\n",
      "\u001b[34mCollecting tqdm (from nltk->-r requirements.txt (line 3))\n",
      "  Downloading https://files.pythonhosted.org/packages/c9/40/058b12e8ba10e35f89c9b1fdfc2d4c7f8c05947df2d5eb3c7b258019fda0/tqdm-4.46.0-py2.py3-none-any.whl (63kB)\u001b[0m\n",
      "\u001b[34mCollecting soupsieve>1.2 (from beautifulsoup4->-r requirements.txt (line 4))\n",
      "  Downloading https://files.pythonhosted.org/packages/6f/8f/457f4a5390eeae1cc3aeab89deb7724c965be841ffca6cfca9197482e470/soupsieve-2.0.1-py3-none-any.whl\u001b[0m\n",
      "\u001b[34mRequirement already satisfied, skipping upgrade: six>=1.9 in /usr/local/lib/python3.5/dist-packages (from html5lib->-r requirements.txt (line 5)) (1.11.0)\u001b[0m\n",
      "\u001b[34mCollecting webencodings (from html5lib->-r requirements.txt (line 5))\n",
      "  Downloading https://files.pythonhosted.org/packages/f4/24/2a3e3df732393fed8b3ebf2ec078f05546de641fe1b667ee316ec1dcf3b7/webencodings-0.5.1-py2.py3-none-any.whl\u001b[0m\n",
      "\u001b[34mBuilding wheels for collected packages: nltk, train, regex\n",
      "  Running setup.py bdist_wheel for nltk: started\n",
      "  Running setup.py bdist_wheel for nltk: finished with status 'done'\n",
      "  Stored in directory: /root/.cache/pip/wheels/ae/8c/3f/b1fe0ba04555b08b57ab52ab7f86023639a526d8bc8d384306\n",
      "  Running setup.py bdist_wheel for train: started\u001b[0m\n",
      "\u001b[34m  Running setup.py bdist_wheel for train: finished with status 'done'\n",
      "  Stored in directory: /tmp/pip-ephem-wheel-cache-8cs1auju/wheels/35/24/16/37574d11bf9bde50616c67372a334f94fa8356bc7164af8ca3\n",
      "  Running setup.py bdist_wheel for regex: started\u001b[0m\n",
      "\n",
      "2020-05-24 07:29:00 Training - Training image download completed. Training in progress.\u001b[34m  Running setup.py bdist_wheel for regex: finished with status 'done'\n",
      "  Stored in directory: /root/.cache/pip/wheels/ee/3a/5c/1f0ce151d6ddeee56e03e933603e21b5b8dcc727989fde82f5\u001b[0m\n",
      "\u001b[34mSuccessfully built nltk train regex\u001b[0m\n",
      "\u001b[34mInstalling collected packages: pytz, numpy, pandas, joblib, regex, tqdm, nltk, soupsieve, beautifulsoup4, webencodings, html5lib, train\n",
      "  Found existing installation: numpy 1.15.4\n",
      "    Uninstalling numpy-1.15.4:\u001b[0m\n",
      "\u001b[34m      Successfully uninstalled numpy-1.15.4\u001b[0m\n",
      "\u001b[34mSuccessfully installed beautifulsoup4-4.9.1 html5lib-1.0.1 joblib-0.14.1 nltk-3.5 numpy-1.18.4 pandas-0.24.2 pytz-2020.1 regex-2020.5.14 soupsieve-2.0.1 tqdm-4.46.0 train-1.0.0 webencodings-0.5.1\u001b[0m\n",
      "\u001b[34mYou are using pip version 18.1, however version 20.2b1 is available.\u001b[0m\n",
      "\u001b[34mYou should consider upgrading via the 'pip install --upgrade pip' command.\u001b[0m\n",
      "\u001b[34m2020-05-24 07:29:23,508 sagemaker-containers INFO     No GPUs detected (normal if no gpus installed)\u001b[0m\n",
      "\u001b[34m2020-05-24 07:29:23,522 sagemaker-containers INFO     Invoking user script\n",
      "\u001b[0m\n",
      "\u001b[34mTraining Env:\n",
      "\u001b[0m\n",
      "\u001b[34m{\n",
      "    \"output_data_dir\": \"/opt/ml/output/data\",\n",
      "    \"log_level\": 20,\n",
      "    \"additional_framework_parameters\": {},\n",
      "    \"network_interface_name\": \"eth0\",\n",
      "    \"job_name\": \"sagemaker-pytorch-2020-05-24-07-26-26-886\",\n",
      "    \"num_cpus\": 4,\n",
      "    \"input_dir\": \"/opt/ml/input\",\n",
      "    \"resource_config\": {\n",
      "        \"hosts\": [\n",
      "            \"algo-1\"\n",
      "        ],\n",
      "        \"current_host\": \"algo-1\",\n",
      "        \"network_interface_name\": \"eth0\"\n",
      "    },\n",
      "    \"hosts\": [\n",
      "        \"algo-1\"\n",
      "    ],\n",
      "    \"module_name\": \"train\",\n",
      "    \"user_entry_point\": \"train.py\",\n",
      "    \"output_intermediate_dir\": \"/opt/ml/output/intermediate\",\n",
      "    \"num_gpus\": 0,\n",
      "    \"output_dir\": \"/opt/ml/output\",\n",
      "    \"framework_module\": \"sagemaker_pytorch_container.training:main\",\n",
      "    \"current_host\": \"algo-1\",\n",
      "    \"module_dir\": \"s3://sagemaker-eu-central-1-033898215755/sagemaker-pytorch-2020-05-24-07-26-26-886/source/sourcedir.tar.gz\",\n",
      "    \"hyperparameters\": {\n",
      "        \"epochs\": 10,\n",
      "        \"hidden_dim\": 200\n",
      "    },\n",
      "    \"input_config_dir\": \"/opt/ml/input/config\",\n",
      "    \"input_data_config\": {\n",
      "        \"training\": {\n",
      "            \"S3DistributionType\": \"FullyReplicated\",\n",
      "            \"TrainingInputMode\": \"File\",\n",
      "            \"RecordWrapperType\": \"None\"\n",
      "        }\n",
      "    },\n",
      "    \"channel_input_dirs\": {\n",
      "        \"training\": \"/opt/ml/input/data/training\"\n",
      "    },\n",
      "    \"model_dir\": \"/opt/ml/model\"\u001b[0m\n",
      "\u001b[34m}\n",
      "\u001b[0m\n",
      "\u001b[34mEnvironment variables:\n",
      "\u001b[0m\n",
      "\u001b[34mSM_FRAMEWORK_PARAMS={}\u001b[0m\n",
      "\u001b[34mSM_MODULE_DIR=s3://sagemaker-eu-central-1-033898215755/sagemaker-pytorch-2020-05-24-07-26-26-886/source/sourcedir.tar.gz\u001b[0m\n",
      "\u001b[34mSM_NETWORK_INTERFACE_NAME=eth0\u001b[0m\n",
      "\u001b[34mSM_HPS={\"epochs\":10,\"hidden_dim\":200}\u001b[0m\n",
      "\u001b[34mSM_HP_HIDDEN_DIM=200\u001b[0m\n",
      "\u001b[34mSM_HOSTS=[\"algo-1\"]\u001b[0m\n",
      "\u001b[34mSM_USER_ARGS=[\"--epochs\",\"10\",\"--hidden_dim\",\"200\"]\u001b[0m\n",
      "\u001b[34mSM_OUTPUT_DATA_DIR=/opt/ml/output/data\u001b[0m\n",
      "\u001b[34mSM_MODULE_NAME=train\u001b[0m\n",
      "\u001b[34mSM_CHANNELS=[\"training\"]\u001b[0m\n",
      "\u001b[34mSM_CURRENT_HOST=algo-1\u001b[0m\n",
      "\u001b[34mSM_FRAMEWORK_MODULE=sagemaker_pytorch_container.training:main\u001b[0m\n",
      "\u001b[34mSM_MODEL_DIR=/opt/ml/model\u001b[0m\n",
      "\u001b[34mSM_CHANNEL_TRAINING=/opt/ml/input/data/training\u001b[0m\n",
      "\u001b[34mSM_NUM_CPUS=4\u001b[0m\n",
      "\u001b[34mSM_RESOURCE_CONFIG={\"current_host\":\"algo-1\",\"hosts\":[\"algo-1\"],\"network_interface_name\":\"eth0\"}\u001b[0m\n",
      "\u001b[34mSM_LOG_LEVEL=20\u001b[0m\n",
      "\u001b[34mSM_HP_EPOCHS=10\u001b[0m\n",
      "\u001b[34mSM_USER_ENTRY_POINT=train.py\u001b[0m\n",
      "\u001b[34mSM_OUTPUT_DIR=/opt/ml/output\u001b[0m\n",
      "\u001b[34mSM_TRAINING_ENV={\"additional_framework_parameters\":{},\"channel_input_dirs\":{\"training\":\"/opt/ml/input/data/training\"},\"current_host\":\"algo-1\",\"framework_module\":\"sagemaker_pytorch_container.training:main\",\"hosts\":[\"algo-1\"],\"hyperparameters\":{\"epochs\":10,\"hidden_dim\":200},\"input_config_dir\":\"/opt/ml/input/config\",\"input_data_config\":{\"training\":{\"RecordWrapperType\":\"None\",\"S3DistributionType\":\"FullyReplicated\",\"TrainingInputMode\":\"File\"}},\"input_dir\":\"/opt/ml/input\",\"job_name\":\"sagemaker-pytorch-2020-05-24-07-26-26-886\",\"log_level\":20,\"model_dir\":\"/opt/ml/model\",\"module_dir\":\"s3://sagemaker-eu-central-1-033898215755/sagemaker-pytorch-2020-05-24-07-26-26-886/source/sourcedir.tar.gz\",\"module_name\":\"train\",\"network_interface_name\":\"eth0\",\"num_cpus\":4,\"num_gpus\":0,\"output_data_dir\":\"/opt/ml/output/data\",\"output_dir\":\"/opt/ml/output\",\"output_intermediate_dir\":\"/opt/ml/output/intermediate\",\"resource_config\":{\"current_host\":\"algo-1\",\"hosts\":[\"algo-1\"],\"network_interface_name\":\"eth0\"},\"user_entry_point\":\"train.py\"}\u001b[0m\n",
      "\u001b[34mPYTHONPATH=/usr/local/bin:/usr/lib/python35.zip:/usr/lib/python3.5:/usr/lib/python3.5/plat-x86_64-linux-gnu:/usr/lib/python3.5/lib-dynload:/usr/local/lib/python3.5/dist-packages:/usr/lib/python3/dist-packages\u001b[0m\n",
      "\u001b[34mSM_NUM_GPUS=0\u001b[0m\n",
      "\u001b[34mSM_INPUT_DATA_CONFIG={\"training\":{\"RecordWrapperType\":\"None\",\"S3DistributionType\":\"FullyReplicated\",\"TrainingInputMode\":\"File\"}}\u001b[0m\n",
      "\u001b[34mSM_INPUT_DIR=/opt/ml/input\u001b[0m\n",
      "\u001b[34mSM_INPUT_CONFIG_DIR=/opt/ml/input/config\u001b[0m\n",
      "\u001b[34mSM_OUTPUT_INTERMEDIATE_DIR=/opt/ml/output/intermediate\n",
      "\u001b[0m\n",
      "\u001b[34mInvoking script with the following command:\n",
      "\u001b[0m\n",
      "\u001b[34m/usr/bin/python -m train --epochs 10 --hidden_dim 200\n",
      "\n",
      "\u001b[0m\n",
      "\u001b[34mUsing device cpu.\u001b[0m\n",
      "\u001b[34mGet train data loader.\u001b[0m\n",
      "\u001b[34mModel loaded with embedding_dim 32, hidden_dim 200, vocab_size 5000.\u001b[0m\n"
     ]
    },
    {
     "name": "stdout",
     "output_type": "stream",
     "text": [
      "\u001b[34mEpoch: 1, BCELoss: 0.6681659404112368\u001b[0m\n",
      "\u001b[34mEpoch: 2, BCELoss: 0.604073782356418\u001b[0m\n",
      "\u001b[34mEpoch: 3, BCELoss: 0.5782096604911648\u001b[0m\n",
      "\u001b[34mEpoch: 4, BCELoss: 0.4742094418224023\u001b[0m\n",
      "\u001b[34mEpoch: 5, BCELoss: 0.42005464982013313\u001b[0m\n",
      "\u001b[34mEpoch: 6, BCELoss: 0.37687120693070547\u001b[0m\n",
      "\u001b[34mEpoch: 7, BCELoss: 0.3668539305122531\u001b[0m\n",
      "\u001b[34mEpoch: 8, BCELoss: 0.32296440552692024\u001b[0m\n",
      "\u001b[34mEpoch: 9, BCELoss: 0.3398856532816984\u001b[0m\n",
      "\u001b[34mEpoch: 10, BCELoss: 0.29470132169674856\u001b[0m\n",
      "\u001b[34m2020-05-24 09:18:24,308 sagemaker-containers INFO     Reporting training SUCCESS\u001b[0m\n",
      "\n",
      "2020-05-24 09:18:31 Uploading - Uploading generated training model\n",
      "2020-05-24 09:18:31 Completed - Training job completed\n",
      "Training seconds: 6618\n",
      "Billable seconds: 6618\n"
     ]
    }
   ],
   "source": [
    "estimator.fit({'training': input_data})"
   ]
  },
  {
   "cell_type": "markdown",
   "metadata": {},
   "source": [
    "## Step 5: Testing the model\n",
    "\n",
    "As mentioned at the top of this notebook, we will be testing this model by first deploying it and then sending the testing data to the deployed endpoint. We will do this so that we can make sure that the deployed model is working correctly.\n",
    "\n",
    "## Step 6: Deploy the model for testing\n",
    "\n",
    "Now that we have trained our model, we would like to test it to see how it performs. Currently our model takes input of the form `review_length, review[500]` where `review[500]` is a sequence of `500` integers which describe the words present in the review, encoded using `word_dict`. Fortunately for us, SageMaker provides built-in inference code for models with simple inputs such as this.\n",
    "\n",
    "There is one thing that we need to provide, however, and that is a function which loads the saved model. This function must be called `model_fn()` and takes as its only parameter a path to the directory where the model artifacts are stored. This function must also be present in the python file which we specified as the entry point. In our case the model loading function has been provided and so no changes need to be made.\n",
    "\n",
    "**NOTE**: When the built-in inference code is run it must import the `model_fn()` method from the `train.py` file. This is why the training code is wrapped in a main guard ( ie, `if __name__ == '__main__':` )\n",
    "\n",
    "Since we don't need to change anything in the code that was uploaded during training, we can simply deploy the current model as-is.\n",
    "\n",
    "**NOTE:** When deploying a model you are asking SageMaker to launch an compute instance that will wait for data to be sent to it. As a result, this compute instance will continue to run until *you* shut it down. This is important to know since the cost of a deployed endpoint depends on how long it has been running for.\n",
    "\n",
    "In other words **If you are no longer using a deployed endpoint, shut it down!**\n",
    "\n",
    "**TODO:** Deploy the trained model."
   ]
  },
  {
   "cell_type": "code",
   "execution_count": 30,
   "metadata": {},
   "outputs": [
    {
     "name": "stdout",
     "output_type": "stream",
     "text": [
      "---------------!"
     ]
    }
   ],
   "source": [
    "# TODO: Deploy the trained model\n",
    "predictor=estimator.deploy(initial_instance_count=1, instance_type='ml.m4.xlarge')\n"
   ]
  },
  {
   "cell_type": "markdown",
   "metadata": {},
   "source": [
    "## Step 7 - Use the model for testing\n",
    "\n",
    "Once deployed, we can read in the test data and send it off to our deployed model to get some results. Once we collect all of the results we can determine how accurate our model is."
   ]
  },
  {
   "cell_type": "code",
   "execution_count": 31,
   "metadata": {},
   "outputs": [],
   "source": [
    "test_X = pd.concat([pd.DataFrame(test_X_len), pd.DataFrame(test_X)], axis=1)"
   ]
  },
  {
   "cell_type": "code",
   "execution_count": 32,
   "metadata": {},
   "outputs": [],
   "source": [
    "# We split the data into chunks and send each chunk seperately, accumulating the results.\n",
    "\n",
    "def predict(data, rows=512):\n",
    "    split_array = np.array_split(data, int(data.shape[0] / float(rows) + 1))\n",
    "    predictions = np.array([])\n",
    "    for array in split_array:\n",
    "        predictions = np.append(predictions, predictor.predict(array))\n",
    "    \n",
    "    return predictions"
   ]
  },
  {
   "cell_type": "code",
   "execution_count": 33,
   "metadata": {},
   "outputs": [],
   "source": [
    "predictions = predict(test_X.values)\n",
    "predictions = [round(num) for num in predictions]"
   ]
  },
  {
   "cell_type": "code",
   "execution_count": 34,
   "metadata": {},
   "outputs": [
    {
     "data": {
      "text/plain": [
       "0.85536"
      ]
     },
     "execution_count": 34,
     "metadata": {},
     "output_type": "execute_result"
    }
   ],
   "source": [
    "from sklearn.metrics import accuracy_score\n",
    "accuracy_score(test_y, predictions)"
   ]
  },
  {
   "cell_type": "markdown",
   "metadata": {},
   "source": [
    "**Question:** How does this model compare to the XGBoost model you created earlier? Why might these two models perform differently on this dataset? Which do *you* think is better for sentiment analysis?"
   ]
  },
  {
   "cell_type": "markdown",
   "metadata": {},
   "source": [
    "**Answer:**The XGBoost model had an accuracy of 0.85. Both model produces have almost same performance"
   ]
  },
  {
   "cell_type": "markdown",
   "metadata": {},
   "source": [
    "### (TODO) More testing\n",
    "\n",
    "We now have a trained model which has been deployed and which we can send processed reviews to and which returns the predicted sentiment. However, ultimately we would like to be able to send our model an unprocessed review. That is, we would like to send the review itself as a string. For example, suppose we wish to send the following review to our model."
   ]
  },
  {
   "cell_type": "code",
   "execution_count": 35,
   "metadata": {},
   "outputs": [],
   "source": [
    "test_review = 'The simplest pleasures in life are the best, and this film is one of them. Combining a rather basic storyline of love and adventure this movie transcends the usual weekend fair with wit and unmitigated charm.'\n"
   ]
  },
  {
   "cell_type": "markdown",
   "metadata": {},
   "source": [
    "The question we now need to answer is, how do we send this review to our model?\n",
    "\n",
    "Recall in the first section of this notebook we did a bunch of data processing to the IMDb dataset. In particular, we did two specific things to the provided reviews.\n",
    " - Removed any html tags and stemmed the input\n",
    " - Encoded the review as a sequence of integers using `word_dict`\n",
    " \n",
    "In order process the review we will need to repeat these two steps.\n",
    "\n",
    "**TODO**: Using the `review_to_words` and `convert_and_pad` methods from section one, convert `test_review` into a numpy array `test_data` suitable to send to our model. Remember that our model expects input of the form `review_length, review[500]`."
   ]
  },
  {
   "cell_type": "code",
   "execution_count": 36,
   "metadata": {},
   "outputs": [],
   "source": [
    "# TODO: Convert test_review into a form usable by the model and save the results in test_data\n",
    "test_data = None\n",
    "test_data=review_to_words(test_review)\n",
    "test_data=np.array(convert_and_pad(word_dict,test_data)[0])"
   ]
  },
  {
   "cell_type": "markdown",
   "metadata": {},
   "source": [
    "Now that we have processed the review, we can send the resulting array to our model to predict the sentiment of the review."
   ]
  },
  {
   "cell_type": "code",
   "execution_count": 42,
   "metadata": {},
   "outputs": [
    {
     "data": {
      "text/plain": [
       "array(0.63457346, dtype=float32)"
      ]
     },
     "execution_count": 42,
     "metadata": {},
     "output_type": "execute_result"
    }
   ],
   "source": [
    "predictor.predict(np.reshape(test_data, (1,500)))"
   ]
  },
  {
   "cell_type": "markdown",
   "metadata": {},
   "source": [
    "Since the return value of our model is close to `1`, we can be certain that the review we submitted is positive."
   ]
  },
  {
   "cell_type": "markdown",
   "metadata": {},
   "source": [
    "### Delete the endpoint\n",
    "\n",
    "Of course, just like in the XGBoost notebook, once we've deployed an endpoint it continues to run until we tell it to shut down. Since we are done using our endpoint for now, we can delete it."
   ]
  },
  {
   "cell_type": "code",
   "execution_count": 43,
   "metadata": {},
   "outputs": [],
   "source": [
    "estimator.delete_endpoint()"
   ]
  },
  {
   "cell_type": "markdown",
   "metadata": {},
   "source": [
    "## Step 6 (again) - Deploy the model for the web app\n",
    "\n",
    "Now that we know that our model is working, it's time to create some custom inference code so that we can send the model a review which has not been processed and have it determine the sentiment of the review.\n",
    "\n",
    "As we saw above, by default the estimator which we created, when deployed, will use the entry script and directory which we provided when creating the model. However, since we now wish to accept a string as input and our model expects a processed review, we need to write some custom inference code.\n",
    "\n",
    "We will store the code that we write in the `serve` directory. Provided in this directory is the `model.py` file that we used to construct our model, a `utils.py` file which contains the `review_to_words` and `convert_and_pad` pre-processing functions which we used during the initial data processing, and `predict.py`, the file which will contain our custom inference code. Note also that `requirements.txt` is present which will tell SageMaker what Python libraries are required by our custom inference code.\n",
    "\n",
    "When deploying a PyTorch model in SageMaker, you are expected to provide four functions which the SageMaker inference container will use.\n",
    " - `model_fn`: This function is the same function that we used in the training script and it tells SageMaker how to load our model.\n",
    " - `input_fn`: This function receives the raw serialized input that has been sent to the model's endpoint and its job is to de-serialize and make the input available for the inference code.\n",
    " - `output_fn`: This function takes the output of the inference code and its job is to serialize this output and return it to the caller of the model's endpoint.\n",
    " - `predict_fn`: The heart of the inference script, this is where the actual prediction is done and is the function which you will need to complete.\n",
    "\n",
    "For the simple website that we are constructing during this project, the `input_fn` and `output_fn` methods are relatively straightforward. We only require being able to accept a string as input and we expect to return a single value as output. You might imagine though that in a more complex application the input or output may be image data or some other binary data which would require some effort to serialize.\n",
    "\n",
    "### (TODO) Writing inference code\n",
    "\n",
    "Before writing our custom inference code, we will begin by taking a look at the code which has been provided."
   ]
  },
  {
   "cell_type": "code",
   "execution_count": 29,
   "metadata": {},
   "outputs": [
    {
     "name": "stdout",
     "output_type": "stream",
     "text": [
      "\u001b[34mimport\u001b[39;49;00m \u001b[04m\u001b[36margparse\u001b[39;49;00m\r\n",
      "\u001b[34mimport\u001b[39;49;00m \u001b[04m\u001b[36mjson\u001b[39;49;00m\r\n",
      "\u001b[34mimport\u001b[39;49;00m \u001b[04m\u001b[36mos\u001b[39;49;00m\r\n",
      "\u001b[34mimport\u001b[39;49;00m \u001b[04m\u001b[36mpickle\u001b[39;49;00m\r\n",
      "\u001b[34mimport\u001b[39;49;00m \u001b[04m\u001b[36msys\u001b[39;49;00m\r\n",
      "\u001b[34mimport\u001b[39;49;00m \u001b[04m\u001b[36msagemaker_containers\u001b[39;49;00m\r\n",
      "\u001b[34mimport\u001b[39;49;00m \u001b[04m\u001b[36mpandas\u001b[39;49;00m \u001b[34mas\u001b[39;49;00m \u001b[04m\u001b[36mpd\u001b[39;49;00m\r\n",
      "\u001b[34mimport\u001b[39;49;00m \u001b[04m\u001b[36mnumpy\u001b[39;49;00m \u001b[34mas\u001b[39;49;00m \u001b[04m\u001b[36mnp\u001b[39;49;00m\r\n",
      "\u001b[34mimport\u001b[39;49;00m \u001b[04m\u001b[36mtorch\u001b[39;49;00m\r\n",
      "\u001b[34mimport\u001b[39;49;00m \u001b[04m\u001b[36mtorch.nn\u001b[39;49;00m \u001b[34mas\u001b[39;49;00m \u001b[04m\u001b[36mnn\u001b[39;49;00m\r\n",
      "\u001b[34mimport\u001b[39;49;00m \u001b[04m\u001b[36mtorch.optim\u001b[39;49;00m \u001b[34mas\u001b[39;49;00m \u001b[04m\u001b[36moptim\u001b[39;49;00m\r\n",
      "\u001b[34mimport\u001b[39;49;00m \u001b[04m\u001b[36mtorch.utils.data\u001b[39;49;00m\r\n",
      "\r\n",
      "\u001b[34mfrom\u001b[39;49;00m \u001b[04m\u001b[36mmodel\u001b[39;49;00m \u001b[34mimport\u001b[39;49;00m LSTMClassifier\r\n",
      "\r\n",
      "\u001b[34mfrom\u001b[39;49;00m \u001b[04m\u001b[36mutils\u001b[39;49;00m \u001b[34mimport\u001b[39;49;00m review_to_words, convert_and_pad\r\n",
      "\r\n",
      "\u001b[34mdef\u001b[39;49;00m \u001b[32mmodel_fn\u001b[39;49;00m(model_dir):\r\n",
      "    \u001b[33m\"\"\"Load the PyTorch model from the `model_dir` directory.\"\"\"\u001b[39;49;00m\r\n",
      "    \u001b[34mprint\u001b[39;49;00m(\u001b[33m\"\u001b[39;49;00m\u001b[33mLoading model.\u001b[39;49;00m\u001b[33m\"\u001b[39;49;00m)\r\n",
      "\r\n",
      "    \u001b[37m# First, load the parameters used to create the model.\u001b[39;49;00m\r\n",
      "    model_info = {}\r\n",
      "    model_info_path = os.path.join(model_dir, \u001b[33m'\u001b[39;49;00m\u001b[33mmodel_info.pth\u001b[39;49;00m\u001b[33m'\u001b[39;49;00m)\r\n",
      "    \u001b[34mwith\u001b[39;49;00m \u001b[36mopen\u001b[39;49;00m(model_info_path, \u001b[33m'\u001b[39;49;00m\u001b[33mrb\u001b[39;49;00m\u001b[33m'\u001b[39;49;00m) \u001b[34mas\u001b[39;49;00m f:\r\n",
      "        model_info = torch.load(f)\r\n",
      "\r\n",
      "    \u001b[34mprint\u001b[39;49;00m(\u001b[33m\"\u001b[39;49;00m\u001b[33mmodel_info: {}\u001b[39;49;00m\u001b[33m\"\u001b[39;49;00m.format(model_info))\r\n",
      "\r\n",
      "    \u001b[37m# Determine the device and construct the model.\u001b[39;49;00m\r\n",
      "    device = torch.device(\u001b[33m\"\u001b[39;49;00m\u001b[33mcuda\u001b[39;49;00m\u001b[33m\"\u001b[39;49;00m \u001b[34mif\u001b[39;49;00m torch.cuda.is_available() \u001b[34melse\u001b[39;49;00m \u001b[33m\"\u001b[39;49;00m\u001b[33mcpu\u001b[39;49;00m\u001b[33m\"\u001b[39;49;00m)\r\n",
      "    model = LSTMClassifier(model_info[\u001b[33m'\u001b[39;49;00m\u001b[33membedding_dim\u001b[39;49;00m\u001b[33m'\u001b[39;49;00m], model_info[\u001b[33m'\u001b[39;49;00m\u001b[33mhidden_dim\u001b[39;49;00m\u001b[33m'\u001b[39;49;00m], model_info[\u001b[33m'\u001b[39;49;00m\u001b[33mvocab_size\u001b[39;49;00m\u001b[33m'\u001b[39;49;00m])\r\n",
      "\r\n",
      "    \u001b[37m# Load the store model parameters.\u001b[39;49;00m\r\n",
      "    model_path = os.path.join(model_dir, \u001b[33m'\u001b[39;49;00m\u001b[33mmodel.pth\u001b[39;49;00m\u001b[33m'\u001b[39;49;00m)\r\n",
      "    \u001b[34mwith\u001b[39;49;00m \u001b[36mopen\u001b[39;49;00m(model_path, \u001b[33m'\u001b[39;49;00m\u001b[33mrb\u001b[39;49;00m\u001b[33m'\u001b[39;49;00m) \u001b[34mas\u001b[39;49;00m f:\r\n",
      "        model.load_state_dict(torch.load(f))\r\n",
      "\r\n",
      "    \u001b[37m# Load the saved word_dict.\u001b[39;49;00m\r\n",
      "    word_dict_path = os.path.join(model_dir, \u001b[33m'\u001b[39;49;00m\u001b[33mword_dict.pkl\u001b[39;49;00m\u001b[33m'\u001b[39;49;00m)\r\n",
      "    \u001b[34mwith\u001b[39;49;00m \u001b[36mopen\u001b[39;49;00m(word_dict_path, \u001b[33m'\u001b[39;49;00m\u001b[33mrb\u001b[39;49;00m\u001b[33m'\u001b[39;49;00m) \u001b[34mas\u001b[39;49;00m f:\r\n",
      "        model.word_dict = pickle.load(f)\r\n",
      "\r\n",
      "    model.to(device).eval()\r\n",
      "\r\n",
      "    \u001b[34mprint\u001b[39;49;00m(\u001b[33m\"\u001b[39;49;00m\u001b[33mDone loading model.\u001b[39;49;00m\u001b[33m\"\u001b[39;49;00m)\r\n",
      "    \u001b[34mreturn\u001b[39;49;00m model\r\n",
      "\r\n",
      "\u001b[34mdef\u001b[39;49;00m \u001b[32minput_fn\u001b[39;49;00m(serialized_input_data, content_type):\r\n",
      "    \u001b[34mprint\u001b[39;49;00m(\u001b[33m'\u001b[39;49;00m\u001b[33mDeserializing the input data.\u001b[39;49;00m\u001b[33m'\u001b[39;49;00m)\r\n",
      "    \u001b[34mif\u001b[39;49;00m content_type == \u001b[33m'\u001b[39;49;00m\u001b[33mtext/plain\u001b[39;49;00m\u001b[33m'\u001b[39;49;00m:\r\n",
      "        data = serialized_input_data.decode(\u001b[33m'\u001b[39;49;00m\u001b[33mutf-8\u001b[39;49;00m\u001b[33m'\u001b[39;49;00m)\r\n",
      "        \u001b[34mreturn\u001b[39;49;00m data\r\n",
      "    \u001b[34mraise\u001b[39;49;00m \u001b[36mException\u001b[39;49;00m(\u001b[33m'\u001b[39;49;00m\u001b[33mRequested unsupported ContentType in content_type: \u001b[39;49;00m\u001b[33m'\u001b[39;49;00m + content_type)\r\n",
      "\r\n",
      "\u001b[34mdef\u001b[39;49;00m \u001b[32moutput_fn\u001b[39;49;00m(prediction_output, accept):\r\n",
      "    \u001b[34mprint\u001b[39;49;00m(\u001b[33m'\u001b[39;49;00m\u001b[33mSerializing the generated output.\u001b[39;49;00m\u001b[33m'\u001b[39;49;00m)\r\n",
      "    \u001b[34mreturn\u001b[39;49;00m \u001b[36mstr\u001b[39;49;00m(prediction_output)\r\n",
      "\r\n",
      "\u001b[34mdef\u001b[39;49;00m \u001b[32mpredict_fn\u001b[39;49;00m(input_data, model):\r\n",
      "    \u001b[34mprint\u001b[39;49;00m(\u001b[33m'\u001b[39;49;00m\u001b[33mInferring sentiment of input data.\u001b[39;49;00m\u001b[33m'\u001b[39;49;00m)\r\n",
      "\r\n",
      "    device = torch.device(\u001b[33m\"\u001b[39;49;00m\u001b[33mcuda\u001b[39;49;00m\u001b[33m\"\u001b[39;49;00m \u001b[34mif\u001b[39;49;00m torch.cuda.is_available() \u001b[34melse\u001b[39;49;00m \u001b[33m\"\u001b[39;49;00m\u001b[33mcpu\u001b[39;49;00m\u001b[33m\"\u001b[39;49;00m)\r\n",
      "    \r\n",
      "    \u001b[34mif\u001b[39;49;00m model.word_dict \u001b[35mis\u001b[39;49;00m \u001b[36mNone\u001b[39;49;00m:\r\n",
      "        \u001b[34mraise\u001b[39;49;00m \u001b[36mException\u001b[39;49;00m(\u001b[33m'\u001b[39;49;00m\u001b[33mModel has not been loaded properly, no word_dict.\u001b[39;49;00m\u001b[33m'\u001b[39;49;00m)\r\n",
      "    \r\n",
      "    \u001b[37m# TODO: Process input_data so that it is ready to be sent to our model.\u001b[39;49;00m\r\n",
      "    \u001b[37m#       You should produce two variables:\u001b[39;49;00m\r\n",
      "    \u001b[37m#         data_X   - A sequence of length 500 which represents the converted review\u001b[39;49;00m\r\n",
      "    \u001b[37m#         data_len - The length of the review\u001b[39;49;00m\r\n",
      "\r\n",
      "    data_X ,data_len = convert_and_pad(model.word_dict, review_to_words(input_data))\r\n",
      "\r\n",
      "    \u001b[37m# Using data_X and data_len we construct an appropriate input tensor. Remember\u001b[39;49;00m\r\n",
      "    \u001b[37m# that our model expects input data of the form 'len, review[500]'.\u001b[39;49;00m\r\n",
      "    data_pack = np.hstack((data_len, data_X))\r\n",
      "    data_pack = data_pack.reshape(\u001b[34m1\u001b[39;49;00m, -\u001b[34m1\u001b[39;49;00m)\r\n",
      "    \r\n",
      "    data = torch.from_numpy(data_pack)\r\n",
      "    data = data.to(device)\r\n",
      "\r\n",
      "    \u001b[37m# Make sure to put the model into evaluation mode\u001b[39;49;00m\r\n",
      "    model.eval()\r\n",
      "\r\n",
      "    \u001b[37m# TODO: Compute the result of applying the model to the input data. The variable `result` should\u001b[39;49;00m\r\n",
      "    \u001b[37m#       be a numpy array which contains a single integer which is either 1 or 0\u001b[39;49;00m\r\n",
      "\r\n",
      "    \u001b[34mwith\u001b[39;49;00m torch.no_grad():\r\n",
      "        output = model.forward(data)\r\n",
      "        \r\n",
      "    result = \u001b[36mint\u001b[39;49;00m(np.round(output.numpy()))\r\n",
      "\r\n",
      "    \u001b[34mreturn\u001b[39;49;00m result\r\n"
     ]
    }
   ],
   "source": [
    "!pygmentize serve/predict.py"
   ]
  },
  {
   "cell_type": "markdown",
   "metadata": {},
   "source": [
    "As mentioned earlier, the `model_fn` method is the same as the one provided in the training code and the `input_fn` and `output_fn` methods are very simple and your task will be to complete the `predict_fn` method. Make sure that you save the completed file as `predict.py` in the `serve` directory.\n",
    "\n",
    "**TODO**: Complete the `predict_fn()` method in the `serve/predict.py` file."
   ]
  },
  {
   "cell_type": "markdown",
   "metadata": {},
   "source": [
    "### Deploying the model\n",
    "\n",
    "Now that the custom inference code has been written, we will create and deploy our model. To begin with, we need to construct a new PyTorchModel object which points to the model artifacts created during training and also points to the inference code that we wish to use. Then we can call the deploy method to launch the deployment container.\n",
    "\n",
    "**NOTE**: The default behaviour for a deployed PyTorch model is to assume that any input passed to the predictor is a `numpy` array. In our case we want to send a string so we need to construct a simple wrapper around the `RealTimePredictor` class to accomodate simple strings. In a more complicated situation you may want to provide a serialization object, for example if you wanted to sent image data."
   ]
  },
  {
   "cell_type": "code",
   "execution_count": 30,
   "metadata": {},
   "outputs": [
    {
     "name": "stdout",
     "output_type": "stream",
     "text": [
      "-------------!"
     ]
    }
   ],
   "source": [
    "from sagemaker.predictor import RealTimePredictor\n",
    "from sagemaker.pytorch import PyTorchModel\n",
    "\n",
    "class StringPredictor(RealTimePredictor):\n",
    "    def __init__(self, endpoint_name, sagemaker_session):\n",
    "        super(StringPredictor, self).__init__(endpoint_name, sagemaker_session, content_type='text/plain')\n",
    "\n",
    "model = PyTorchModel(model_data='s3://sagemaker-eu-central-1-033898215755/sagemaker-pytorch-2020-04-24-16-43-08-126/output/model.tar.gz',\n",
    "                     role = role,\n",
    "                     framework_version='0.4.0',\n",
    "                     entry_point='predict.py',\n",
    "                     source_dir='serve',\n",
    "                     predictor_cls=StringPredictor)\n",
    "predictor = model.deploy(initial_instance_count=1, instance_type='ml.m4.xlarge')"
   ]
  },
  {
   "cell_type": "markdown",
   "metadata": {},
   "source": [
    "### Testing the model\n",
    "\n",
    "Now that we have deployed our model with the custom inference code, we should test to see if everything is working. Here we test our model by loading the first `250` positive and negative reviews and send them to the endpoint, then collect the results. The reason for only sending some of the data is that the amount of time it takes for our model to process the input and then perform inference is quite long and so testing the entire data set would be prohibitive."
   ]
  },
  {
   "cell_type": "code",
   "execution_count": 41,
   "metadata": {},
   "outputs": [],
   "source": [
    "import glob\n",
    "\n",
    "def test_reviews(data_dir='../data/aclImdb', stop=250):\n",
    "    \n",
    "    results = []\n",
    "    ground = []\n",
    "    \n",
    "    # We make sure to test both positive and negative reviews    \n",
    "    for sentiment in ['pos', 'neg']:\n",
    "        \n",
    "        path = os.path.join(data_dir, 'test', sentiment, '*.txt')\n",
    "        files = glob.glob(path)\n",
    "        \n",
    "        files_read = 0\n",
    "        \n",
    "        print('Starting ', sentiment, ' files')\n",
    "        \n",
    "        # Iterate through the files and send them to the predictor\n",
    "        for f in files:\n",
    "            with open(f) as review:\n",
    "                # First, we store the ground truth (was the review positive or negative)\n",
    "                if sentiment == 'pos':\n",
    "                    ground.append(1)\n",
    "                else:\n",
    "                    ground.append(0)\n",
    "                # Read in the review and convert to 'utf-8' for transmission via HTTP\n",
    "                review_input = review.read().encode('utf-8')\n",
    "                # Send the review to the predictor and store the results\n",
    "                results.append(float(predictor.predict(review_input)))\n",
    "                \n",
    "            # Sending reviews to our endpoint one at a time takes a while so we\n",
    "            # only send a small number of reviews\n",
    "            files_read += 1\n",
    "            if files_read == stop:\n",
    "                break\n",
    "            \n",
    "    return ground, results"
   ]
  },
  {
   "cell_type": "code",
   "execution_count": 42,
   "metadata": {
    "scrolled": true
   },
   "outputs": [
    {
     "name": "stdout",
     "output_type": "stream",
     "text": [
      "Starting  pos  files\n",
      "Starting  neg  files\n"
     ]
    }
   ],
   "source": [
    "ground, results = test_reviews()"
   ]
  },
  {
   "cell_type": "code",
   "execution_count": 43,
   "metadata": {},
   "outputs": [
    {
     "data": {
      "text/plain": [
       "0.862"
      ]
     },
     "execution_count": 43,
     "metadata": {},
     "output_type": "execute_result"
    }
   ],
   "source": [
    "from sklearn.metrics import accuracy_score\n",
    "accuracy_score(ground, results)"
   ]
  },
  {
   "cell_type": "markdown",
   "metadata": {},
   "source": [
    "As an additional test, we can try sending the `test_review` that we looked at earlier."
   ]
  },
  {
   "cell_type": "code",
   "execution_count": 44,
   "metadata": {},
   "outputs": [
    {
     "data": {
      "text/plain": [
       "b'1.0'"
      ]
     },
     "execution_count": 44,
     "metadata": {},
     "output_type": "execute_result"
    }
   ],
   "source": [
    "predictor.predict(test_review)"
   ]
  },
  {
   "cell_type": "markdown",
   "metadata": {},
   "source": [
    "Now that we know our endpoint is working as expected, we can set up the web page that will interact with it. If you don't have time to finish the project now, make sure to skip down to the end of this notebook and shut down your endpoint. You can deploy it again when you come back."
   ]
  },
  {
   "cell_type": "markdown",
   "metadata": {},
   "source": [
    "## Step 7 (again): Use the model for the web app\n",
    "\n",
    "> **TODO:** This entire section and the next contain tasks for you to complete, mostly using the AWS console.\n",
    "\n",
    "So far we have been accessing our model endpoint by constructing a predictor object which uses the endpoint and then just using the predictor object to perform inference. What if we wanted to create a web app which accessed our model? The way things are set up currently makes that not possible since in order to access a SageMaker endpoint the app would first have to authenticate with AWS using an IAM role which included access to SageMaker endpoints. However, there is an easier way! We just need to use some additional AWS services.\n",
    "\n",
    "<img src=\"Web App Diagram.svg\">\n",
    "\n",
    "The diagram above gives an overview of how the various services will work together. On the far right is the model which we trained above and which is deployed using SageMaker. On the far left is our web app that collects a user's movie review, sends it off and expects a positive or negative sentiment in return.\n",
    "\n",
    "In the middle is where some of the magic happens. We will construct a Lambda function, which you can think of as a straightforward Python function that can be executed whenever a specified event occurs. We will give this function permission to send and recieve data from a SageMaker endpoint.\n",
    "\n",
    "Lastly, the method we will use to execute the Lambda function is a new endpoint that we will create using API Gateway. This endpoint will be a url that listens for data to be sent to it. Once it gets some data it will pass that data on to the Lambda function and then return whatever the Lambda function returns. Essentially it will act as an interface that lets our web app communicate with the Lambda function.\n",
    "\n",
    "### Setting up a Lambda function\n",
    "\n",
    "The first thing we are going to do is set up a Lambda function. This Lambda function will be executed whenever our public API has data sent to it. When it is executed it will receive the data, perform any sort of processing that is required, send the data (the review) to the SageMaker endpoint we've created and then return the result.\n",
    "\n",
    "#### Part A: Create an IAM Role for the Lambda function\n",
    "\n",
    "Since we want the Lambda function to call a SageMaker endpoint, we need to make sure that it has permission to do so. To do this, we will construct a role that we can later give the Lambda function.\n",
    "\n",
    "Using the AWS Console, navigate to the **IAM** page and click on **Roles**. Then, click on **Create role**. Make sure that the **AWS service** is the type of trusted entity selected and choose **Lambda** as the service that will use this role, then click **Next: Permissions**.\n",
    "\n",
    "In the search box type `sagemaker` and select the check box next to the **AmazonSageMakerFullAccess** policy. Then, click on **Next: Review**.\n",
    "\n",
    "Lastly, give this role a name. Make sure you use a name that you will remember later on, for example `LambdaSageMakerRole`. Then, click on **Create role**.\n",
    "\n",
    "#### Part B: Create a Lambda function\n",
    "\n",
    "Now it is time to actually create the Lambda function.\n",
    "\n",
    "Using the AWS Console, navigate to the AWS Lambda page and click on **Create a function**. When you get to the next page, make sure that **Author from scratch** is selected. Now, name your Lambda function, using a name that you will remember later on, for example `sentiment_analysis_func`. Make sure that the **Python 3.6** runtime is selected and then choose the role that you created in the previous part. Then, click on **Create Function**.\n",
    "\n",
    "On the next page you will see some information about the Lambda function you've just created. If you scroll down you should see an editor in which you can write the code that will be executed when your Lambda function is triggered. In our example, we will use the code below. \n",
    "\n",
    "```python\n",
    "# We need to use the low-level library to interact with SageMaker since the SageMaker API\n",
    "# is not available natively through Lambda.\n",
    "import boto3\n",
    "\n",
    "def lambda_handler(event, context):\n",
    "\n",
    "    # The SageMaker runtime is what allows us to invoke the endpoint that we've created.\n",
    "    runtime = boto3.Session().client('sagemaker-runtime')\n",
    "\n",
    "    # Now we use the SageMaker runtime to invoke our endpoint, sending the review we were given\n",
    "    response = runtime.invoke_endpoint(EndpointName = '**ENDPOINT NAME HERE**',    # The name of the endpoint we created\n",
    "                                       ContentType = 'text/plain',                 # The data format that is expected\n",
    "                                       Body = event['body'])                       # The actual review\n",
    "\n",
    "    # The response is an HTTP response whose body contains the result of our inference\n",
    "    result = response['Body'].read().decode('utf-8')\n",
    "\n",
    "    return {\n",
    "        'statusCode' : 200,\n",
    "        'headers' : { 'Content-Type' : 'text/plain', 'Access-Control-Allow-Origin' : '*' },\n",
    "        'body' : result\n",
    "    }\n",
    "```\n",
    "\n",
    "Once you have copy and pasted the code above into the Lambda code editor, replace the `**ENDPOINT NAME HERE**` portion with the name of the endpoint that we deployed earlier. You can determine the name of the endpoint using the code cell below."
   ]
  },
  {
   "cell_type": "code",
   "execution_count": 31,
   "metadata": {},
   "outputs": [
    {
     "data": {
      "text/plain": [
       "'sagemaker-pytorch-2020-05-22-14-43-06-329'"
      ]
     },
     "execution_count": 31,
     "metadata": {},
     "output_type": "execute_result"
    }
   ],
   "source": [
    "predictor.endpoint"
   ]
  },
  {
   "cell_type": "markdown",
   "metadata": {},
   "source": [
    "Once you have added the endpoint name to the Lambda function, click on **Save**. Your Lambda function is now up and running. Next we need to create a way for our web app to execute the Lambda function.\n",
    "\n",
    "### Setting up API Gateway\n",
    "\n",
    "Now that our Lambda function is set up, it is time to create a new API using API Gateway that will trigger the Lambda function we have just created.\n",
    "\n",
    "Using AWS Console, navigate to **Amazon API Gateway** and then click on **Get started**.\n",
    "\n",
    "On the next page, make sure that **New API** is selected and give the new api a name, for example, `sentiment_analysis_api`. Then, click on **Create API**.\n",
    "\n",
    "Now we have created an API, however it doesn't currently do anything. What we want it to do is to trigger the Lambda function that we created earlier.\n",
    "\n",
    "Select the **Actions** dropdown menu and click **Create Method**. A new blank method will be created, select its dropdown menu and select **POST**, then click on the check mark beside it.\n",
    "\n",
    "For the integration point, make sure that **Lambda Function** is selected and click on the **Use Lambda Proxy integration**. This option makes sure that the data that is sent to the API is then sent directly to the Lambda function with no processing. It also means that the return value must be a proper response object as it will also not be processed by API Gateway.\n",
    "\n",
    "Type the name of the Lambda function you created earlier into the **Lambda Function** text entry box and then click on **Save**. Click on **OK** in the pop-up box that then appears, giving permission to API Gateway to invoke the Lambda function you created.\n",
    "\n",
    "The last step in creating the API Gateway is to select the **Actions** dropdown and click on **Deploy API**. You will need to create a new Deployment stage and name it anything you like, for example `prod`.\n",
    "\n",
    "You have now successfully set up a public API to access your SageMaker model. Make sure to copy or write down the URL provided to invoke your newly created public API as this will be needed in the next step. This URL can be found at the top of the page, highlighted in blue next to the text **Invoke URL**."
   ]
  },
  {
   "cell_type": "markdown",
   "metadata": {},
   "source": [
    "## Step 4: Deploying our web app\n",
    "\n",
    "Now that we have a publicly available API, we can start using it in a web app. For our purposes, we have provided a simple static html file which can make use of the public api you created earlier.\n",
    "\n",
    "In the `website` folder there should be a file called `index.html`. Download the file to your computer and open that file up in a text editor of your choice. There should be a line which contains **\\*\\*REPLACE WITH PUBLIC API URL\\*\\***. Replace this string with the url that you wrote down in the last step and then save the file.\n",
    "\n",
    "Now, if you open `index.html` on your local computer, your browser will behave as a local web server and you can use the provided site to interact with your SageMaker model.\n",
    "\n",
    "If you'd like to go further, you can host this html file anywhere you'd like, for example using github or hosting a static site on Amazon's S3. Once you have done this you can share the link with anyone you'd like and have them play with it too!\n",
    "\n",
    "> **Important Note** In order for the web app to communicate with the SageMaker endpoint, the endpoint has to actually be deployed and running. This means that you are paying for it. Make sure that the endpoint is running when you want to use the web app but that you shut it down when you don't need it, otherwise you will end up with a surprisingly large AWS bill.\n",
    "\n",
    "**TODO:** Make sure that you include the edited `index.html` file in your project submission."
   ]
  },
  {
   "cell_type": "markdown",
   "metadata": {},
   "source": [
    "Now that your web app is working, trying playing around with it and see how well it works.\n",
    "\n",
    "**Question**: Give an example of a review that you entered into your web app. What was the predicted sentiment of your example review?"
   ]
  },
  {
   "cell_type": "markdown",
   "metadata": {},
   "source": [
    "**Answer:** A tricky review was \"Not the best movie I have ever see\" . The model predict that this is a possitive review and I agree. After all \"not the best movie\" does not mean that it is a bad movie. At a more \"clear\" review \"A great movie\", the prediction was also \"positive\""
   ]
  },
  {
   "cell_type": "markdown",
   "metadata": {},
   "source": [
    "### Delete the endpoint\n",
    "\n",
    "Remember to always shut down your endpoint if you are no longer using it. You are charged for the length of time that the endpoint is running so if you forget and leave it on you could end up with an unexpectedly large bill."
   ]
  },
  {
   "cell_type": "code",
   "execution_count": 35,
   "metadata": {},
   "outputs": [
    {
     "ename": "ClientError",
     "evalue": "An error occurred (ValidationException) when calling the DeleteEndpoint operation: Could not find endpoint \"arn:aws:sagemaker:eu-central-1:033898215755:endpoint/sagemaker-pytorch-2020-05-17-09-17-43-282\".",
     "output_type": "error",
     "traceback": [
      "\u001b[0;31m---------------------------------------------------------------------------\u001b[0m",
      "\u001b[0;31mClientError\u001b[0m                               Traceback (most recent call last)",
      "\u001b[0;32m<ipython-input-35-9dbbcf45efe1>\u001b[0m in \u001b[0;36m<module>\u001b[0;34m()\u001b[0m\n\u001b[0;32m----> 1\u001b[0;31m \u001b[0mpredictor\u001b[0m\u001b[0;34m.\u001b[0m\u001b[0mdelete_endpoint\u001b[0m\u001b[0;34m(\u001b[0m\u001b[0;34m)\u001b[0m\u001b[0;34m\u001b[0m\u001b[0m\n\u001b[0m",
      "\u001b[0;32m~/anaconda3/envs/pytorch_p36/lib/python3.6/site-packages/sagemaker/predictor.py\u001b[0m in \u001b[0;36mdelete_endpoint\u001b[0;34m(self, delete_endpoint_config)\u001b[0m\n\u001b[1;32m    169\u001b[0m             \u001b[0mself\u001b[0m\u001b[0;34m.\u001b[0m\u001b[0m_delete_endpoint_config\u001b[0m\u001b[0;34m(\u001b[0m\u001b[0;34m)\u001b[0m\u001b[0;34m\u001b[0m\u001b[0m\n\u001b[1;32m    170\u001b[0m \u001b[0;34m\u001b[0m\u001b[0m\n\u001b[0;32m--> 171\u001b[0;31m         \u001b[0mself\u001b[0m\u001b[0;34m.\u001b[0m\u001b[0msagemaker_session\u001b[0m\u001b[0;34m.\u001b[0m\u001b[0mdelete_endpoint\u001b[0m\u001b[0;34m(\u001b[0m\u001b[0mself\u001b[0m\u001b[0;34m.\u001b[0m\u001b[0mendpoint\u001b[0m\u001b[0;34m)\u001b[0m\u001b[0;34m\u001b[0m\u001b[0m\n\u001b[0m\u001b[1;32m    172\u001b[0m \u001b[0;34m\u001b[0m\u001b[0m\n\u001b[1;32m    173\u001b[0m     \u001b[0;32mdef\u001b[0m \u001b[0mdelete_model\u001b[0m\u001b[0;34m(\u001b[0m\u001b[0mself\u001b[0m\u001b[0;34m)\u001b[0m\u001b[0;34m:\u001b[0m\u001b[0;34m\u001b[0m\u001b[0m\n",
      "\u001b[0;32m~/anaconda3/envs/pytorch_p36/lib/python3.6/site-packages/sagemaker/session.py\u001b[0m in \u001b[0;36mdelete_endpoint\u001b[0;34m(self, endpoint_name)\u001b[0m\n\u001b[1;32m   2447\u001b[0m         \"\"\"\n\u001b[1;32m   2448\u001b[0m         \u001b[0mLOGGER\u001b[0m\u001b[0;34m.\u001b[0m\u001b[0minfo\u001b[0m\u001b[0;34m(\u001b[0m\u001b[0;34m\"Deleting endpoint with name: %s\"\u001b[0m\u001b[0;34m,\u001b[0m \u001b[0mendpoint_name\u001b[0m\u001b[0;34m)\u001b[0m\u001b[0;34m\u001b[0m\u001b[0m\n\u001b[0;32m-> 2449\u001b[0;31m         \u001b[0mself\u001b[0m\u001b[0;34m.\u001b[0m\u001b[0msagemaker_client\u001b[0m\u001b[0;34m.\u001b[0m\u001b[0mdelete_endpoint\u001b[0m\u001b[0;34m(\u001b[0m\u001b[0mEndpointName\u001b[0m\u001b[0;34m=\u001b[0m\u001b[0mendpoint_name\u001b[0m\u001b[0;34m)\u001b[0m\u001b[0;34m\u001b[0m\u001b[0m\n\u001b[0m\u001b[1;32m   2450\u001b[0m \u001b[0;34m\u001b[0m\u001b[0m\n\u001b[1;32m   2451\u001b[0m     \u001b[0;32mdef\u001b[0m \u001b[0mdelete_endpoint_config\u001b[0m\u001b[0;34m(\u001b[0m\u001b[0mself\u001b[0m\u001b[0;34m,\u001b[0m \u001b[0mendpoint_config_name\u001b[0m\u001b[0;34m)\u001b[0m\u001b[0;34m:\u001b[0m\u001b[0;34m\u001b[0m\u001b[0m\n",
      "\u001b[0;32m~/anaconda3/envs/pytorch_p36/lib/python3.6/site-packages/botocore/client.py\u001b[0m in \u001b[0;36m_api_call\u001b[0;34m(self, *args, **kwargs)\u001b[0m\n\u001b[1;32m    314\u001b[0m                     \"%s() only accepts keyword arguments.\" % py_operation_name)\n\u001b[1;32m    315\u001b[0m             \u001b[0;31m# The \"self\" in this scope is referring to the BaseClient.\u001b[0m\u001b[0;34m\u001b[0m\u001b[0;34m\u001b[0m\u001b[0m\n\u001b[0;32m--> 316\u001b[0;31m             \u001b[0;32mreturn\u001b[0m \u001b[0mself\u001b[0m\u001b[0;34m.\u001b[0m\u001b[0m_make_api_call\u001b[0m\u001b[0;34m(\u001b[0m\u001b[0moperation_name\u001b[0m\u001b[0;34m,\u001b[0m \u001b[0mkwargs\u001b[0m\u001b[0;34m)\u001b[0m\u001b[0;34m\u001b[0m\u001b[0m\n\u001b[0m\u001b[1;32m    317\u001b[0m \u001b[0;34m\u001b[0m\u001b[0m\n\u001b[1;32m    318\u001b[0m         \u001b[0m_api_call\u001b[0m\u001b[0;34m.\u001b[0m\u001b[0m__name__\u001b[0m \u001b[0;34m=\u001b[0m \u001b[0mstr\u001b[0m\u001b[0;34m(\u001b[0m\u001b[0mpy_operation_name\u001b[0m\u001b[0;34m)\u001b[0m\u001b[0;34m\u001b[0m\u001b[0m\n",
      "\u001b[0;32m~/anaconda3/envs/pytorch_p36/lib/python3.6/site-packages/botocore/client.py\u001b[0m in \u001b[0;36m_make_api_call\u001b[0;34m(self, operation_name, api_params)\u001b[0m\n\u001b[1;32m    624\u001b[0m             \u001b[0merror_code\u001b[0m \u001b[0;34m=\u001b[0m \u001b[0mparsed_response\u001b[0m\u001b[0;34m.\u001b[0m\u001b[0mget\u001b[0m\u001b[0;34m(\u001b[0m\u001b[0;34m\"Error\"\u001b[0m\u001b[0;34m,\u001b[0m \u001b[0;34m{\u001b[0m\u001b[0;34m}\u001b[0m\u001b[0;34m)\u001b[0m\u001b[0;34m.\u001b[0m\u001b[0mget\u001b[0m\u001b[0;34m(\u001b[0m\u001b[0;34m\"Code\"\u001b[0m\u001b[0;34m)\u001b[0m\u001b[0;34m\u001b[0m\u001b[0m\n\u001b[1;32m    625\u001b[0m             \u001b[0merror_class\u001b[0m \u001b[0;34m=\u001b[0m \u001b[0mself\u001b[0m\u001b[0;34m.\u001b[0m\u001b[0mexceptions\u001b[0m\u001b[0;34m.\u001b[0m\u001b[0mfrom_code\u001b[0m\u001b[0;34m(\u001b[0m\u001b[0merror_code\u001b[0m\u001b[0;34m)\u001b[0m\u001b[0;34m\u001b[0m\u001b[0m\n\u001b[0;32m--> 626\u001b[0;31m             \u001b[0;32mraise\u001b[0m \u001b[0merror_class\u001b[0m\u001b[0;34m(\u001b[0m\u001b[0mparsed_response\u001b[0m\u001b[0;34m,\u001b[0m \u001b[0moperation_name\u001b[0m\u001b[0;34m)\u001b[0m\u001b[0;34m\u001b[0m\u001b[0m\n\u001b[0m\u001b[1;32m    627\u001b[0m         \u001b[0;32melse\u001b[0m\u001b[0;34m:\u001b[0m\u001b[0;34m\u001b[0m\u001b[0m\n\u001b[1;32m    628\u001b[0m             \u001b[0;32mreturn\u001b[0m \u001b[0mparsed_response\u001b[0m\u001b[0;34m\u001b[0m\u001b[0m\n",
      "\u001b[0;31mClientError\u001b[0m: An error occurred (ValidationException) when calling the DeleteEndpoint operation: Could not find endpoint \"arn:aws:sagemaker:eu-central-1:033898215755:endpoint/sagemaker-pytorch-2020-05-17-09-17-43-282\"."
     ]
    }
   ],
   "source": [
    "predictor.delete_endpoint()"
   ]
  },
  {
   "cell_type": "code",
   "execution_count": null,
   "metadata": {},
   "outputs": [],
   "source": []
  }
 ],
 "metadata": {
  "kernelspec": {
   "display_name": "conda_pytorch_p36",
   "language": "python",
   "name": "conda_pytorch_p36"
  },
  "language_info": {
   "codemirror_mode": {
    "name": "ipython",
    "version": 3
   },
   "file_extension": ".py",
   "mimetype": "text/x-python",
   "name": "python",
   "nbconvert_exporter": "python",
   "pygments_lexer": "ipython3",
   "version": "3.6.5"
  }
 },
 "nbformat": 4,
 "nbformat_minor": 2
}
